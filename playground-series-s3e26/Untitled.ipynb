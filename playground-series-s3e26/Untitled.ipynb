{
 "cells": [
  {
   "cell_type": "code",
   "execution_count": 242,
   "id": "2241ae7f",
   "metadata": {},
   "outputs": [],
   "source": [
    "import pandas as pd\n",
    "import numpy as np\n",
    "import seaborn as sns\n",
    "import matplotlib.pyplot as plt"
   ]
  },
  {
   "cell_type": "code",
   "execution_count": 243,
   "id": "6e5a6235",
   "metadata": {},
   "outputs": [],
   "source": [
    "df = pd.read_csv('train.csv')"
   ]
  },
  {
   "cell_type": "code",
   "execution_count": 244,
   "id": "e4350b02",
   "metadata": {},
   "outputs": [],
   "source": [
    "test = pd.read_csv('test.csv')"
   ]
  },
  {
   "cell_type": "code",
   "execution_count": 245,
   "id": "4bf1d8c3",
   "metadata": {},
   "outputs": [
    {
     "data": {
      "text/html": [
       "<div>\n",
       "<style scoped>\n",
       "    .dataframe tbody tr th:only-of-type {\n",
       "        vertical-align: middle;\n",
       "    }\n",
       "\n",
       "    .dataframe tbody tr th {\n",
       "        vertical-align: top;\n",
       "    }\n",
       "\n",
       "    .dataframe thead th {\n",
       "        text-align: right;\n",
       "    }\n",
       "</style>\n",
       "<table border=\"1\" class=\"dataframe\">\n",
       "  <thead>\n",
       "    <tr style=\"text-align: right;\">\n",
       "      <th></th>\n",
       "      <th>id</th>\n",
       "      <th>N_Days</th>\n",
       "      <th>Drug</th>\n",
       "      <th>Age</th>\n",
       "      <th>Sex</th>\n",
       "      <th>Ascites</th>\n",
       "      <th>Hepatomegaly</th>\n",
       "      <th>Spiders</th>\n",
       "      <th>Edema</th>\n",
       "      <th>Bilirubin</th>\n",
       "      <th>Cholesterol</th>\n",
       "      <th>Albumin</th>\n",
       "      <th>Copper</th>\n",
       "      <th>Alk_Phos</th>\n",
       "      <th>SGOT</th>\n",
       "      <th>Tryglicerides</th>\n",
       "      <th>Platelets</th>\n",
       "      <th>Prothrombin</th>\n",
       "      <th>Stage</th>\n",
       "      <th>Status</th>\n",
       "    </tr>\n",
       "  </thead>\n",
       "  <tbody>\n",
       "    <tr>\n",
       "      <th>0</th>\n",
       "      <td>0</td>\n",
       "      <td>999</td>\n",
       "      <td>D-penicillamine</td>\n",
       "      <td>21532</td>\n",
       "      <td>M</td>\n",
       "      <td>N</td>\n",
       "      <td>N</td>\n",
       "      <td>N</td>\n",
       "      <td>N</td>\n",
       "      <td>2.3</td>\n",
       "      <td>316.0</td>\n",
       "      <td>3.35</td>\n",
       "      <td>172.0</td>\n",
       "      <td>1601.0</td>\n",
       "      <td>179.80</td>\n",
       "      <td>63.0</td>\n",
       "      <td>394.0</td>\n",
       "      <td>9.7</td>\n",
       "      <td>3.0</td>\n",
       "      <td>D</td>\n",
       "    </tr>\n",
       "    <tr>\n",
       "      <th>1</th>\n",
       "      <td>1</td>\n",
       "      <td>2574</td>\n",
       "      <td>Placebo</td>\n",
       "      <td>19237</td>\n",
       "      <td>F</td>\n",
       "      <td>N</td>\n",
       "      <td>N</td>\n",
       "      <td>N</td>\n",
       "      <td>N</td>\n",
       "      <td>0.9</td>\n",
       "      <td>364.0</td>\n",
       "      <td>3.54</td>\n",
       "      <td>63.0</td>\n",
       "      <td>1440.0</td>\n",
       "      <td>134.85</td>\n",
       "      <td>88.0</td>\n",
       "      <td>361.0</td>\n",
       "      <td>11.0</td>\n",
       "      <td>3.0</td>\n",
       "      <td>C</td>\n",
       "    </tr>\n",
       "    <tr>\n",
       "      <th>2</th>\n",
       "      <td>2</td>\n",
       "      <td>3428</td>\n",
       "      <td>Placebo</td>\n",
       "      <td>13727</td>\n",
       "      <td>F</td>\n",
       "      <td>N</td>\n",
       "      <td>Y</td>\n",
       "      <td>Y</td>\n",
       "      <td>Y</td>\n",
       "      <td>3.3</td>\n",
       "      <td>299.0</td>\n",
       "      <td>3.55</td>\n",
       "      <td>131.0</td>\n",
       "      <td>1029.0</td>\n",
       "      <td>119.35</td>\n",
       "      <td>50.0</td>\n",
       "      <td>199.0</td>\n",
       "      <td>11.7</td>\n",
       "      <td>4.0</td>\n",
       "      <td>D</td>\n",
       "    </tr>\n",
       "    <tr>\n",
       "      <th>3</th>\n",
       "      <td>3</td>\n",
       "      <td>2576</td>\n",
       "      <td>Placebo</td>\n",
       "      <td>18460</td>\n",
       "      <td>F</td>\n",
       "      <td>N</td>\n",
       "      <td>N</td>\n",
       "      <td>N</td>\n",
       "      <td>N</td>\n",
       "      <td>0.6</td>\n",
       "      <td>256.0</td>\n",
       "      <td>3.50</td>\n",
       "      <td>58.0</td>\n",
       "      <td>1653.0</td>\n",
       "      <td>71.30</td>\n",
       "      <td>96.0</td>\n",
       "      <td>269.0</td>\n",
       "      <td>10.7</td>\n",
       "      <td>3.0</td>\n",
       "      <td>C</td>\n",
       "    </tr>\n",
       "    <tr>\n",
       "      <th>4</th>\n",
       "      <td>4</td>\n",
       "      <td>788</td>\n",
       "      <td>Placebo</td>\n",
       "      <td>16658</td>\n",
       "      <td>F</td>\n",
       "      <td>N</td>\n",
       "      <td>Y</td>\n",
       "      <td>N</td>\n",
       "      <td>N</td>\n",
       "      <td>1.1</td>\n",
       "      <td>346.0</td>\n",
       "      <td>3.65</td>\n",
       "      <td>63.0</td>\n",
       "      <td>1181.0</td>\n",
       "      <td>125.55</td>\n",
       "      <td>96.0</td>\n",
       "      <td>298.0</td>\n",
       "      <td>10.6</td>\n",
       "      <td>4.0</td>\n",
       "      <td>C</td>\n",
       "    </tr>\n",
       "  </tbody>\n",
       "</table>\n",
       "</div>"
      ],
      "text/plain": [
       "   id  N_Days             Drug    Age Sex Ascites Hepatomegaly Spiders Edema  \\\n",
       "0   0     999  D-penicillamine  21532   M       N            N       N     N   \n",
       "1   1    2574          Placebo  19237   F       N            N       N     N   \n",
       "2   2    3428          Placebo  13727   F       N            Y       Y     Y   \n",
       "3   3    2576          Placebo  18460   F       N            N       N     N   \n",
       "4   4     788          Placebo  16658   F       N            Y       N     N   \n",
       "\n",
       "   Bilirubin  Cholesterol  Albumin  Copper  Alk_Phos    SGOT  Tryglicerides  \\\n",
       "0        2.3        316.0     3.35   172.0    1601.0  179.80           63.0   \n",
       "1        0.9        364.0     3.54    63.0    1440.0  134.85           88.0   \n",
       "2        3.3        299.0     3.55   131.0    1029.0  119.35           50.0   \n",
       "3        0.6        256.0     3.50    58.0    1653.0   71.30           96.0   \n",
       "4        1.1        346.0     3.65    63.0    1181.0  125.55           96.0   \n",
       "\n",
       "   Platelets  Prothrombin  Stage Status  \n",
       "0      394.0          9.7    3.0      D  \n",
       "1      361.0         11.0    3.0      C  \n",
       "2      199.0         11.7    4.0      D  \n",
       "3      269.0         10.7    3.0      C  \n",
       "4      298.0         10.6    4.0      C  "
      ]
     },
     "execution_count": 245,
     "metadata": {},
     "output_type": "execute_result"
    }
   ],
   "source": [
    "df.head()"
   ]
  },
  {
   "cell_type": "code",
   "execution_count": 226,
   "id": "7e43b9b3",
   "metadata": {},
   "outputs": [
    {
     "data": {
      "text/html": [
       "<div>\n",
       "<style scoped>\n",
       "    .dataframe tbody tr th:only-of-type {\n",
       "        vertical-align: middle;\n",
       "    }\n",
       "\n",
       "    .dataframe tbody tr th {\n",
       "        vertical-align: top;\n",
       "    }\n",
       "\n",
       "    .dataframe thead th {\n",
       "        text-align: right;\n",
       "    }\n",
       "</style>\n",
       "<table border=\"1\" class=\"dataframe\">\n",
       "  <thead>\n",
       "    <tr style=\"text-align: right;\">\n",
       "      <th></th>\n",
       "      <th>id</th>\n",
       "      <th>N_Days</th>\n",
       "      <th>Drug</th>\n",
       "      <th>Age</th>\n",
       "      <th>Sex</th>\n",
       "      <th>Ascites</th>\n",
       "      <th>Hepatomegaly</th>\n",
       "      <th>Spiders</th>\n",
       "      <th>Edema</th>\n",
       "      <th>Bilirubin</th>\n",
       "      <th>Cholesterol</th>\n",
       "      <th>Albumin</th>\n",
       "      <th>Copper</th>\n",
       "      <th>Alk_Phos</th>\n",
       "      <th>SGOT</th>\n",
       "      <th>Tryglicerides</th>\n",
       "      <th>Platelets</th>\n",
       "      <th>Prothrombin</th>\n",
       "      <th>Stage</th>\n",
       "    </tr>\n",
       "  </thead>\n",
       "  <tbody>\n",
       "    <tr>\n",
       "      <th>0</th>\n",
       "      <td>7905</td>\n",
       "      <td>3839</td>\n",
       "      <td>D-penicillamine</td>\n",
       "      <td>19724</td>\n",
       "      <td>F</td>\n",
       "      <td>N</td>\n",
       "      <td>Y</td>\n",
       "      <td>N</td>\n",
       "      <td>N</td>\n",
       "      <td>1.2</td>\n",
       "      <td>546.0</td>\n",
       "      <td>3.37</td>\n",
       "      <td>65.0</td>\n",
       "      <td>1636.0</td>\n",
       "      <td>151.90</td>\n",
       "      <td>90.0</td>\n",
       "      <td>430.0</td>\n",
       "      <td>10.6</td>\n",
       "      <td>2.0</td>\n",
       "    </tr>\n",
       "    <tr>\n",
       "      <th>1</th>\n",
       "      <td>7906</td>\n",
       "      <td>2468</td>\n",
       "      <td>D-penicillamine</td>\n",
       "      <td>14975</td>\n",
       "      <td>F</td>\n",
       "      <td>N</td>\n",
       "      <td>N</td>\n",
       "      <td>N</td>\n",
       "      <td>N</td>\n",
       "      <td>1.1</td>\n",
       "      <td>660.0</td>\n",
       "      <td>4.22</td>\n",
       "      <td>94.0</td>\n",
       "      <td>1257.0</td>\n",
       "      <td>151.90</td>\n",
       "      <td>155.0</td>\n",
       "      <td>227.0</td>\n",
       "      <td>10.0</td>\n",
       "      <td>2.0</td>\n",
       "    </tr>\n",
       "    <tr>\n",
       "      <th>2</th>\n",
       "      <td>7907</td>\n",
       "      <td>51</td>\n",
       "      <td>Placebo</td>\n",
       "      <td>13149</td>\n",
       "      <td>F</td>\n",
       "      <td>N</td>\n",
       "      <td>Y</td>\n",
       "      <td>N</td>\n",
       "      <td>Y</td>\n",
       "      <td>2.0</td>\n",
       "      <td>151.0</td>\n",
       "      <td>2.96</td>\n",
       "      <td>46.0</td>\n",
       "      <td>961.0</td>\n",
       "      <td>69.75</td>\n",
       "      <td>101.0</td>\n",
       "      <td>213.0</td>\n",
       "      <td>13.0</td>\n",
       "      <td>4.0</td>\n",
       "    </tr>\n",
       "    <tr>\n",
       "      <th>3</th>\n",
       "      <td>7908</td>\n",
       "      <td>2330</td>\n",
       "      <td>D-penicillamine</td>\n",
       "      <td>20510</td>\n",
       "      <td>F</td>\n",
       "      <td>N</td>\n",
       "      <td>N</td>\n",
       "      <td>N</td>\n",
       "      <td>N</td>\n",
       "      <td>0.6</td>\n",
       "      <td>293.0</td>\n",
       "      <td>3.85</td>\n",
       "      <td>40.0</td>\n",
       "      <td>554.0</td>\n",
       "      <td>125.55</td>\n",
       "      <td>56.0</td>\n",
       "      <td>270.0</td>\n",
       "      <td>10.6</td>\n",
       "      <td>2.0</td>\n",
       "    </tr>\n",
       "    <tr>\n",
       "      <th>4</th>\n",
       "      <td>7909</td>\n",
       "      <td>1615</td>\n",
       "      <td>D-penicillamine</td>\n",
       "      <td>21904</td>\n",
       "      <td>F</td>\n",
       "      <td>N</td>\n",
       "      <td>Y</td>\n",
       "      <td>N</td>\n",
       "      <td>N</td>\n",
       "      <td>1.4</td>\n",
       "      <td>277.0</td>\n",
       "      <td>2.97</td>\n",
       "      <td>121.0</td>\n",
       "      <td>1110.0</td>\n",
       "      <td>125.00</td>\n",
       "      <td>126.0</td>\n",
       "      <td>221.0</td>\n",
       "      <td>9.8</td>\n",
       "      <td>1.0</td>\n",
       "    </tr>\n",
       "  </tbody>\n",
       "</table>\n",
       "</div>"
      ],
      "text/plain": [
       "     id  N_Days             Drug    Age Sex Ascites Hepatomegaly Spiders  \\\n",
       "0  7905    3839  D-penicillamine  19724   F       N            Y       N   \n",
       "1  7906    2468  D-penicillamine  14975   F       N            N       N   \n",
       "2  7907      51          Placebo  13149   F       N            Y       N   \n",
       "3  7908    2330  D-penicillamine  20510   F       N            N       N   \n",
       "4  7909    1615  D-penicillamine  21904   F       N            Y       N   \n",
       "\n",
       "  Edema  Bilirubin  Cholesterol  Albumin  Copper  Alk_Phos    SGOT  \\\n",
       "0     N        1.2        546.0     3.37    65.0    1636.0  151.90   \n",
       "1     N        1.1        660.0     4.22    94.0    1257.0  151.90   \n",
       "2     Y        2.0        151.0     2.96    46.0     961.0   69.75   \n",
       "3     N        0.6        293.0     3.85    40.0     554.0  125.55   \n",
       "4     N        1.4        277.0     2.97   121.0    1110.0  125.00   \n",
       "\n",
       "   Tryglicerides  Platelets  Prothrombin  Stage  \n",
       "0           90.0      430.0         10.6    2.0  \n",
       "1          155.0      227.0         10.0    2.0  \n",
       "2          101.0      213.0         13.0    4.0  \n",
       "3           56.0      270.0         10.6    2.0  \n",
       "4          126.0      221.0          9.8    1.0  "
      ]
     },
     "execution_count": 226,
     "metadata": {},
     "output_type": "execute_result"
    }
   ],
   "source": [
    "test.head()"
   ]
  },
  {
   "cell_type": "code",
   "execution_count": 159,
   "id": "ba0b1919",
   "metadata": {},
   "outputs": [
    {
     "data": {
      "text/plain": [
       "id               0\n",
       "N_Days           0\n",
       "Drug             0\n",
       "Age              0\n",
       "Sex              0\n",
       "Ascites          0\n",
       "Hepatomegaly     0\n",
       "Spiders          0\n",
       "Edema            0\n",
       "Bilirubin        0\n",
       "Cholesterol      0\n",
       "Albumin          0\n",
       "Copper           0\n",
       "Alk_Phos         0\n",
       "SGOT             0\n",
       "Tryglicerides    0\n",
       "Platelets        0\n",
       "Prothrombin      0\n",
       "Stage            0\n",
       "Status           0\n",
       "dtype: int64"
      ]
     },
     "execution_count": 159,
     "metadata": {},
     "output_type": "execute_result"
    }
   ],
   "source": [
    "df.isnull().sum()"
   ]
  },
  {
   "cell_type": "code",
   "execution_count": 160,
   "id": "eb8edd1e",
   "metadata": {},
   "outputs": [
    {
     "data": {
      "text/plain": [
       "0"
      ]
     },
     "execution_count": 160,
     "metadata": {},
     "output_type": "execute_result"
    }
   ],
   "source": [
    "df.duplicated().sum()"
   ]
  },
  {
   "cell_type": "code",
   "execution_count": 161,
   "id": "1a7f8877",
   "metadata": {},
   "outputs": [],
   "source": [
    "def count(plot):\n",
    "    plt.figure(figsize=(7,5))\n",
    "    sns.countplot(x=plot,hue=df['Status'],data=df)\n",
    "    plt.xticks(rotation='vertical')\n",
    "    plt.show()\n",
    "    return count"
   ]
  },
  {
   "cell_type": "code",
   "execution_count": 30,
   "id": "18dd6930",
   "metadata": {},
   "outputs": [
    {
     "name": "stderr",
     "output_type": "stream",
     "text": [
      "C:\\Users\\Ghost Codm\\AppData\\Local\\Packages\\PythonSoftwareFoundation.Python.3.11_qbz5n2kfra8p0\\LocalCache\\local-packages\\Python311\\site-packages\\seaborn\\_oldcore.py:1498: FutureWarning:\n",
      "\n",
      "is_categorical_dtype is deprecated and will be removed in a future version. Use isinstance(dtype, CategoricalDtype) instead\n",
      "\n",
      "C:\\Users\\Ghost Codm\\AppData\\Local\\Packages\\PythonSoftwareFoundation.Python.3.11_qbz5n2kfra8p0\\LocalCache\\local-packages\\Python311\\site-packages\\seaborn\\_oldcore.py:1498: FutureWarning:\n",
      "\n",
      "is_categorical_dtype is deprecated and will be removed in a future version. Use isinstance(dtype, CategoricalDtype) instead\n",
      "\n",
      "C:\\Users\\Ghost Codm\\AppData\\Local\\Packages\\PythonSoftwareFoundation.Python.3.11_qbz5n2kfra8p0\\LocalCache\\local-packages\\Python311\\site-packages\\seaborn\\_oldcore.py:1498: FutureWarning:\n",
      "\n",
      "is_categorical_dtype is deprecated and will be removed in a future version. Use isinstance(dtype, CategoricalDtype) instead\n",
      "\n",
      "C:\\Users\\Ghost Codm\\AppData\\Local\\Packages\\PythonSoftwareFoundation.Python.3.11_qbz5n2kfra8p0\\LocalCache\\local-packages\\Python311\\site-packages\\seaborn\\_oldcore.py:1498: FutureWarning:\n",
      "\n",
      "is_categorical_dtype is deprecated and will be removed in a future version. Use isinstance(dtype, CategoricalDtype) instead\n",
      "\n"
     ]
    },
    {
     "data": {
      "image/png": "[encoded data removed]",
      "text/plain": [
       "<Figure size 700x500 with 1 Axes>"
      ]
     },
     "metadata": {},
     "output_type": "display_data"
    },
    {
     "data": {
      "text/plain": [
       "<function __main__.count(plot)>"
      ]
     },
     "execution_count": 30,
     "metadata": {},
     "output_type": "execute_result"
    }
   ],
   "source": [
    "count(df['Drug'])"
   ]
  },
  {
   "cell_type": "code",
   "execution_count": 23,
   "id": "e0b38623",
   "metadata": {},
   "outputs": [
    {
     "name": "stderr",
     "output_type": "stream",
     "text": [
      "C:\\Users\\Ghost Codm\\AppData\\Local\\Packages\\PythonSoftwareFoundation.Python.3.11_qbz5n2kfra8p0\\LocalCache\\local-packages\\Python311\\site-packages\\seaborn\\_oldcore.py:1498: FutureWarning: is_categorical_dtype is deprecated and will be removed in a future version. Use isinstance(dtype, CategoricalDtype) instead\n",
      "  if pd.api.types.is_categorical_dtype(vector):\n",
      "C:\\Users\\Ghost Codm\\AppData\\Local\\Packages\\PythonSoftwareFoundation.Python.3.11_qbz5n2kfra8p0\\LocalCache\\local-packages\\Python311\\site-packages\\seaborn\\_oldcore.py:1498: FutureWarning: is_categorical_dtype is deprecated and will be removed in a future version. Use isinstance(dtype, CategoricalDtype) instead\n",
      "  if pd.api.types.is_categorical_dtype(vector):\n",
      "C:\\Users\\Ghost Codm\\AppData\\Local\\Packages\\PythonSoftwareFoundation.Python.3.11_qbz5n2kfra8p0\\LocalCache\\local-packages\\Python311\\site-packages\\seaborn\\_oldcore.py:1498: FutureWarning: is_categorical_dtype is deprecated and will be removed in a future version. Use isinstance(dtype, CategoricalDtype) instead\n",
      "  if pd.api.types.is_categorical_dtype(vector):\n",
      "C:\\Users\\Ghost Codm\\AppData\\Local\\Packages\\PythonSoftwareFoundation.Python.3.11_qbz5n2kfra8p0\\LocalCache\\local-packages\\Python311\\site-packages\\seaborn\\_oldcore.py:1498: FutureWarning: is_categorical_dtype is deprecated and will be removed in a future version. Use isinstance(dtype, CategoricalDtype) instead\n",
      "  if pd.api.types.is_categorical_dtype(vector):\n"
     ]
    },
    {
     "data": {
      "image/png": "[encoded data removed]",
      "text/plain": [
       "<Figure size 700x500 with 1 Axes>"
      ]
     },
     "metadata": {},
     "output_type": "display_data"
    }
   ],
   "source": [
    "count(df['Sex'])"
   ]
  },
  {
   "cell_type": "code",
   "execution_count": 50,
   "id": "3495a2a8",
   "metadata": {},
   "outputs": [
    {
     "data": {
      "application/vnd.plotly.v1+json": {
       "config": {
        "plotlyServerURL": "https://plot.ly"
       },
       "data": [
        {
         "domain": {
          "x": [
           0,
           1
          ],
          "y": [
           0,
           1
          ]
         },
         "hole": 0.6,
         "hovertemplate": "value=%{value}<extra></extra>",
         "legendgroup": "",
         "name": "",
         "showlegend": false,
         "type": "pie",
         "values": [
          7525,
          380
         ]
        }
       ],
       "layout": {
        "legend": {
         "tracegroupgap": 0
        },
        "template": {
         "data": {
          "bar": [
           {
            "error_x": {
             "color": "#2a3f5f"
            },
            "error_y": {
             "color": "#2a3f5f"
            },
            "marker": {
             "line": {
              "color": "#E5ECF6",
              "width": 0.5
             },
             "pattern": {
              "fillmode": "overlay",
              "size": 10,
              "solidity": 0.2
             }
            },
            "type": "bar"
           }
          ],
          "barpolar": [
           {
            "marker": {
             "line": {
              "color": "#E5ECF6",
              "width": 0.5
             },
             "pattern": {
              "fillmode": "overlay",
              "size": 10,
              "solidity": 0.2
             }
            },
            "type": "barpolar"
           }
          ],
          "carpet": [
           {
            "aaxis": {
             "endlinecolor": "#2a3f5f",
             "gridcolor": "white",
             "linecolor": "white",
             "minorgridcolor": "white",
             "startlinecolor": "#2a3f5f"
            },
            "baxis": {
             "endlinecolor": "#2a3f5f",
             "gridcolor": "white",
             "linecolor": "white",
             "minorgridcolor": "white",
             "startlinecolor": "#2a3f5f"
            },
            "type": "carpet"
           }
          ],
          "choropleth": [
           {
            "colorbar": {
             "outlinewidth": 0,
             "ticks": ""
            },
            "type": "choropleth"
           }
          ],
          "contour": [
           {
            "colorbar": {
             "outlinewidth": 0,
             "ticks": ""
            },
            "colorscale": [
             [
              0,
              "#0d0887"
             ],
             [
              0.1111111111111111,
              "#46039f"
             ],
             [
              0.2222222222222222,
              "#7201a8"
             ],
             [
              0.3333333333333333,
              "#9c179e"
             ],
             [
              0.4444444444444444,
              "#bd3786"
             ],
             [
              0.5555555555555556,
              "#d8576b"
             ],
             [
              0.6666666666666666,
              "#ed7953"
             ],
             [
              0.7777777777777778,
              "#fb9f3a"
             ],
             [
              0.8888888888888888,
              "#fdca26"
             ],
             [
              1,
              "#f0f921"
             ]
            ],
            "type": "contour"
           }
          ],
          "contourcarpet": [
           {
            "colorbar": {
             "outlinewidth": 0,
             "ticks": ""
            },
            "type": "contourcarpet"
           }
          ],
          "heatmap": [
           {
            "colorbar": {
             "outlinewidth": 0,
             "ticks": ""
            },
            "colorscale": [
             [
              0,
              "#0d0887"
             ],
             [
              0.1111111111111111,
              "#46039f"
             ],
             [
              0.2222222222222222,
              "#7201a8"
             ],
             [
              0.3333333333333333,
              "#9c179e"
             ],
             [
              0.4444444444444444,
              "#bd3786"
             ],
             [
              0.5555555555555556,
              "#d8576b"
             ],
             [
              0.6666666666666666,
              "#ed7953"
             ],
             [
              0.7777777777777778,
              "#fb9f3a"
             ],
             [
              0.8888888888888888,
              "#fdca26"
             ],
             [
              1,
              "#f0f921"
             ]
            ],
            "type": "heatmap"
           }
          ],
          "heatmapgl": [
           {
            "colorbar": {
             "outlinewidth": 0,
             "ticks": ""
            },
            "colorscale": [
             [
              0,
              "#0d0887"
             ],
             [
              0.1111111111111111,
              "#46039f"
             ],
             [
              0.2222222222222222,
              "#7201a8"
             ],
             [
              0.3333333333333333,
              "#9c179e"
             ],
             [
              0.4444444444444444,
              "#bd3786"
             ],
             [
              0.5555555555555556,
              "#d8576b"
             ],
             [
              0.6666666666666666,
              "#ed7953"
             ],
             [
              0.7777777777777778,
              "#fb9f3a"
             ],
             [
              0.8888888888888888,
              "#fdca26"
             ],
             [
              1,
              "#f0f921"
             ]
            ],
            "type": "heatmapgl"
           }
          ],
          "histogram": [
           {
            "marker": {
             "pattern": {
              "fillmode": "overlay",
              "size": 10,
              "solidity": 0.2
             }
            },
            "type": "histogram"
           }
          ],
          "histogram2d": [
           {
            "colorbar": {
             "outlinewidth": 0,
             "ticks": ""
            },
            "colorscale": [
             [
              0,
              "#0d0887"
             ],
             [
              0.1111111111111111,
              "#46039f"
             ],
             [
              0.2222222222222222,
              "#7201a8"
             ],
             [
              0.3333333333333333,
              "#9c179e"
             ],
             [
              0.4444444444444444,
              "#bd3786"
             ],
             [
              0.5555555555555556,
              "#d8576b"
             ],
             [
              0.6666666666666666,
              "#ed7953"
             ],
             [
              0.7777777777777778,
              "#fb9f3a"
             ],
             [
              0.8888888888888888,
              "#fdca26"
             ],
             [
              1,
              "#f0f921"
             ]
            ],
            "type": "histogram2d"
           }
          ],
          "histogram2dcontour": [
           {
            "colorbar": {
             "outlinewidth": 0,
             "ticks": ""
            },
            "colorscale": [
             [
              0,
              "#0d0887"
             ],
             [
              0.1111111111111111,
              "#46039f"
             ],
             [
              0.2222222222222222,
              "#7201a8"
             ],
             [
              0.3333333333333333,
              "#9c179e"
             ],
             [
              0.4444444444444444,
              "#bd3786"
             ],
             [
              0.5555555555555556,
              "#d8576b"
             ],
             [
              0.6666666666666666,
              "#ed7953"
             ],
             [
              0.7777777777777778,
              "#fb9f3a"
             ],
             [
              0.8888888888888888,
              "#fdca26"
             ],
             [
              1,
              "#f0f921"
             ]
            ],
            "type": "histogram2dcontour"
           }
          ],
          "mesh3d": [
           {
            "colorbar": {
             "outlinewidth": 0,
             "ticks": ""
            },
            "type": "mesh3d"
           }
          ],
          "parcoords": [
           {
            "line": {
             "colorbar": {
              "outlinewidth": 0,
              "ticks": ""
             }
            },
            "type": "parcoords"
           }
          ],
          "pie": [
           {
            "automargin": true,
            "type": "pie"
           }
          ],
          "scatter": [
           {
            "fillpattern": {
             "fillmode": "overlay",
             "size": 10,
             "solidity": 0.2
            },
            "type": "scatter"
           }
          ],
          "scatter3d": [
           {
            "line": {
             "colorbar": {
              "outlinewidth": 0,
              "ticks": ""
             }
            },
            "marker": {
             "colorbar": {
              "outlinewidth": 0,
              "ticks": ""
             }
            },
            "type": "scatter3d"
           }
          ],
          "scattercarpet": [
           {
            "marker": {
             "colorbar": {
              "outlinewidth": 0,
              "ticks": ""
             }
            },
            "type": "scattercarpet"
           }
          ],
          "scattergeo": [
           {
            "marker": {
             "colorbar": {
              "outlinewidth": 0,
              "ticks": ""
             }
            },
            "type": "scattergeo"
           }
          ],
          "scattergl": [
           {
            "marker": {
             "colorbar": {
              "outlinewidth": 0,
              "ticks": ""
             }
            },
            "type": "scattergl"
           }
          ],
          "scattermapbox": [
           {
            "marker": {
             "colorbar": {
              "outlinewidth": 0,
              "ticks": ""
             }
            },
            "type": "scattermapbox"
           }
          ],
          "scatterpolar": [
           {
            "marker": {
             "colorbar": {
              "outlinewidth": 0,
              "ticks": ""
             }
            },
            "type": "scatterpolar"
           }
          ],
          "scatterpolargl": [
           {
            "marker": {
             "colorbar": {
              "outlinewidth": 0,
              "ticks": ""
             }
            },
            "type": "scatterpolargl"
           }
          ],
          "scatterternary": [
           {
            "marker": {
             "colorbar": {
              "outlinewidth": 0,
              "ticks": ""
             }
            },
            "type": "scatterternary"
           }
          ],
          "surface": [
           {
            "colorbar": {
             "outlinewidth": 0,
             "ticks": ""
            },
            "colorscale": [
             [
              0,
              "#0d0887"
             ],
             [
              0.1111111111111111,
              "#46039f"
             ],
             [
              0.2222222222222222,
              "#7201a8"
             ],
             [
              0.3333333333333333,
              "#9c179e"
             ],
             [
              0.4444444444444444,
              "#bd3786"
             ],
             [
              0.5555555555555556,
              "#d8576b"
             ],
             [
              0.6666666666666666,
              "#ed7953"
             ],
             [
              0.7777777777777778,
              "#fb9f3a"
             ],
             [
              0.8888888888888888,
              "#fdca26"
             ],
             [
              1,
              "#f0f921"
             ]
            ],
            "type": "surface"
           }
          ],
          "table": [
           {
            "cells": {
             "fill": {
              "color": "#EBF0F8"
             },
             "line": {
              "color": "white"
             }
            },
            "header": {
             "fill": {
              "color": "#C8D4E3"
             },
             "line": {
              "color": "white"
             }
            },
            "type": "table"
           }
          ]
         },
         "layout": {
          "annotationdefaults": {
           "arrowcolor": "#2a3f5f",
           "arrowhead": 0,
           "arrowwidth": 1
          },
          "autotypenumbers": "strict",
          "coloraxis": {
           "colorbar": {
            "outlinewidth": 0,
            "ticks": ""
           }
          },
          "colorscale": {
           "diverging": [
            [
             0,
             "#8e0152"
            ],
            [
             0.1,
             "#c51b7d"
            ],
            [
             0.2,
             "#de77ae"
            ],
            [
             0.3,
             "#f1b6da"
            ],
            [
             0.4,
             "#fde0ef"
            ],
            [
             0.5,
             "#f7f7f7"
            ],
            [
             0.6,
             "#e6f5d0"
            ],
            [
             0.7,
             "#b8e186"
            ],
            [
             0.8,
             "#7fbc41"
            ],
            [
             0.9,
             "#4d9221"
            ],
            [
             1,
             "#276419"
            ]
           ],
           "sequential": [
            [
             0,
             "#0d0887"
            ],
            [
             0.1111111111111111,
             "#46039f"
            ],
            [
             0.2222222222222222,
             "#7201a8"
            ],
            [
             0.3333333333333333,
             "#9c179e"
            ],
            [
             0.4444444444444444,
             "#bd3786"
            ],
            [
             0.5555555555555556,
             "#d8576b"
            ],
            [
             0.6666666666666666,
             "#ed7953"
            ],
            [
             0.7777777777777778,
             "#fb9f3a"
            ],
            [
             0.8888888888888888,
             "#fdca26"
            ],
            [
             1,
             "#f0f921"
            ]
           ],
           "sequentialminus": [
            [
             0,
             "#0d0887"
            ],
            [
             0.1111111111111111,
             "#46039f"
            ],
            [
             0.2222222222222222,
             "#7201a8"
            ],
            [
             0.3333333333333333,
             "#9c179e"
            ],
            [
             0.4444444444444444,
             "#bd3786"
            ],
            [
             0.5555555555555556,
             "#d8576b"
            ],
            [
             0.6666666666666666,
             "#ed7953"
            ],
            [
             0.7777777777777778,
             "#fb9f3a"
            ],
            [
             0.8888888888888888,
             "#fdca26"
            ],
            [
             1,
             "#f0f921"
            ]
           ]
          },
          "colorway": [
           "#636efa",
           "#EF553B",
           "#00cc96",
           "#ab63fa",
           "#FFA15A",
           "#19d3f3",
           "#FF6692",
           "#B6E880",
           "#FF97FF",
           "#FECB52"
          ],
          "font": {
           "color": "#2a3f5f"
          },
          "geo": {
           "bgcolor": "white",
           "lakecolor": "white",
           "landcolor": "#E5ECF6",
           "showlakes": true,
           "showland": true,
           "subunitcolor": "white"
          },
          "hoverlabel": {
           "align": "left"
          },
          "hovermode": "closest",
          "mapbox": {
           "style": "light"
          },
          "paper_bgcolor": "white",
          "plot_bgcolor": "#E5ECF6",
          "polar": {
           "angularaxis": {
            "gridcolor": "white",
            "linecolor": "white",
            "ticks": ""
           },
           "bgcolor": "#E5ECF6",
           "radialaxis": {
            "gridcolor": "white",
            "linecolor": "white",
            "ticks": ""
           }
          },
          "scene": {
           "xaxis": {
            "backgroundcolor": "#E5ECF6",
            "gridcolor": "white",
            "gridwidth": 2,
            "linecolor": "white",
            "showbackground": true,
            "ticks": "",
            "zerolinecolor": "white"
           },
           "yaxis": {
            "backgroundcolor": "#E5ECF6",
            "gridcolor": "white",
            "gridwidth": 2,
            "linecolor": "white",
            "showbackground": true,
            "ticks": "",
            "zerolinecolor": "white"
           },
           "zaxis": {
            "backgroundcolor": "#E5ECF6",
            "gridcolor": "white",
            "gridwidth": 2,
            "linecolor": "white",
            "showbackground": true,
            "ticks": "",
            "zerolinecolor": "white"
           }
          },
          "shapedefaults": {
           "line": {
            "color": "#2a3f5f"
           }
          },
          "ternary": {
           "aaxis": {
            "gridcolor": "white",
            "linecolor": "white",
            "ticks": ""
           },
           "baxis": {
            "gridcolor": "white",
            "linecolor": "white",
            "ticks": ""
           },
           "bgcolor": "#E5ECF6",
           "caxis": {
            "gridcolor": "white",
            "linecolor": "white",
            "ticks": ""
           }
          },
          "title": {
           "x": 0.05
          },
          "xaxis": {
           "automargin": true,
           "gridcolor": "white",
           "linecolor": "white",
           "ticks": "",
           "title": {
            "standoff": 15
           },
           "zerolinecolor": "white",
           "zerolinewidth": 2
          },
          "yaxis": {
           "automargin": true,
           "gridcolor": "white",
           "linecolor": "white",
           "ticks": "",
           "title": {
            "standoff": 15
           },
           "zerolinecolor": "white",
           "zerolinewidth": 2
          }
         }
        },
        "title": {
         "text": "Ascites"
        }
       }
      },
      "text/html": [
       "<div>                            <div id=\"07f407e3-508c-422b-978f-f62aa0ea3f74\" class=\"plotly-graph-div\" style=\"height:525px; width:100%;\"></div>            <script type=\"text/javascript\">                require([\"plotly\"], function(Plotly) {                    window.PLOTLYENV=window.PLOTLYENV || {};                                    if (document.getElementById(\"07f407e3-508c-422b-978f-f62aa0ea3f74\")) {                    Plotly.newPlot(                        \"07f407e3-508c-422b-978f-f62aa0ea3f74\",                        [{\"domain\":{\"x\":[0.0,1.0],\"y\":[0.0,1.0]},\"hole\":0.6,\"hovertemplate\":\"value=%{value}\\u003cextra\\u003e\\u003c\\u002fextra\\u003e\",\"legendgroup\":\"\",\"name\":\"\",\"showlegend\":false,\"values\":[7525,380],\"type\":\"pie\"}],                        {\"template\":{\"data\":{\"histogram2dcontour\":[{\"type\":\"histogram2dcontour\",\"colorbar\":{\"outlinewidth\":0,\"ticks\":\"\"},\"colorscale\":[[0.0,\"#0d0887\"],[0.1111111111111111,\"#46039f\"],[0.2222222222222222,\"#7201a8\"],[0.3333333333333333,\"#9c179e\"],[0.4444444444444444,\"#bd3786\"],[0.5555555555555556,\"#d8576b\"],[0.6666666666666666,\"#ed7953\"],[0.7777777777777778,\"#fb9f3a\"],[0.8888888888888888,\"#fdca26\"],[1.0,\"#f0f921\"]]}],\"choropleth\":[{\"type\":\"choropleth\",\"colorbar\":{\"outlinewidth\":0,\"ticks\":\"\"}}],\"histogram2d\":[{\"type\":\"histogram2d\",\"colorbar\":{\"outlinewidth\":0,\"ticks\":\"\"},\"colorscale\":[[0.0,\"#0d0887\"],[0.1111111111111111,\"#46039f\"],[0.2222222222222222,\"#7201a8\"],[0.3333333333333333,\"#9c179e\"],[0.4444444444444444,\"#bd3786\"],[0.5555555555555556,\"#d8576b\"],[0.6666666666666666,\"#ed7953\"],[0.7777777777777778,\"#fb9f3a\"],[0.8888888888888888,\"#fdca26\"],[1.0,\"#f0f921\"]]}],\"heatmap\":[{\"type\":\"heatmap\",\"colorbar\":{\"outlinewidth\":0,\"ticks\":\"\"},\"colorscale\":[[0.0,\"#0d0887\"],[0.1111111111111111,\"#46039f\"],[0.2222222222222222,\"#7201a8\"],[0.3333333333333333,\"#9c179e\"],[0.4444444444444444,\"#bd3786\"],[0.5555555555555556,\"#d8576b\"],[0.6666666666666666,\"#ed7953\"],[0.7777777777777778,\"#fb9f3a\"],[0.8888888888888888,\"#fdca26\"],[1.0,\"#f0f921\"]]}],\"heatmapgl\":[{\"type\":\"heatmapgl\",\"colorbar\":{\"outlinewidth\":0,\"ticks\":\"\"},\"colorscale\":[[0.0,\"#0d0887\"],[0.1111111111111111,\"#46039f\"],[0.2222222222222222,\"#7201a8\"],[0.3333333333333333,\"#9c179e\"],[0.4444444444444444,\"#bd3786\"],[0.5555555555555556,\"#d8576b\"],[0.6666666666666666,\"#ed7953\"],[0.7777777777777778,\"#fb9f3a\"],[0.8888888888888888,\"#fdca26\"],[1.0,\"#f0f921\"]]}],\"contourcarpet\":[{\"type\":\"contourcarpet\",\"colorbar\":{\"outlinewidth\":0,\"ticks\":\"\"}}],\"contour\":[{\"type\":\"contour\",\"colorbar\":{\"outlinewidth\":0,\"ticks\":\"\"},\"colorscale\":[[0.0,\"#0d0887\"],[0.1111111111111111,\"#46039f\"],[0.2222222222222222,\"#7201a8\"],[0.3333333333333333,\"#9c179e\"],[0.4444444444444444,\"#bd3786\"],[0.5555555555555556,\"#d8576b\"],[0.6666666666666666,\"#ed7953\"],[0.7777777777777778,\"#fb9f3a\"],[0.8888888888888888,\"#fdca26\"],[1.0,\"#f0f921\"]]}],\"surface\":[{\"type\":\"surface\",\"colorbar\":{\"outlinewidth\":0,\"ticks\":\"\"},\"colorscale\":[[0.0,\"#0d0887\"],[0.1111111111111111,\"#46039f\"],[0.2222222222222222,\"#7201a8\"],[0.3333333333333333,\"#9c179e\"],[0.4444444444444444,\"#bd3786\"],[0.5555555555555556,\"#d8576b\"],[0.6666666666666666,\"#ed7953\"],[0.7777777777777778,\"#fb9f3a\"],[0.8888888888888888,\"#fdca26\"],[1.0,\"#f0f921\"]]}],\"mesh3d\":[{\"type\":\"mesh3d\",\"colorbar\":{\"outlinewidth\":0,\"ticks\":\"\"}}],\"scatter\":[{\"fillpattern\":{\"fillmode\":\"overlay\",\"size\":10,\"solidity\":0.2},\"type\":\"scatter\"}],\"parcoords\":[{\"type\":\"parcoords\",\"line\":{\"colorbar\":{\"outlinewidth\":0,\"ticks\":\"\"}}}],\"scatterpolargl\":[{\"type\":\"scatterpolargl\",\"marker\":{\"colorbar\":{\"outlinewidth\":0,\"ticks\":\"\"}}}],\"bar\":[{\"error_x\":{\"color\":\"#2a3f5f\"},\"error_y\":{\"color\":\"#2a3f5f\"},\"marker\":{\"line\":{\"color\":\"#E5ECF6\",\"width\":0.5},\"pattern\":{\"fillmode\":\"overlay\",\"size\":10,\"solidity\":0.2}},\"type\":\"bar\"}],\"scattergeo\":[{\"type\":\"scattergeo\",\"marker\":{\"colorbar\":{\"outlinewidth\":0,\"ticks\":\"\"}}}],\"scatterpolar\":[{\"type\":\"scatterpolar\",\"marker\":{\"colorbar\":{\"outlinewidth\":0,\"ticks\":\"\"}}}],\"histogram\":[{\"marker\":{\"pattern\":{\"fillmode\":\"overlay\",\"size\":10,\"solidity\":0.2}},\"type\":\"histogram\"}],\"scattergl\":[{\"type\":\"scattergl\",\"marker\":{\"colorbar\":{\"outlinewidth\":0,\"ticks\":\"\"}}}],\"scatter3d\":[{\"type\":\"scatter3d\",\"line\":{\"colorbar\":{\"outlinewidth\":0,\"ticks\":\"\"}},\"marker\":{\"colorbar\":{\"outlinewidth\":0,\"ticks\":\"\"}}}],\"scattermapbox\":[{\"type\":\"scattermapbox\",\"marker\":{\"colorbar\":{\"outlinewidth\":0,\"ticks\":\"\"}}}],\"scatterternary\":[{\"type\":\"scatterternary\",\"marker\":{\"colorbar\":{\"outlinewidth\":0,\"ticks\":\"\"}}}],\"scattercarpet\":[{\"type\":\"scattercarpet\",\"marker\":{\"colorbar\":{\"outlinewidth\":0,\"ticks\":\"\"}}}],\"carpet\":[{\"aaxis\":{\"endlinecolor\":\"#2a3f5f\",\"gridcolor\":\"white\",\"linecolor\":\"white\",\"minorgridcolor\":\"white\",\"startlinecolor\":\"#2a3f5f\"},\"baxis\":{\"endlinecolor\":\"#2a3f5f\",\"gridcolor\":\"white\",\"linecolor\":\"white\",\"minorgridcolor\":\"white\",\"startlinecolor\":\"#2a3f5f\"},\"type\":\"carpet\"}],\"table\":[{\"cells\":{\"fill\":{\"color\":\"#EBF0F8\"},\"line\":{\"color\":\"white\"}},\"header\":{\"fill\":{\"color\":\"#C8D4E3\"},\"line\":{\"color\":\"white\"}},\"type\":\"table\"}],\"barpolar\":[{\"marker\":{\"line\":{\"color\":\"#E5ECF6\",\"width\":0.5},\"pattern\":{\"fillmode\":\"overlay\",\"size\":10,\"solidity\":0.2}},\"type\":\"barpolar\"}],\"pie\":[{\"automargin\":true,\"type\":\"pie\"}]},\"layout\":{\"autotypenumbers\":\"strict\",\"colorway\":[\"#636efa\",\"#EF553B\",\"#00cc96\",\"#ab63fa\",\"#FFA15A\",\"#19d3f3\",\"#FF6692\",\"#B6E880\",\"#FF97FF\",\"#FECB52\"],\"font\":{\"color\":\"#2a3f5f\"},\"hovermode\":\"closest\",\"hoverlabel\":{\"align\":\"left\"},\"paper_bgcolor\":\"white\",\"plot_bgcolor\":\"#E5ECF6\",\"polar\":{\"bgcolor\":\"#E5ECF6\",\"angularaxis\":{\"gridcolor\":\"white\",\"linecolor\":\"white\",\"ticks\":\"\"},\"radialaxis\":{\"gridcolor\":\"white\",\"linecolor\":\"white\",\"ticks\":\"\"}},\"ternary\":{\"bgcolor\":\"#E5ECF6\",\"aaxis\":{\"gridcolor\":\"white\",\"linecolor\":\"white\",\"ticks\":\"\"},\"baxis\":{\"gridcolor\":\"white\",\"linecolor\":\"white\",\"ticks\":\"\"},\"caxis\":{\"gridcolor\":\"white\",\"linecolor\":\"white\",\"ticks\":\"\"}},\"coloraxis\":{\"colorbar\":{\"outlinewidth\":0,\"ticks\":\"\"}},\"colorscale\":{\"sequential\":[[0.0,\"#0d0887\"],[0.1111111111111111,\"#46039f\"],[0.2222222222222222,\"#7201a8\"],[0.3333333333333333,\"#9c179e\"],[0.4444444444444444,\"#bd3786\"],[0.5555555555555556,\"#d8576b\"],[0.6666666666666666,\"#ed7953\"],[0.7777777777777778,\"#fb9f3a\"],[0.8888888888888888,\"#fdca26\"],[1.0,\"#f0f921\"]],\"sequentialminus\":[[0.0,\"#0d0887\"],[0.1111111111111111,\"#46039f\"],[0.2222222222222222,\"#7201a8\"],[0.3333333333333333,\"#9c179e\"],[0.4444444444444444,\"#bd3786\"],[0.5555555555555556,\"#d8576b\"],[0.6666666666666666,\"#ed7953\"],[0.7777777777777778,\"#fb9f3a\"],[0.8888888888888888,\"#fdca26\"],[1.0,\"#f0f921\"]],\"diverging\":[[0,\"#8e0152\"],[0.1,\"#c51b7d\"],[0.2,\"#de77ae\"],[0.3,\"#f1b6da\"],[0.4,\"#fde0ef\"],[0.5,\"#f7f7f7\"],[0.6,\"#e6f5d0\"],[0.7,\"#b8e186\"],[0.8,\"#7fbc41\"],[0.9,\"#4d9221\"],[1,\"#276419\"]]},\"xaxis\":{\"gridcolor\":\"white\",\"linecolor\":\"white\",\"ticks\":\"\",\"title\":{\"standoff\":15},\"zerolinecolor\":\"white\",\"automargin\":true,\"zerolinewidth\":2},\"yaxis\":{\"gridcolor\":\"white\",\"linecolor\":\"white\",\"ticks\":\"\",\"title\":{\"standoff\":15},\"zerolinecolor\":\"white\",\"automargin\":true,\"zerolinewidth\":2},\"scene\":{\"xaxis\":{\"backgroundcolor\":\"#E5ECF6\",\"gridcolor\":\"white\",\"linecolor\":\"white\",\"showbackground\":true,\"ticks\":\"\",\"zerolinecolor\":\"white\",\"gridwidth\":2},\"yaxis\":{\"backgroundcolor\":\"#E5ECF6\",\"gridcolor\":\"white\",\"linecolor\":\"white\",\"showbackground\":true,\"ticks\":\"\",\"zerolinecolor\":\"white\",\"gridwidth\":2},\"zaxis\":{\"backgroundcolor\":\"#E5ECF6\",\"gridcolor\":\"white\",\"linecolor\":\"white\",\"showbackground\":true,\"ticks\":\"\",\"zerolinecolor\":\"white\",\"gridwidth\":2}},\"shapedefaults\":{\"line\":{\"color\":\"#2a3f5f\"}},\"annotationdefaults\":{\"arrowcolor\":\"#2a3f5f\",\"arrowhead\":0,\"arrowwidth\":1},\"geo\":{\"bgcolor\":\"white\",\"landcolor\":\"#E5ECF6\",\"subunitcolor\":\"white\",\"showland\":true,\"showlakes\":true,\"lakecolor\":\"white\"},\"title\":{\"x\":0.05},\"mapbox\":{\"style\":\"light\"}}},\"legend\":{\"tracegroupgap\":0},\"title\":{\"text\":\"Ascites\"}},                        {\"responsive\": true}                    ).then(function(){\n",
       "                            \n",
       "var gd = document.getElementById('07f407e3-508c-422b-978f-f62aa0ea3f74');\n",
       "var x = new MutationObserver(function (mutations, observer) {{\n",
       "        var display = window.getComputedStyle(gd).display;\n",
       "        if (!display || display === 'none') {{\n",
       "            console.log([gd, 'removed!']);\n",
       "            Plotly.purge(gd);\n",
       "            observer.disconnect();\n",
       "        }}\n",
       "}});\n",
       "\n",
       "// Listen for the removal of the full notebook cells\n",
       "var notebookContainer = gd.closest('#notebook-container');\n",
       "if (notebookContainer) {{\n",
       "    x.observe(notebookContainer, {childList: true});\n",
       "}}\n",
       "\n",
       "// Listen for the clearing of the current output cell\n",
       "var outputEl = gd.closest('.output');\n",
       "if (outputEl) {{\n",
       "    x.observe(outputEl, {childList: true});\n",
       "}}\n",
       "\n",
       "                        })                };                });            </script>        </div>"
      ]
     },
     "metadata": {},
     "output_type": "display_data"
    }
   ],
   "source": [
    "import plotly.express as px\n",
    "\n",
    "px.pie(values=df['Ascites'].value_counts(),hole=0.6,title='Ascites')\n",
    "\n"
   ]
  },
  {
   "cell_type": "code",
   "execution_count": 52,
   "id": "8c867b41",
   "metadata": {},
   "outputs": [
    {
     "data": {
      "text/plain": [
       "Status\n",
       "C     4965\n",
       "D     2665\n",
       "CL     275\n",
       "Name: count, dtype: int64"
      ]
     },
     "execution_count": 52,
     "metadata": {},
     "output_type": "execute_result"
    }
   ],
   "source": [
    "df['Status'].value_counts()"
   ]
  },
  {
   "cell_type": "code",
   "execution_count": 53,
   "id": "55be813c",
   "metadata": {},
   "outputs": [
    {
     "data": {
      "text/html": [
       "<div>\n",
       "<style scoped>\n",
       "    .dataframe tbody tr th:only-of-type {\n",
       "        vertical-align: middle;\n",
       "    }\n",
       "\n",
       "    .dataframe tbody tr th {\n",
       "        vertical-align: top;\n",
       "    }\n",
       "\n",
       "    .dataframe thead th {\n",
       "        text-align: right;\n",
       "    }\n",
       "</style>\n",
       "<table border=\"1\" class=\"dataframe\">\n",
       "  <thead>\n",
       "    <tr style=\"text-align: right;\">\n",
       "      <th></th>\n",
       "      <th>id</th>\n",
       "      <th>N_Days</th>\n",
       "      <th>Drug</th>\n",
       "      <th>Age</th>\n",
       "      <th>Sex</th>\n",
       "      <th>Ascites</th>\n",
       "      <th>Hepatomegaly</th>\n",
       "      <th>Spiders</th>\n",
       "      <th>Edema</th>\n",
       "      <th>Bilirubin</th>\n",
       "      <th>Cholesterol</th>\n",
       "      <th>Albumin</th>\n",
       "      <th>Copper</th>\n",
       "      <th>Alk_Phos</th>\n",
       "      <th>SGOT</th>\n",
       "      <th>Tryglicerides</th>\n",
       "      <th>Platelets</th>\n",
       "      <th>Prothrombin</th>\n",
       "      <th>Stage</th>\n",
       "      <th>Status</th>\n",
       "    </tr>\n",
       "  </thead>\n",
       "  <tbody>\n",
       "    <tr>\n",
       "      <th>0</th>\n",
       "      <td>0</td>\n",
       "      <td>999</td>\n",
       "      <td>D-penicillamine</td>\n",
       "      <td>21532</td>\n",
       "      <td>M</td>\n",
       "      <td>N</td>\n",
       "      <td>N</td>\n",
       "      <td>N</td>\n",
       "      <td>N</td>\n",
       "      <td>2.3</td>\n",
       "      <td>316.0</td>\n",
       "      <td>3.35</td>\n",
       "      <td>172.0</td>\n",
       "      <td>1601.0</td>\n",
       "      <td>179.80</td>\n",
       "      <td>63.0</td>\n",
       "      <td>394.0</td>\n",
       "      <td>9.7</td>\n",
       "      <td>3.0</td>\n",
       "      <td>D</td>\n",
       "    </tr>\n",
       "    <tr>\n",
       "      <th>1</th>\n",
       "      <td>1</td>\n",
       "      <td>2574</td>\n",
       "      <td>Placebo</td>\n",
       "      <td>19237</td>\n",
       "      <td>F</td>\n",
       "      <td>N</td>\n",
       "      <td>N</td>\n",
       "      <td>N</td>\n",
       "      <td>N</td>\n",
       "      <td>0.9</td>\n",
       "      <td>364.0</td>\n",
       "      <td>3.54</td>\n",
       "      <td>63.0</td>\n",
       "      <td>1440.0</td>\n",
       "      <td>134.85</td>\n",
       "      <td>88.0</td>\n",
       "      <td>361.0</td>\n",
       "      <td>11.0</td>\n",
       "      <td>3.0</td>\n",
       "      <td>C</td>\n",
       "    </tr>\n",
       "    <tr>\n",
       "      <th>2</th>\n",
       "      <td>2</td>\n",
       "      <td>3428</td>\n",
       "      <td>Placebo</td>\n",
       "      <td>13727</td>\n",
       "      <td>F</td>\n",
       "      <td>N</td>\n",
       "      <td>Y</td>\n",
       "      <td>Y</td>\n",
       "      <td>Y</td>\n",
       "      <td>3.3</td>\n",
       "      <td>299.0</td>\n",
       "      <td>3.55</td>\n",
       "      <td>131.0</td>\n",
       "      <td>1029.0</td>\n",
       "      <td>119.35</td>\n",
       "      <td>50.0</td>\n",
       "      <td>199.0</td>\n",
       "      <td>11.7</td>\n",
       "      <td>4.0</td>\n",
       "      <td>D</td>\n",
       "    </tr>\n",
       "    <tr>\n",
       "      <th>3</th>\n",
       "      <td>3</td>\n",
       "      <td>2576</td>\n",
       "      <td>Placebo</td>\n",
       "      <td>18460</td>\n",
       "      <td>F</td>\n",
       "      <td>N</td>\n",
       "      <td>N</td>\n",
       "      <td>N</td>\n",
       "      <td>N</td>\n",
       "      <td>0.6</td>\n",
       "      <td>256.0</td>\n",
       "      <td>3.50</td>\n",
       "      <td>58.0</td>\n",
       "      <td>1653.0</td>\n",
       "      <td>71.30</td>\n",
       "      <td>96.0</td>\n",
       "      <td>269.0</td>\n",
       "      <td>10.7</td>\n",
       "      <td>3.0</td>\n",
       "      <td>C</td>\n",
       "    </tr>\n",
       "    <tr>\n",
       "      <th>4</th>\n",
       "      <td>4</td>\n",
       "      <td>788</td>\n",
       "      <td>Placebo</td>\n",
       "      <td>16658</td>\n",
       "      <td>F</td>\n",
       "      <td>N</td>\n",
       "      <td>Y</td>\n",
       "      <td>N</td>\n",
       "      <td>N</td>\n",
       "      <td>1.1</td>\n",
       "      <td>346.0</td>\n",
       "      <td>3.65</td>\n",
       "      <td>63.0</td>\n",
       "      <td>1181.0</td>\n",
       "      <td>125.55</td>\n",
       "      <td>96.0</td>\n",
       "      <td>298.0</td>\n",
       "      <td>10.6</td>\n",
       "      <td>4.0</td>\n",
       "      <td>C</td>\n",
       "    </tr>\n",
       "  </tbody>\n",
       "</table>\n",
       "</div>"
      ],
      "text/plain": [
       "   id  N_Days             Drug    Age Sex Ascites Hepatomegaly Spiders Edema  \\\n",
       "0   0     999  D-penicillamine  21532   M       N            N       N     N   \n",
       "1   1    2574          Placebo  19237   F       N            N       N     N   \n",
       "2   2    3428          Placebo  13727   F       N            Y       Y     Y   \n",
       "3   3    2576          Placebo  18460   F       N            N       N     N   \n",
       "4   4     788          Placebo  16658   F       N            Y       N     N   \n",
       "\n",
       "   Bilirubin  Cholesterol  Albumin  Copper  Alk_Phos    SGOT  Tryglicerides  \\\n",
       "0        2.3        316.0     3.35   172.0    1601.0  179.80           63.0   \n",
       "1        0.9        364.0     3.54    63.0    1440.0  134.85           88.0   \n",
       "2        3.3        299.0     3.55   131.0    1029.0  119.35           50.0   \n",
       "3        0.6        256.0     3.50    58.0    1653.0   71.30           96.0   \n",
       "4        1.1        346.0     3.65    63.0    1181.0  125.55           96.0   \n",
       "\n",
       "   Platelets  Prothrombin  Stage Status  \n",
       "0      394.0          9.7    3.0      D  \n",
       "1      361.0         11.0    3.0      C  \n",
       "2      199.0         11.7    4.0      D  \n",
       "3      269.0         10.7    3.0      C  \n",
       "4      298.0         10.6    4.0      C  "
      ]
     },
     "execution_count": 53,
     "metadata": {},
     "output_type": "execute_result"
    }
   ],
   "source": [
    "df.head()"
   ]
  },
  {
   "cell_type": "code",
   "execution_count": 58,
   "id": "e9e91744",
   "metadata": {},
   "outputs": [],
   "source": [
    "def bar(plot):\n",
    "    plt.figure(figsize=(10,5))\n",
    "    sns.barplot(x=plot,y=df['Age'],data=df)\n",
    "    plt.xticks(rotation='vertical')\n",
    "    plt.show()\n",
    "    return bar"
   ]
  },
  {
   "cell_type": "code",
   "execution_count": 64,
   "id": "be1046b2",
   "metadata": {},
   "outputs": [
    {
     "data": {
      "text/plain": [
       "id                 int64\n",
       "N_Days             int64\n",
       "Drug              object\n",
       "Age                int64\n",
       "Sex               object\n",
       "Ascites           object\n",
       "Hepatomegaly      object\n",
       "Spiders           object\n",
       "Edema             object\n",
       "Bilirubin        float64\n",
       "Cholesterol      float64\n",
       "Albumin          float64\n",
       "Copper           float64\n",
       "Alk_Phos         float64\n",
       "SGOT             float64\n",
       "Tryglicerides    float64\n",
       "Platelets        float64\n",
       "Prothrombin      float64\n",
       "Stage            float64\n",
       "Status            object\n",
       "dtype: object"
      ]
     },
     "execution_count": 64,
     "metadata": {},
     "output_type": "execute_result"
    }
   ],
   "source": [
    "df.dtypes"
   ]
  },
  {
   "cell_type": "code",
   "execution_count": 246,
   "id": "4608e2b4",
   "metadata": {},
   "outputs": [],
   "source": [
    "# Fearure Engineering \n",
    "df['age']  = df['Age'] / 365"
   ]
  },
  {
   "cell_type": "code",
   "execution_count": 247,
   "id": "e4cc3445",
   "metadata": {},
   "outputs": [],
   "source": [
    "test['age'] = test['Age'] / 365"
   ]
  },
  {
   "cell_type": "code",
   "execution_count": 248,
   "id": "3d18477a",
   "metadata": {},
   "outputs": [
    {
     "data": {
      "text/html": [
       "<div>\n",
       "<style scoped>\n",
       "    .dataframe tbody tr th:only-of-type {\n",
       "        vertical-align: middle;\n",
       "    }\n",
       "\n",
       "    .dataframe tbody tr th {\n",
       "        vertical-align: top;\n",
       "    }\n",
       "\n",
       "    .dataframe thead th {\n",
       "        text-align: right;\n",
       "    }\n",
       "</style>\n",
       "<table border=\"1\" class=\"dataframe\">\n",
       "  <thead>\n",
       "    <tr style=\"text-align: right;\">\n",
       "      <th></th>\n",
       "      <th>id</th>\n",
       "      <th>N_Days</th>\n",
       "      <th>Drug</th>\n",
       "      <th>Age</th>\n",
       "      <th>Sex</th>\n",
       "      <th>Ascites</th>\n",
       "      <th>Hepatomegaly</th>\n",
       "      <th>Spiders</th>\n",
       "      <th>Edema</th>\n",
       "      <th>Bilirubin</th>\n",
       "      <th>...</th>\n",
       "      <th>Albumin</th>\n",
       "      <th>Copper</th>\n",
       "      <th>Alk_Phos</th>\n",
       "      <th>SGOT</th>\n",
       "      <th>Tryglicerides</th>\n",
       "      <th>Platelets</th>\n",
       "      <th>Prothrombin</th>\n",
       "      <th>Stage</th>\n",
       "      <th>Status</th>\n",
       "      <th>age</th>\n",
       "    </tr>\n",
       "  </thead>\n",
       "  <tbody>\n",
       "    <tr>\n",
       "      <th>0</th>\n",
       "      <td>0</td>\n",
       "      <td>999</td>\n",
       "      <td>D-penicillamine</td>\n",
       "      <td>21532</td>\n",
       "      <td>M</td>\n",
       "      <td>N</td>\n",
       "      <td>N</td>\n",
       "      <td>N</td>\n",
       "      <td>N</td>\n",
       "      <td>2.3</td>\n",
       "      <td>...</td>\n",
       "      <td>3.35</td>\n",
       "      <td>172.0</td>\n",
       "      <td>1601.0</td>\n",
       "      <td>179.80</td>\n",
       "      <td>63.0</td>\n",
       "      <td>394.0</td>\n",
       "      <td>9.7</td>\n",
       "      <td>3.0</td>\n",
       "      <td>D</td>\n",
       "      <td>58.991781</td>\n",
       "    </tr>\n",
       "    <tr>\n",
       "      <th>1</th>\n",
       "      <td>1</td>\n",
       "      <td>2574</td>\n",
       "      <td>Placebo</td>\n",
       "      <td>19237</td>\n",
       "      <td>F</td>\n",
       "      <td>N</td>\n",
       "      <td>N</td>\n",
       "      <td>N</td>\n",
       "      <td>N</td>\n",
       "      <td>0.9</td>\n",
       "      <td>...</td>\n",
       "      <td>3.54</td>\n",
       "      <td>63.0</td>\n",
       "      <td>1440.0</td>\n",
       "      <td>134.85</td>\n",
       "      <td>88.0</td>\n",
       "      <td>361.0</td>\n",
       "      <td>11.0</td>\n",
       "      <td>3.0</td>\n",
       "      <td>C</td>\n",
       "      <td>52.704110</td>\n",
       "    </tr>\n",
       "    <tr>\n",
       "      <th>2</th>\n",
       "      <td>2</td>\n",
       "      <td>3428</td>\n",
       "      <td>Placebo</td>\n",
       "      <td>13727</td>\n",
       "      <td>F</td>\n",
       "      <td>N</td>\n",
       "      <td>Y</td>\n",
       "      <td>Y</td>\n",
       "      <td>Y</td>\n",
       "      <td>3.3</td>\n",
       "      <td>...</td>\n",
       "      <td>3.55</td>\n",
       "      <td>131.0</td>\n",
       "      <td>1029.0</td>\n",
       "      <td>119.35</td>\n",
       "      <td>50.0</td>\n",
       "      <td>199.0</td>\n",
       "      <td>11.7</td>\n",
       "      <td>4.0</td>\n",
       "      <td>D</td>\n",
       "      <td>37.608219</td>\n",
       "    </tr>\n",
       "    <tr>\n",
       "      <th>3</th>\n",
       "      <td>3</td>\n",
       "      <td>2576</td>\n",
       "      <td>Placebo</td>\n",
       "      <td>18460</td>\n",
       "      <td>F</td>\n",
       "      <td>N</td>\n",
       "      <td>N</td>\n",
       "      <td>N</td>\n",
       "      <td>N</td>\n",
       "      <td>0.6</td>\n",
       "      <td>...</td>\n",
       "      <td>3.50</td>\n",
       "      <td>58.0</td>\n",
       "      <td>1653.0</td>\n",
       "      <td>71.30</td>\n",
       "      <td>96.0</td>\n",
       "      <td>269.0</td>\n",
       "      <td>10.7</td>\n",
       "      <td>3.0</td>\n",
       "      <td>C</td>\n",
       "      <td>50.575342</td>\n",
       "    </tr>\n",
       "    <tr>\n",
       "      <th>4</th>\n",
       "      <td>4</td>\n",
       "      <td>788</td>\n",
       "      <td>Placebo</td>\n",
       "      <td>16658</td>\n",
       "      <td>F</td>\n",
       "      <td>N</td>\n",
       "      <td>Y</td>\n",
       "      <td>N</td>\n",
       "      <td>N</td>\n",
       "      <td>1.1</td>\n",
       "      <td>...</td>\n",
       "      <td>3.65</td>\n",
       "      <td>63.0</td>\n",
       "      <td>1181.0</td>\n",
       "      <td>125.55</td>\n",
       "      <td>96.0</td>\n",
       "      <td>298.0</td>\n",
       "      <td>10.6</td>\n",
       "      <td>4.0</td>\n",
       "      <td>C</td>\n",
       "      <td>45.638356</td>\n",
       "    </tr>\n",
       "  </tbody>\n",
       "</table>\n",
       "<p>5 rows × 21 columns</p>\n",
       "</div>"
      ],
      "text/plain": [
       "   id  N_Days             Drug    Age Sex Ascites Hepatomegaly Spiders Edema  \\\n",
       "0   0     999  D-penicillamine  21532   M       N            N       N     N   \n",
       "1   1    2574          Placebo  19237   F       N            N       N     N   \n",
       "2   2    3428          Placebo  13727   F       N            Y       Y     Y   \n",
       "3   3    2576          Placebo  18460   F       N            N       N     N   \n",
       "4   4     788          Placebo  16658   F       N            Y       N     N   \n",
       "\n",
       "   Bilirubin  ...  Albumin  Copper  Alk_Phos    SGOT  Tryglicerides  \\\n",
       "0        2.3  ...     3.35   172.0    1601.0  179.80           63.0   \n",
       "1        0.9  ...     3.54    63.0    1440.0  134.85           88.0   \n",
       "2        3.3  ...     3.55   131.0    1029.0  119.35           50.0   \n",
       "3        0.6  ...     3.50    58.0    1653.0   71.30           96.0   \n",
       "4        1.1  ...     3.65    63.0    1181.0  125.55           96.0   \n",
       "\n",
       "   Platelets  Prothrombin  Stage  Status        age  \n",
       "0      394.0          9.7    3.0       D  58.991781  \n",
       "1      361.0         11.0    3.0       C  52.704110  \n",
       "2      199.0         11.7    4.0       D  37.608219  \n",
       "3      269.0         10.7    3.0       C  50.575342  \n",
       "4      298.0         10.6    4.0       C  45.638356  \n",
       "\n",
       "[5 rows x 21 columns]"
      ]
     },
     "execution_count": 248,
     "metadata": {},
     "output_type": "execute_result"
    }
   ],
   "source": [
    "df.head()"
   ]
  },
  {
   "cell_type": "code",
   "execution_count": 249,
   "id": "6f77de76",
   "metadata": {},
   "outputs": [],
   "source": [
    "df.drop(['Age'],axis=1,inplace=True)"
   ]
  },
  {
   "cell_type": "code",
   "execution_count": 250,
   "id": "5ced6955",
   "metadata": {},
   "outputs": [],
   "source": [
    "test_df = test.drop(['id','Age'],axis=1)"
   ]
  },
  {
   "cell_type": "code",
   "execution_count": 230,
   "id": "eaeabb1b",
   "metadata": {},
   "outputs": [
    {
     "data": {
      "text/html": [
       "<div>\n",
       "<style scoped>\n",
       "    .dataframe tbody tr th:only-of-type {\n",
       "        vertical-align: middle;\n",
       "    }\n",
       "\n",
       "    .dataframe tbody tr th {\n",
       "        vertical-align: top;\n",
       "    }\n",
       "\n",
       "    .dataframe thead th {\n",
       "        text-align: right;\n",
       "    }\n",
       "</style>\n",
       "<table border=\"1\" class=\"dataframe\">\n",
       "  <thead>\n",
       "    <tr style=\"text-align: right;\">\n",
       "      <th></th>\n",
       "      <th>N_Days</th>\n",
       "      <th>Drug</th>\n",
       "      <th>Sex</th>\n",
       "      <th>Ascites</th>\n",
       "      <th>Hepatomegaly</th>\n",
       "      <th>Spiders</th>\n",
       "      <th>Edema</th>\n",
       "      <th>Bilirubin</th>\n",
       "      <th>Cholesterol</th>\n",
       "      <th>Albumin</th>\n",
       "      <th>Copper</th>\n",
       "      <th>Alk_Phos</th>\n",
       "      <th>SGOT</th>\n",
       "      <th>Tryglicerides</th>\n",
       "      <th>Platelets</th>\n",
       "      <th>Prothrombin</th>\n",
       "      <th>Stage</th>\n",
       "      <th>age</th>\n",
       "    </tr>\n",
       "  </thead>\n",
       "  <tbody>\n",
       "    <tr>\n",
       "      <th>0</th>\n",
       "      <td>3839</td>\n",
       "      <td>D-penicillamine</td>\n",
       "      <td>F</td>\n",
       "      <td>N</td>\n",
       "      <td>Y</td>\n",
       "      <td>N</td>\n",
       "      <td>N</td>\n",
       "      <td>1.2</td>\n",
       "      <td>546.0</td>\n",
       "      <td>3.37</td>\n",
       "      <td>65.0</td>\n",
       "      <td>1636.0</td>\n",
       "      <td>151.90</td>\n",
       "      <td>90.0</td>\n",
       "      <td>430.0</td>\n",
       "      <td>10.6</td>\n",
       "      <td>2.0</td>\n",
       "      <td>54.038356</td>\n",
       "    </tr>\n",
       "    <tr>\n",
       "      <th>1</th>\n",
       "      <td>2468</td>\n",
       "      <td>D-penicillamine</td>\n",
       "      <td>F</td>\n",
       "      <td>N</td>\n",
       "      <td>N</td>\n",
       "      <td>N</td>\n",
       "      <td>N</td>\n",
       "      <td>1.1</td>\n",
       "      <td>660.0</td>\n",
       "      <td>4.22</td>\n",
       "      <td>94.0</td>\n",
       "      <td>1257.0</td>\n",
       "      <td>151.90</td>\n",
       "      <td>155.0</td>\n",
       "      <td>227.0</td>\n",
       "      <td>10.0</td>\n",
       "      <td>2.0</td>\n",
       "      <td>41.027397</td>\n",
       "    </tr>\n",
       "    <tr>\n",
       "      <th>2</th>\n",
       "      <td>51</td>\n",
       "      <td>Placebo</td>\n",
       "      <td>F</td>\n",
       "      <td>N</td>\n",
       "      <td>Y</td>\n",
       "      <td>N</td>\n",
       "      <td>Y</td>\n",
       "      <td>2.0</td>\n",
       "      <td>151.0</td>\n",
       "      <td>2.96</td>\n",
       "      <td>46.0</td>\n",
       "      <td>961.0</td>\n",
       "      <td>69.75</td>\n",
       "      <td>101.0</td>\n",
       "      <td>213.0</td>\n",
       "      <td>13.0</td>\n",
       "      <td>4.0</td>\n",
       "      <td>36.024658</td>\n",
       "    </tr>\n",
       "    <tr>\n",
       "      <th>3</th>\n",
       "      <td>2330</td>\n",
       "      <td>D-penicillamine</td>\n",
       "      <td>F</td>\n",
       "      <td>N</td>\n",
       "      <td>N</td>\n",
       "      <td>N</td>\n",
       "      <td>N</td>\n",
       "      <td>0.6</td>\n",
       "      <td>293.0</td>\n",
       "      <td>3.85</td>\n",
       "      <td>40.0</td>\n",
       "      <td>554.0</td>\n",
       "      <td>125.55</td>\n",
       "      <td>56.0</td>\n",
       "      <td>270.0</td>\n",
       "      <td>10.6</td>\n",
       "      <td>2.0</td>\n",
       "      <td>56.191781</td>\n",
       "    </tr>\n",
       "    <tr>\n",
       "      <th>4</th>\n",
       "      <td>1615</td>\n",
       "      <td>D-penicillamine</td>\n",
       "      <td>F</td>\n",
       "      <td>N</td>\n",
       "      <td>Y</td>\n",
       "      <td>N</td>\n",
       "      <td>N</td>\n",
       "      <td>1.4</td>\n",
       "      <td>277.0</td>\n",
       "      <td>2.97</td>\n",
       "      <td>121.0</td>\n",
       "      <td>1110.0</td>\n",
       "      <td>125.00</td>\n",
       "      <td>126.0</td>\n",
       "      <td>221.0</td>\n",
       "      <td>9.8</td>\n",
       "      <td>1.0</td>\n",
       "      <td>60.010959</td>\n",
       "    </tr>\n",
       "  </tbody>\n",
       "</table>\n",
       "</div>"
      ],
      "text/plain": [
       "   N_Days             Drug Sex Ascites Hepatomegaly Spiders Edema  Bilirubin  \\\n",
       "0    3839  D-penicillamine   F       N            Y       N     N        1.2   \n",
       "1    2468  D-penicillamine   F       N            N       N     N        1.1   \n",
       "2      51          Placebo   F       N            Y       N     Y        2.0   \n",
       "3    2330  D-penicillamine   F       N            N       N     N        0.6   \n",
       "4    1615  D-penicillamine   F       N            Y       N     N        1.4   \n",
       "\n",
       "   Cholesterol  Albumin  Copper  Alk_Phos    SGOT  Tryglicerides  Platelets  \\\n",
       "0        546.0     3.37    65.0    1636.0  151.90           90.0      430.0   \n",
       "1        660.0     4.22    94.0    1257.0  151.90          155.0      227.0   \n",
       "2        151.0     2.96    46.0     961.0   69.75          101.0      213.0   \n",
       "3        293.0     3.85    40.0     554.0  125.55           56.0      270.0   \n",
       "4        277.0     2.97   121.0    1110.0  125.00          126.0      221.0   \n",
       "\n",
       "   Prothrombin  Stage        age  \n",
       "0         10.6    2.0  54.038356  \n",
       "1         10.0    2.0  41.027397  \n",
       "2         13.0    4.0  36.024658  \n",
       "3         10.6    2.0  56.191781  \n",
       "4          9.8    1.0  60.010959  "
      ]
     },
     "execution_count": 230,
     "metadata": {},
     "output_type": "execute_result"
    }
   ],
   "source": [
    "test_df.head()"
   ]
  },
  {
   "cell_type": "code",
   "execution_count": 165,
   "id": "2299de58",
   "metadata": {},
   "outputs": [
    {
     "data": {
      "text/html": [
       "<div>\n",
       "<style scoped>\n",
       "    .dataframe tbody tr th:only-of-type {\n",
       "        vertical-align: middle;\n",
       "    }\n",
       "\n",
       "    .dataframe tbody tr th {\n",
       "        vertical-align: top;\n",
       "    }\n",
       "\n",
       "    .dataframe thead th {\n",
       "        text-align: right;\n",
       "    }\n",
       "</style>\n",
       "<table border=\"1\" class=\"dataframe\">\n",
       "  <thead>\n",
       "    <tr style=\"text-align: right;\">\n",
       "      <th></th>\n",
       "      <th>id</th>\n",
       "      <th>N_Days</th>\n",
       "      <th>Drug</th>\n",
       "      <th>Sex</th>\n",
       "      <th>Ascites</th>\n",
       "      <th>Hepatomegaly</th>\n",
       "      <th>Spiders</th>\n",
       "      <th>Edema</th>\n",
       "      <th>Bilirubin</th>\n",
       "      <th>Cholesterol</th>\n",
       "      <th>Albumin</th>\n",
       "      <th>Copper</th>\n",
       "      <th>Alk_Phos</th>\n",
       "      <th>SGOT</th>\n",
       "      <th>Tryglicerides</th>\n",
       "      <th>Platelets</th>\n",
       "      <th>Prothrombin</th>\n",
       "      <th>Stage</th>\n",
       "      <th>Status</th>\n",
       "      <th>age</th>\n",
       "    </tr>\n",
       "  </thead>\n",
       "  <tbody>\n",
       "    <tr>\n",
       "      <th>0</th>\n",
       "      <td>0</td>\n",
       "      <td>999</td>\n",
       "      <td>D-penicillamine</td>\n",
       "      <td>M</td>\n",
       "      <td>N</td>\n",
       "      <td>N</td>\n",
       "      <td>N</td>\n",
       "      <td>N</td>\n",
       "      <td>2.3</td>\n",
       "      <td>316.0</td>\n",
       "      <td>3.35</td>\n",
       "      <td>172.0</td>\n",
       "      <td>1601.0</td>\n",
       "      <td>179.80</td>\n",
       "      <td>63.0</td>\n",
       "      <td>394.0</td>\n",
       "      <td>9.7</td>\n",
       "      <td>3.0</td>\n",
       "      <td>D</td>\n",
       "      <td>58.991781</td>\n",
       "    </tr>\n",
       "    <tr>\n",
       "      <th>1</th>\n",
       "      <td>1</td>\n",
       "      <td>2574</td>\n",
       "      <td>Placebo</td>\n",
       "      <td>F</td>\n",
       "      <td>N</td>\n",
       "      <td>N</td>\n",
       "      <td>N</td>\n",
       "      <td>N</td>\n",
       "      <td>0.9</td>\n",
       "      <td>364.0</td>\n",
       "      <td>3.54</td>\n",
       "      <td>63.0</td>\n",
       "      <td>1440.0</td>\n",
       "      <td>134.85</td>\n",
       "      <td>88.0</td>\n",
       "      <td>361.0</td>\n",
       "      <td>11.0</td>\n",
       "      <td>3.0</td>\n",
       "      <td>C</td>\n",
       "      <td>52.704110</td>\n",
       "    </tr>\n",
       "    <tr>\n",
       "      <th>2</th>\n",
       "      <td>2</td>\n",
       "      <td>3428</td>\n",
       "      <td>Placebo</td>\n",
       "      <td>F</td>\n",
       "      <td>N</td>\n",
       "      <td>Y</td>\n",
       "      <td>Y</td>\n",
       "      <td>Y</td>\n",
       "      <td>3.3</td>\n",
       "      <td>299.0</td>\n",
       "      <td>3.55</td>\n",
       "      <td>131.0</td>\n",
       "      <td>1029.0</td>\n",
       "      <td>119.35</td>\n",
       "      <td>50.0</td>\n",
       "      <td>199.0</td>\n",
       "      <td>11.7</td>\n",
       "      <td>4.0</td>\n",
       "      <td>D</td>\n",
       "      <td>37.608219</td>\n",
       "    </tr>\n",
       "    <tr>\n",
       "      <th>3</th>\n",
       "      <td>3</td>\n",
       "      <td>2576</td>\n",
       "      <td>Placebo</td>\n",
       "      <td>F</td>\n",
       "      <td>N</td>\n",
       "      <td>N</td>\n",
       "      <td>N</td>\n",
       "      <td>N</td>\n",
       "      <td>0.6</td>\n",
       "      <td>256.0</td>\n",
       "      <td>3.50</td>\n",
       "      <td>58.0</td>\n",
       "      <td>1653.0</td>\n",
       "      <td>71.30</td>\n",
       "      <td>96.0</td>\n",
       "      <td>269.0</td>\n",
       "      <td>10.7</td>\n",
       "      <td>3.0</td>\n",
       "      <td>C</td>\n",
       "      <td>50.575342</td>\n",
       "    </tr>\n",
       "    <tr>\n",
       "      <th>4</th>\n",
       "      <td>4</td>\n",
       "      <td>788</td>\n",
       "      <td>Placebo</td>\n",
       "      <td>F</td>\n",
       "      <td>N</td>\n",
       "      <td>Y</td>\n",
       "      <td>N</td>\n",
       "      <td>N</td>\n",
       "      <td>1.1</td>\n",
       "      <td>346.0</td>\n",
       "      <td>3.65</td>\n",
       "      <td>63.0</td>\n",
       "      <td>1181.0</td>\n",
       "      <td>125.55</td>\n",
       "      <td>96.0</td>\n",
       "      <td>298.0</td>\n",
       "      <td>10.6</td>\n",
       "      <td>4.0</td>\n",
       "      <td>C</td>\n",
       "      <td>45.638356</td>\n",
       "    </tr>\n",
       "  </tbody>\n",
       "</table>\n",
       "</div>"
      ],
      "text/plain": [
       "   id  N_Days             Drug Sex Ascites Hepatomegaly Spiders Edema  \\\n",
       "0   0     999  D-penicillamine   M       N            N       N     N   \n",
       "1   1    2574          Placebo   F       N            N       N     N   \n",
       "2   2    3428          Placebo   F       N            Y       Y     Y   \n",
       "3   3    2576          Placebo   F       N            N       N     N   \n",
       "4   4     788          Placebo   F       N            Y       N     N   \n",
       "\n",
       "   Bilirubin  Cholesterol  Albumin  Copper  Alk_Phos    SGOT  Tryglicerides  \\\n",
       "0        2.3        316.0     3.35   172.0    1601.0  179.80           63.0   \n",
       "1        0.9        364.0     3.54    63.0    1440.0  134.85           88.0   \n",
       "2        3.3        299.0     3.55   131.0    1029.0  119.35           50.0   \n",
       "3        0.6        256.0     3.50    58.0    1653.0   71.30           96.0   \n",
       "4        1.1        346.0     3.65    63.0    1181.0  125.55           96.0   \n",
       "\n",
       "   Platelets  Prothrombin  Stage Status        age  \n",
       "0      394.0          9.7    3.0      D  58.991781  \n",
       "1      361.0         11.0    3.0      C  52.704110  \n",
       "2      199.0         11.7    4.0      D  37.608219  \n",
       "3      269.0         10.7    3.0      C  50.575342  \n",
       "4      298.0         10.6    4.0      C  45.638356  "
      ]
     },
     "execution_count": 165,
     "metadata": {},
     "output_type": "execute_result"
    }
   ],
   "source": [
    "df.head()"
   ]
  },
  {
   "cell_type": "code",
   "execution_count": 166,
   "id": "2c230858",
   "metadata": {},
   "outputs": [],
   "source": [
    "def outlair(plot):\n",
    "    plt.figure(figsize=(10,5))\n",
    "    sns.histplot(plot,kde=True)\n",
    "    plt.xticks(rotation='vertical')\n",
    "    plt.show()\n",
    "    return outlair"
   ]
  },
  {
   "cell_type": "code",
   "execution_count": 83,
   "id": "db94fb8a",
   "metadata": {},
   "outputs": [
    {
     "name": "stderr",
     "output_type": "stream",
     "text": [
      "C:\\Users\\Ghost Codm\\AppData\\Local\\Packages\\PythonSoftwareFoundation.Python.3.11_qbz5n2kfra8p0\\LocalCache\\local-packages\\Python311\\site-packages\\seaborn\\_oldcore.py:1498: FutureWarning:\n",
      "\n",
      "is_categorical_dtype is deprecated and will be removed in a future version. Use isinstance(dtype, CategoricalDtype) instead\n",
      "\n",
      "C:\\Users\\Ghost Codm\\AppData\\Local\\Packages\\PythonSoftwareFoundation.Python.3.11_qbz5n2kfra8p0\\LocalCache\\local-packages\\Python311\\site-packages\\seaborn\\_oldcore.py:1119: FutureWarning:\n",
      "\n",
      "use_inf_as_na option is deprecated and will be removed in a future version. Convert inf values to NaN before operating instead.\n",
      "\n"
     ]
    },
    {
     "data": {
      "image/png": "[encoded data removed]",
      "text/plain": [
       "<Figure size 1000x500 with 1 Axes>"
      ]
     },
     "metadata": {},
     "output_type": "display_data"
    },
    {
     "name": "stderr",
     "output_type": "stream",
     "text": [
      "C:\\Users\\Ghost Codm\\AppData\\Local\\Packages\\PythonSoftwareFoundation.Python.3.11_qbz5n2kfra8p0\\LocalCache\\local-packages\\Python311\\site-packages\\seaborn\\_oldcore.py:1498: FutureWarning:\n",
      "\n",
      "is_categorical_dtype is deprecated and will be removed in a future version. Use isinstance(dtype, CategoricalDtype) instead\n",
      "\n",
      "C:\\Users\\Ghost Codm\\AppData\\Local\\Packages\\PythonSoftwareFoundation.Python.3.11_qbz5n2kfra8p0\\LocalCache\\local-packages\\Python311\\site-packages\\seaborn\\_oldcore.py:1119: FutureWarning:\n",
      "\n",
      "use_inf_as_na option is deprecated and will be removed in a future version. Convert inf values to NaN before operating instead.\n",
      "\n"
     ]
    },
    {
     "data": {
      "image/png": "[encoded data removed]",
      "text/plain": [
       "<Figure size 1000x500 with 1 Axes>"
      ]
     },
     "metadata": {},
     "output_type": "display_data"
    },
    {
     "name": "stderr",
     "output_type": "stream",
     "text": [
      "C:\\Users\\Ghost Codm\\AppData\\Local\\Packages\\PythonSoftwareFoundation.Python.3.11_qbz5n2kfra8p0\\LocalCache\\local-packages\\Python311\\site-packages\\seaborn\\_oldcore.py:1498: FutureWarning:\n",
      "\n",
      "is_categorical_dtype is deprecated and will be removed in a future version. Use isinstance(dtype, CategoricalDtype) instead\n",
      "\n",
      "C:\\Users\\Ghost Codm\\AppData\\Local\\Packages\\PythonSoftwareFoundation.Python.3.11_qbz5n2kfra8p0\\LocalCache\\local-packages\\Python311\\site-packages\\seaborn\\_oldcore.py:1119: FutureWarning:\n",
      "\n",
      "use_inf_as_na option is deprecated and will be removed in a future version. Convert inf values to NaN before operating instead.\n",
      "\n"
     ]
    },
    {
     "data": {
      "image/png": "[encoded data removed]",
      "text/plain": [
       "<Figure size 1000x500 with 1 Axes>"
      ]
     },
     "metadata": {},
     "output_type": "display_data"
    },
    {
     "name": "stderr",
     "output_type": "stream",
     "text": [
      "C:\\Users\\Ghost Codm\\AppData\\Local\\Packages\\PythonSoftwareFoundation.Python.3.11_qbz5n2kfra8p0\\LocalCache\\local-packages\\Python311\\site-packages\\seaborn\\_oldcore.py:1498: FutureWarning:\n",
      "\n",
      "is_categorical_dtype is deprecated and will be removed in a future version. Use isinstance(dtype, CategoricalDtype) instead\n",
      "\n",
      "C:\\Users\\Ghost Codm\\AppData\\Local\\Packages\\PythonSoftwareFoundation.Python.3.11_qbz5n2kfra8p0\\LocalCache\\local-packages\\Python311\\site-packages\\seaborn\\_oldcore.py:1119: FutureWarning:\n",
      "\n",
      "use_inf_as_na option is deprecated and will be removed in a future version. Convert inf values to NaN before operating instead.\n",
      "\n"
     ]
    },
    {
     "data": {
      "image/png": "[encoded data removed]",
      "text/plain": [
       "<Figure size 1000x500 with 1 Axes>"
      ]
     },
     "metadata": {},
     "output_type": "display_data"
    },
    {
     "name": "stderr",
     "output_type": "stream",
     "text": [
      "C:\\Users\\Ghost Codm\\AppData\\Local\\Packages\\PythonSoftwareFoundation.Python.3.11_qbz5n2kfra8p0\\LocalCache\\local-packages\\Python311\\site-packages\\seaborn\\_oldcore.py:1498: FutureWarning:\n",
      "\n",
      "is_categorical_dtype is deprecated and will be removed in a future version. Use isinstance(dtype, CategoricalDtype) instead\n",
      "\n",
      "C:\\Users\\Ghost Codm\\AppData\\Local\\Packages\\PythonSoftwareFoundation.Python.3.11_qbz5n2kfra8p0\\LocalCache\\local-packages\\Python311\\site-packages\\seaborn\\_oldcore.py:1119: FutureWarning:\n",
      "\n",
      "use_inf_as_na option is deprecated and will be removed in a future version. Convert inf values to NaN before operating instead.\n",
      "\n"
     ]
    },
    {
     "data": {
      "image/png": "[encoded data removed]",
      "text/plain": [
       "<Figure size 1000x500 with 1 Axes>"
      ]
     },
     "metadata": {},
     "output_type": "display_data"
    },
    {
     "name": "stderr",
     "output_type": "stream",
     "text": [
      "C:\\Users\\Ghost Codm\\AppData\\Local\\Packages\\PythonSoftwareFoundation.Python.3.11_qbz5n2kfra8p0\\LocalCache\\local-packages\\Python311\\site-packages\\seaborn\\_oldcore.py:1498: FutureWarning:\n",
      "\n",
      "is_categorical_dtype is deprecated and will be removed in a future version. Use isinstance(dtype, CategoricalDtype) instead\n",
      "\n",
      "C:\\Users\\Ghost Codm\\AppData\\Local\\Packages\\PythonSoftwareFoundation.Python.3.11_qbz5n2kfra8p0\\LocalCache\\local-packages\\Python311\\site-packages\\seaborn\\_oldcore.py:1119: FutureWarning:\n",
      "\n",
      "use_inf_as_na option is deprecated and will be removed in a future version. Convert inf values to NaN before operating instead.\n",
      "\n"
     ]
    },
    {
     "data": {
      "image/png": "[encoded data removed]",
      "text/plain": [
       "<Figure size 1000x500 with 1 Axes>"
      ]
     },
     "metadata": {},
     "output_type": "display_data"
    },
    {
     "name": "stderr",
     "output_type": "stream",
     "text": [
      "C:\\Users\\Ghost Codm\\AppData\\Local\\Packages\\PythonSoftwareFoundation.Python.3.11_qbz5n2kfra8p0\\LocalCache\\local-packages\\Python311\\site-packages\\seaborn\\_oldcore.py:1498: FutureWarning:\n",
      "\n",
      "is_categorical_dtype is deprecated and will be removed in a future version. Use isinstance(dtype, CategoricalDtype) instead\n",
      "\n",
      "C:\\Users\\Ghost Codm\\AppData\\Local\\Packages\\PythonSoftwareFoundation.Python.3.11_qbz5n2kfra8p0\\LocalCache\\local-packages\\Python311\\site-packages\\seaborn\\_oldcore.py:1119: FutureWarning:\n",
      "\n",
      "use_inf_as_na option is deprecated and will be removed in a future version. Convert inf values to NaN before operating instead.\n",
      "\n"
     ]
    },
    {
     "data": {
      "image/png": "[encoded data removed]",
      "text/plain": [
       "<Figure size 1000x500 with 1 Axes>"
      ]
     },
     "metadata": {},
     "output_type": "display_data"
    },
    {
     "name": "stderr",
     "output_type": "stream",
     "text": [
      "C:\\Users\\Ghost Codm\\AppData\\Local\\Packages\\PythonSoftwareFoundation.Python.3.11_qbz5n2kfra8p0\\LocalCache\\local-packages\\Python311\\site-packages\\seaborn\\_oldcore.py:1498: FutureWarning:\n",
      "\n",
      "is_categorical_dtype is deprecated and will be removed in a future version. Use isinstance(dtype, CategoricalDtype) instead\n",
      "\n",
      "C:\\Users\\Ghost Codm\\AppData\\Local\\Packages\\PythonSoftwareFoundation.Python.3.11_qbz5n2kfra8p0\\LocalCache\\local-packages\\Python311\\site-packages\\seaborn\\_oldcore.py:1119: FutureWarning:\n",
      "\n",
      "use_inf_as_na option is deprecated and will be removed in a future version. Convert inf values to NaN before operating instead.\n",
      "\n"
     ]
    },
    {
     "data": {
      "image/png": "[encoded data removed]",
      "text/plain": [
       "<Figure size 1000x500 with 1 Axes>"
      ]
     },
     "metadata": {},
     "output_type": "display_data"
    },
    {
     "name": "stderr",
     "output_type": "stream",
     "text": [
      "C:\\Users\\Ghost Codm\\AppData\\Local\\Packages\\PythonSoftwareFoundation.Python.3.11_qbz5n2kfra8p0\\LocalCache\\local-packages\\Python311\\site-packages\\seaborn\\_oldcore.py:1498: FutureWarning:\n",
      "\n",
      "is_categorical_dtype is deprecated and will be removed in a future version. Use isinstance(dtype, CategoricalDtype) instead\n",
      "\n",
      "C:\\Users\\Ghost Codm\\AppData\\Local\\Packages\\PythonSoftwareFoundation.Python.3.11_qbz5n2kfra8p0\\LocalCache\\local-packages\\Python311\\site-packages\\seaborn\\_oldcore.py:1119: FutureWarning:\n",
      "\n",
      "use_inf_as_na option is deprecated and will be removed in a future version. Convert inf values to NaN before operating instead.\n",
      "\n"
     ]
    },
    {
     "data": {
      "image/png": "[encoded data removed]",
      "text/plain": [
       "<Figure size 1000x500 with 1 Axes>"
      ]
     },
     "metadata": {},
     "output_type": "display_data"
    },
    {
     "name": "stderr",
     "output_type": "stream",
     "text": [
      "C:\\Users\\Ghost Codm\\AppData\\Local\\Packages\\PythonSoftwareFoundation.Python.3.11_qbz5n2kfra8p0\\LocalCache\\local-packages\\Python311\\site-packages\\seaborn\\_oldcore.py:1498: FutureWarning:\n",
      "\n",
      "is_categorical_dtype is deprecated and will be removed in a future version. Use isinstance(dtype, CategoricalDtype) instead\n",
      "\n",
      "C:\\Users\\Ghost Codm\\AppData\\Local\\Packages\\PythonSoftwareFoundation.Python.3.11_qbz5n2kfra8p0\\LocalCache\\local-packages\\Python311\\site-packages\\seaborn\\_oldcore.py:1119: FutureWarning:\n",
      "\n",
      "use_inf_as_na option is deprecated and will be removed in a future version. Convert inf values to NaN before operating instead.\n",
      "\n"
     ]
    },
    {
     "data": {
      "image/png": "[encoded data removed]",
      "text/plain": [
       "<Figure size 1000x500 with 1 Axes>"
      ]
     },
     "metadata": {},
     "output_type": "display_data"
    },
    {
     "name": "stderr",
     "output_type": "stream",
     "text": [
      "C:\\Users\\Ghost Codm\\AppData\\Local\\Packages\\PythonSoftwareFoundation.Python.3.11_qbz5n2kfra8p0\\LocalCache\\local-packages\\Python311\\site-packages\\seaborn\\_oldcore.py:1498: FutureWarning:\n",
      "\n",
      "is_categorical_dtype is deprecated and will be removed in a future version. Use isinstance(dtype, CategoricalDtype) instead\n",
      "\n",
      "C:\\Users\\Ghost Codm\\AppData\\Local\\Packages\\PythonSoftwareFoundation.Python.3.11_qbz5n2kfra8p0\\LocalCache\\local-packages\\Python311\\site-packages\\seaborn\\_oldcore.py:1119: FutureWarning:\n",
      "\n",
      "use_inf_as_na option is deprecated and will be removed in a future version. Convert inf values to NaN before operating instead.\n",
      "\n"
     ]
    },
    {
     "data": {
      "image/png": "[encoded data removed]",
      "text/plain": [
       "<Figure size 1000x500 with 1 Axes>"
      ]
     },
     "metadata": {},
     "output_type": "display_data"
    },
    {
     "data": {
      "text/plain": [
       "<function __main__.outlair(plot)>"
      ]
     },
     "execution_count": 83,
     "metadata": {},
     "output_type": "execute_result"
    }
   ],
   "source": [
    "outlair(df['age'])\n",
    "outlair(df['Bilirubin'])\n",
    "outlair(df['Cholesterol'])\n",
    "outlair(df['Albumin'])\n",
    "outlair(df['Copper'])\n",
    "outlair(df['Alk_Phos'])\n",
    "outlair(df['SGOT'])\n",
    "outlair(df['Tryglicerides'])\n",
    "outlair(df['Platelets'])\n",
    "outlair(df['Prothrombin'])\n",
    "outlair(df['Stage'])"
   ]
  },
  {
   "cell_type": "code",
   "execution_count": 101,
   "id": "b939f2f4",
   "metadata": {},
   "outputs": [
    {
     "data": {
      "text/plain": [
       "(174, 20)"
      ]
     },
     "execution_count": 101,
     "metadata": {},
     "output_type": "execute_result"
    }
   ],
   "source": [
    "df[df.Bilirubin > (df.Bilirubin.mean()+3*df.Bilirubin.std())].shape"
   ]
  },
  {
   "cell_type": "code",
   "execution_count": null,
   "id": "85cb4ff4",
   "metadata": {},
   "outputs": [],
   "source": []
  },
  {
   "cell_type": "code",
   "execution_count": 89,
   "id": "0d4b8afa",
   "metadata": {},
   "outputs": [
    {
     "ename": "SyntaxError",
     "evalue": "invalid syntax (3857721030.py, line 1)",
     "output_type": "error",
     "traceback": [
      "\u001b[1;36m  Cell \u001b[1;32mIn[89], line 1\u001b[1;36m\u001b[0m\n\u001b[1;33m    def outlair_tectecting(df[column_name]):\u001b[0m\n\u001b[1;37m                             ^\u001b[0m\n\u001b[1;31mSyntaxError\u001b[0m\u001b[1;31m:\u001b[0m invalid syntax\n"
     ]
    }
   ],
   "source": [
    "def outlair_tectecting(df[column_name]):\n",
    "    plus = df[df[column_name] > (df[column_name].mean() + 3 * df[column_name].std())]\n",
    "    minus = df[df[column_name] < (df[column_name].mean() - 3 * df[column_name].std())]\n",
    "    if plus == [0,20]:\n",
    "        return None\n",
    "    else:\n",
    "        plus = df[df[column_name] <= (df[column_name].mean() + 3 * df[column_name].std())]\n",
    "    if minus == [0,20]:\n",
    "        return None\n",
    "    else:\n",
    "        minus = df[df[column_name] >= (df[column_name].mean() - 3 * df[column_name].std())]"
   ]
  },
  {
   "cell_type": "code",
   "execution_count": 102,
   "id": "26a59f48",
   "metadata": {},
   "outputs": [
    {
     "data": {
      "text/plain": [
       "Status\n",
       "C     4828\n",
       "D     2030\n",
       "CL     258\n",
       "Name: count, dtype: int64"
      ]
     },
     "execution_count": 102,
     "metadata": {},
     "output_type": "execute_result"
    }
   ],
   "source": [
    "df.Status.value_counts()"
   ]
  },
  {
   "cell_type": "code",
   "execution_count": 251,
   "id": "e3cb811f",
   "metadata": {},
   "outputs": [],
   "source": [
    "df['Status'] = df['Status'].replace({\n",
    "    'C' : 1,\n",
    "    'CL' : 2 ,\n",
    "    'D': 3\n",
    "})"
   ]
  },
  {
   "cell_type": "code",
   "execution_count": 180,
   "id": "674f73c0",
   "metadata": {},
   "outputs": [
    {
     "data": {
      "text/plain": [
       "Status\n",
       "1    4965\n",
       "3    2665\n",
       "2     275\n",
       "Name: count, dtype: int64"
      ]
     },
     "execution_count": 180,
     "metadata": {},
     "output_type": "execute_result"
    }
   ],
   "source": [
    "df.Status.value_counts()"
   ]
  },
  {
   "cell_type": "code",
   "execution_count": 181,
   "id": "2b0e4de7",
   "metadata": {},
   "outputs": [
    {
     "data": {
      "text/plain": [
       "(7905, 20)"
      ]
     },
     "execution_count": 181,
     "metadata": {},
     "output_type": "execute_result"
    }
   ],
   "source": [
    "df.shape"
   ]
  },
  {
   "cell_type": "code",
   "execution_count": 108,
   "id": "83133231",
   "metadata": {},
   "outputs": [
    {
     "data": {
      "text/html": [
       "<div>\n",
       "<style scoped>\n",
       "    .dataframe tbody tr th:only-of-type {\n",
       "        vertical-align: middle;\n",
       "    }\n",
       "\n",
       "    .dataframe tbody tr th {\n",
       "        vertical-align: top;\n",
       "    }\n",
       "\n",
       "    .dataframe thead th {\n",
       "        text-align: right;\n",
       "    }\n",
       "</style>\n",
       "<table border=\"1\" class=\"dataframe\">\n",
       "  <thead>\n",
       "    <tr style=\"text-align: right;\">\n",
       "      <th></th>\n",
       "      <th>id</th>\n",
       "      <th>N_Days</th>\n",
       "      <th>Drug</th>\n",
       "      <th>Sex</th>\n",
       "      <th>Ascites</th>\n",
       "      <th>Hepatomegaly</th>\n",
       "      <th>Spiders</th>\n",
       "      <th>Edema</th>\n",
       "      <th>Bilirubin</th>\n",
       "      <th>Cholesterol</th>\n",
       "      <th>Albumin</th>\n",
       "      <th>Copper</th>\n",
       "      <th>Alk_Phos</th>\n",
       "      <th>SGOT</th>\n",
       "      <th>Tryglicerides</th>\n",
       "      <th>Platelets</th>\n",
       "      <th>Prothrombin</th>\n",
       "      <th>Stage</th>\n",
       "      <th>Status</th>\n",
       "      <th>age</th>\n",
       "    </tr>\n",
       "  </thead>\n",
       "  <tbody>\n",
       "    <tr>\n",
       "      <th>0</th>\n",
       "      <td>0</td>\n",
       "      <td>999</td>\n",
       "      <td>D-penicillamine</td>\n",
       "      <td>M</td>\n",
       "      <td>N</td>\n",
       "      <td>N</td>\n",
       "      <td>N</td>\n",
       "      <td>N</td>\n",
       "      <td>2.3</td>\n",
       "      <td>316.0</td>\n",
       "      <td>3.35</td>\n",
       "      <td>172.0</td>\n",
       "      <td>1601.0</td>\n",
       "      <td>179.80</td>\n",
       "      <td>63.0</td>\n",
       "      <td>394.0</td>\n",
       "      <td>9.7</td>\n",
       "      <td>3.0</td>\n",
       "      <td>2</td>\n",
       "      <td>58.991781</td>\n",
       "    </tr>\n",
       "    <tr>\n",
       "      <th>1</th>\n",
       "      <td>1</td>\n",
       "      <td>2574</td>\n",
       "      <td>Placebo</td>\n",
       "      <td>F</td>\n",
       "      <td>N</td>\n",
       "      <td>N</td>\n",
       "      <td>N</td>\n",
       "      <td>N</td>\n",
       "      <td>0.9</td>\n",
       "      <td>364.0</td>\n",
       "      <td>3.54</td>\n",
       "      <td>63.0</td>\n",
       "      <td>1440.0</td>\n",
       "      <td>134.85</td>\n",
       "      <td>88.0</td>\n",
       "      <td>361.0</td>\n",
       "      <td>11.0</td>\n",
       "      <td>3.0</td>\n",
       "      <td>1</td>\n",
       "      <td>52.704110</td>\n",
       "    </tr>\n",
       "    <tr>\n",
       "      <th>2</th>\n",
       "      <td>2</td>\n",
       "      <td>3428</td>\n",
       "      <td>Placebo</td>\n",
       "      <td>F</td>\n",
       "      <td>N</td>\n",
       "      <td>Y</td>\n",
       "      <td>Y</td>\n",
       "      <td>Y</td>\n",
       "      <td>3.3</td>\n",
       "      <td>299.0</td>\n",
       "      <td>3.55</td>\n",
       "      <td>131.0</td>\n",
       "      <td>1029.0</td>\n",
       "      <td>119.35</td>\n",
       "      <td>50.0</td>\n",
       "      <td>199.0</td>\n",
       "      <td>11.7</td>\n",
       "      <td>4.0</td>\n",
       "      <td>2</td>\n",
       "      <td>37.608219</td>\n",
       "    </tr>\n",
       "    <tr>\n",
       "      <th>3</th>\n",
       "      <td>3</td>\n",
       "      <td>2576</td>\n",
       "      <td>Placebo</td>\n",
       "      <td>F</td>\n",
       "      <td>N</td>\n",
       "      <td>N</td>\n",
       "      <td>N</td>\n",
       "      <td>N</td>\n",
       "      <td>0.6</td>\n",
       "      <td>256.0</td>\n",
       "      <td>3.50</td>\n",
       "      <td>58.0</td>\n",
       "      <td>1653.0</td>\n",
       "      <td>71.30</td>\n",
       "      <td>96.0</td>\n",
       "      <td>269.0</td>\n",
       "      <td>10.7</td>\n",
       "      <td>3.0</td>\n",
       "      <td>1</td>\n",
       "      <td>50.575342</td>\n",
       "    </tr>\n",
       "    <tr>\n",
       "      <th>4</th>\n",
       "      <td>4</td>\n",
       "      <td>788</td>\n",
       "      <td>Placebo</td>\n",
       "      <td>F</td>\n",
       "      <td>N</td>\n",
       "      <td>Y</td>\n",
       "      <td>N</td>\n",
       "      <td>N</td>\n",
       "      <td>1.1</td>\n",
       "      <td>346.0</td>\n",
       "      <td>3.65</td>\n",
       "      <td>63.0</td>\n",
       "      <td>1181.0</td>\n",
       "      <td>125.55</td>\n",
       "      <td>96.0</td>\n",
       "      <td>298.0</td>\n",
       "      <td>10.6</td>\n",
       "      <td>4.0</td>\n",
       "      <td>1</td>\n",
       "      <td>45.638356</td>\n",
       "    </tr>\n",
       "  </tbody>\n",
       "</table>\n",
       "</div>"
      ],
      "text/plain": [
       "   id  N_Days             Drug Sex Ascites Hepatomegaly Spiders Edema  \\\n",
       "0   0     999  D-penicillamine   M       N            N       N     N   \n",
       "1   1    2574          Placebo   F       N            N       N     N   \n",
       "2   2    3428          Placebo   F       N            Y       Y     Y   \n",
       "3   3    2576          Placebo   F       N            N       N     N   \n",
       "4   4     788          Placebo   F       N            Y       N     N   \n",
       "\n",
       "   Bilirubin  Cholesterol  Albumin  Copper  Alk_Phos    SGOT  Tryglicerides  \\\n",
       "0        2.3        316.0     3.35   172.0    1601.0  179.80           63.0   \n",
       "1        0.9        364.0     3.54    63.0    1440.0  134.85           88.0   \n",
       "2        3.3        299.0     3.55   131.0    1029.0  119.35           50.0   \n",
       "3        0.6        256.0     3.50    58.0    1653.0   71.30           96.0   \n",
       "4        1.1        346.0     3.65    63.0    1181.0  125.55           96.0   \n",
       "\n",
       "   Platelets  Prothrombin  Stage  Status        age  \n",
       "0      394.0          9.7    3.0       2  58.991781  \n",
       "1      361.0         11.0    3.0       1  52.704110  \n",
       "2      199.0         11.7    4.0       2  37.608219  \n",
       "3      269.0         10.7    3.0       1  50.575342  \n",
       "4      298.0         10.6    4.0       1  45.638356  "
      ]
     },
     "execution_count": 108,
     "metadata": {},
     "output_type": "execute_result"
    }
   ],
   "source": [
    "df.head()"
   ]
  },
  {
   "cell_type": "code",
   "execution_count": 252,
   "id": "d2524ed2",
   "metadata": {},
   "outputs": [],
   "source": [
    "num_col = df.select_dtypes(include='number')\n",
    "feature = num_col.corr()['Status']"
   ]
  },
  {
   "cell_type": "code",
   "execution_count": 115,
   "id": "9710e70c",
   "metadata": {},
   "outputs": [
    {
     "data": {
      "image/png": "[encoded data removed]",
      "text/plain": [
       "<Figure size 1500x1000 with 2 Axes>"
      ]
     },
     "metadata": {},
     "output_type": "display_data"
    }
   ],
   "source": [
    "corrr = num_col.corr()\n",
    "plt.figure(figsize=(15,10))\n",
    "sns.heatmap(corrr,cmap='coolwarm',annot=True)\n",
    "plt.title('Feature Importance')\n",
    "plt.show()\n"
   ]
  },
  {
   "cell_type": "code",
   "execution_count": 172,
   "id": "b626a32b",
   "metadata": {},
   "outputs": [
    {
     "data": {
      "text/plain": [
       "id                 int64\n",
       "N_Days             int64\n",
       "Drug              object\n",
       "Sex               object\n",
       "Ascites           object\n",
       "Hepatomegaly      object\n",
       "Spiders           object\n",
       "Edema             object\n",
       "Bilirubin        float64\n",
       "Cholesterol      float64\n",
       "Albumin          float64\n",
       "Copper           float64\n",
       "Alk_Phos         float64\n",
       "SGOT             float64\n",
       "Tryglicerides    float64\n",
       "Platelets        float64\n",
       "Prothrombin      float64\n",
       "Stage            float64\n",
       "Status            object\n",
       "age              float64\n",
       "dtype: object"
      ]
     },
     "execution_count": 172,
     "metadata": {},
     "output_type": "execute_result"
    }
   ],
   "source": [
    "df.dtypes"
   ]
  },
  {
   "cell_type": "code",
   "execution_count": 253,
   "id": "71ab94ac",
   "metadata": {},
   "outputs": [],
   "source": [
    "x = df.drop(['id','Status'],axis=1)\n",
    "y = df['Status']"
   ]
  },
  {
   "cell_type": "code",
   "execution_count": 254,
   "id": "9e102fc4",
   "metadata": {},
   "outputs": [],
   "source": [
    "from sklearn.model_selection import train_test_split\n",
    "xtrain,xtest,ytrain,ytest = train_test_split(x,y,test_size=.2,random_state=452)"
   ]
  },
  {
   "cell_type": "code",
   "execution_count": 255,
   "id": "02ef54b0",
   "metadata": {},
   "outputs": [],
   "source": [
    "from sklearn.compose import ColumnTransformer\n",
    "from sklearn.pipeline import Pipeline\n",
    "from sklearn.metrics import r2_score,accuracy_score,mean_absolute_error,precision_score,log_loss\n",
    "from sklearn.linear_model import LogisticRegression,RidgeClassifier\n",
    "from sklearn.ensemble import RandomForestClassifier,GradientBoostingClassifier\n",
    "from sklearn.naive_bayes import MultinomialNB\n",
    "from xgboost import XGBRFRegressor\n",
    "from catboost import CatBoostClassifier\n",
    "from sklearn.preprocessing import OneHotEncoder,StandardScaler,MinMaxScaler"
   ]
  },
  {
   "cell_type": "code",
   "execution_count": 190,
   "id": "852e738d",
   "metadata": {},
   "outputs": [
    {
     "data": {
      "text/html": [
       "<div>\n",
       "<style scoped>\n",
       "    .dataframe tbody tr th:only-of-type {\n",
       "        vertical-align: middle;\n",
       "    }\n",
       "\n",
       "    .dataframe tbody tr th {\n",
       "        vertical-align: top;\n",
       "    }\n",
       "\n",
       "    .dataframe thead th {\n",
       "        text-align: right;\n",
       "    }\n",
       "</style>\n",
       "<table border=\"1\" class=\"dataframe\">\n",
       "  <thead>\n",
       "    <tr style=\"text-align: right;\">\n",
       "      <th></th>\n",
       "      <th>N_Days</th>\n",
       "      <th>Drug</th>\n",
       "      <th>Sex</th>\n",
       "      <th>Ascites</th>\n",
       "      <th>Hepatomegaly</th>\n",
       "      <th>Spiders</th>\n",
       "      <th>Edema</th>\n",
       "      <th>Bilirubin</th>\n",
       "      <th>Cholesterol</th>\n",
       "      <th>Albumin</th>\n",
       "      <th>Copper</th>\n",
       "      <th>Alk_Phos</th>\n",
       "      <th>SGOT</th>\n",
       "      <th>Tryglicerides</th>\n",
       "      <th>Platelets</th>\n",
       "      <th>Prothrombin</th>\n",
       "      <th>Stage</th>\n",
       "      <th>age</th>\n",
       "    </tr>\n",
       "  </thead>\n",
       "  <tbody>\n",
       "    <tr>\n",
       "      <th>6539</th>\n",
       "      <td>401</td>\n",
       "      <td>D-penicillamine</td>\n",
       "      <td>F</td>\n",
       "      <td>Y</td>\n",
       "      <td>Y</td>\n",
       "      <td>Y</td>\n",
       "      <td>Y</td>\n",
       "      <td>12.6</td>\n",
       "      <td>222.0</td>\n",
       "      <td>2.74</td>\n",
       "      <td>182.0</td>\n",
       "      <td>620.0</td>\n",
       "      <td>155.0</td>\n",
       "      <td>91.0</td>\n",
       "      <td>302.0</td>\n",
       "      <td>12.2</td>\n",
       "      <td>3.0</td>\n",
       "      <td>70.956164</td>\n",
       "    </tr>\n",
       "  </tbody>\n",
       "</table>\n",
       "</div>"
      ],
      "text/plain": [
       "      N_Days             Drug Sex Ascites Hepatomegaly Spiders Edema  \\\n",
       "6539     401  D-penicillamine   F       Y            Y       Y     Y   \n",
       "\n",
       "      Bilirubin  Cholesterol  Albumin  Copper  Alk_Phos   SGOT  Tryglicerides  \\\n",
       "6539       12.6        222.0     2.74   182.0     620.0  155.0           91.0   \n",
       "\n",
       "      Platelets  Prothrombin  Stage        age  \n",
       "6539      302.0         12.2    3.0  70.956164  "
      ]
     },
     "execution_count": 190,
     "metadata": {},
     "output_type": "execute_result"
    }
   ],
   "source": [
    "xtrain.head(1)"
   ]
  },
  {
   "cell_type": "code",
   "execution_count": 256,
   "id": "852fe20e",
   "metadata": {},
   "outputs": [
    {
     "name": "stderr",
     "output_type": "stream",
     "text": [
      "C:\\Users\\Ghost Codm\\AppData\\Local\\Packages\\PythonSoftwareFoundation.Python.3.11_qbz5n2kfra8p0\\LocalCache\\local-packages\\Python311\\site-packages\\sklearn\\preprocessing\\_encoders.py:975: FutureWarning:\n",
      "\n",
      "`sparse` was renamed to `sparse_output` in version 1.2 and will be removed in 1.4. `sparse_output` is ignored unless you leave `sparse` to its default value.\n",
      "\n",
      "C:\\Users\\Ghost Codm\\AppData\\Local\\Packages\\PythonSoftwareFoundation.Python.3.11_qbz5n2kfra8p0\\LocalCache\\local-packages\\Python311\\site-packages\\sklearn\\linear_model\\_sag.py:350: ConvergenceWarning:\n",
      "\n",
      "The max_iter was reached which means the coef_ did not converge\n",
      "\n"
     ]
    },
    {
     "name": "stdout",
     "output_type": "stream",
     "text": [
      "r2 score 0.11493316924443531\n",
      "accuracy scores 0.7849462365591398\n"
     ]
    },
    {
     "ename": "ValueError",
     "evalue": "y_true and y_pred contain different number of classes 3, 2. Please provide the true labels explicitly through the labels argument. Classes found in y_true: [1 2 3]",
     "output_type": "error",
     "traceback": [
      "\u001b[1;31m---------------------------------------------------------------------------\u001b[0m",
      "\u001b[1;31mValueError\u001b[0m                                Traceback (most recent call last)",
      "Cell \u001b[1;32mIn[256], line 13\u001b[0m\n\u001b[0;32m     11\u001b[0m \u001b[38;5;28mprint\u001b[39m(\u001b[38;5;124m'\u001b[39m\u001b[38;5;124mr2 score\u001b[39m\u001b[38;5;124m'\u001b[39m,r2_score(ytest,y_pred))\n\u001b[0;32m     12\u001b[0m \u001b[38;5;28mprint\u001b[39m(\u001b[38;5;124m'\u001b[39m\u001b[38;5;124maccuracy scores\u001b[39m\u001b[38;5;124m'\u001b[39m,accuracy_score(ytest,y_pred))\n\u001b[1;32m---> 13\u001b[0m \u001b[38;5;28mprint\u001b[39m(\u001b[38;5;124m'\u001b[39m\u001b[38;5;124mlog_loss\u001b[39m\u001b[38;5;124m'\u001b[39m,\u001b[43mlog_loss\u001b[49m\u001b[43m(\u001b[49m\u001b[43mytest\u001b[49m\u001b[43m,\u001b[49m\u001b[43my_pred\u001b[49m\u001b[43m)\u001b[49m)\n\u001b[0;32m     14\u001b[0m \u001b[38;5;28mprint\u001b[39m(\u001b[38;5;124m'\u001b[39m\u001b[38;5;124mMAE\u001b[39m\u001b[38;5;124m'\u001b[39m,mean_absolute_error(ytest,y_pred))\n",
      "File \u001b[1;32m~\\AppData\\Local\\Packages\\PythonSoftwareFoundation.Python.3.11_qbz5n2kfra8p0\\LocalCache\\local-packages\\Python311\\site-packages\\sklearn\\utils\\_param_validation.py:214\u001b[0m, in \u001b[0;36mvalidate_params.<locals>.decorator.<locals>.wrapper\u001b[1;34m(*args, **kwargs)\u001b[0m\n\u001b[0;32m    208\u001b[0m \u001b[38;5;28;01mtry\u001b[39;00m:\n\u001b[0;32m    209\u001b[0m     \u001b[38;5;28;01mwith\u001b[39;00m config_context(\n\u001b[0;32m    210\u001b[0m         skip_parameter_validation\u001b[38;5;241m=\u001b[39m(\n\u001b[0;32m    211\u001b[0m             prefer_skip_nested_validation \u001b[38;5;129;01mor\u001b[39;00m global_skip_validation\n\u001b[0;32m    212\u001b[0m         )\n\u001b[0;32m    213\u001b[0m     ):\n\u001b[1;32m--> 214\u001b[0m         \u001b[38;5;28;01mreturn\u001b[39;00m \u001b[43mfunc\u001b[49m\u001b[43m(\u001b[49m\u001b[38;5;241;43m*\u001b[39;49m\u001b[43margs\u001b[49m\u001b[43m,\u001b[49m\u001b[43m \u001b[49m\u001b[38;5;241;43m*\u001b[39;49m\u001b[38;5;241;43m*\u001b[39;49m\u001b[43mkwargs\u001b[49m\u001b[43m)\u001b[49m\n\u001b[0;32m    215\u001b[0m \u001b[38;5;28;01mexcept\u001b[39;00m InvalidParameterError \u001b[38;5;28;01mas\u001b[39;00m e:\n\u001b[0;32m    216\u001b[0m     \u001b[38;5;66;03m# When the function is just a wrapper around an estimator, we allow\u001b[39;00m\n\u001b[0;32m    217\u001b[0m     \u001b[38;5;66;03m# the function to delegate validation to the estimator, but we replace\u001b[39;00m\n\u001b[0;32m    218\u001b[0m     \u001b[38;5;66;03m# the name of the estimator by the name of the function in the error\u001b[39;00m\n\u001b[0;32m    219\u001b[0m     \u001b[38;5;66;03m# message to avoid confusion.\u001b[39;00m\n\u001b[0;32m    220\u001b[0m     msg \u001b[38;5;241m=\u001b[39m re\u001b[38;5;241m.\u001b[39msub(\n\u001b[0;32m    221\u001b[0m         \u001b[38;5;124mr\u001b[39m\u001b[38;5;124m\"\u001b[39m\u001b[38;5;124mparameter of \u001b[39m\u001b[38;5;124m\\\u001b[39m\u001b[38;5;124mw+ must be\u001b[39m\u001b[38;5;124m\"\u001b[39m,\n\u001b[0;32m    222\u001b[0m         \u001b[38;5;124mf\u001b[39m\u001b[38;5;124m\"\u001b[39m\u001b[38;5;124mparameter of \u001b[39m\u001b[38;5;132;01m{\u001b[39;00mfunc\u001b[38;5;241m.\u001b[39m\u001b[38;5;18m__qualname__\u001b[39m\u001b[38;5;132;01m}\u001b[39;00m\u001b[38;5;124m must be\u001b[39m\u001b[38;5;124m\"\u001b[39m,\n\u001b[0;32m    223\u001b[0m         \u001b[38;5;28mstr\u001b[39m(e),\n\u001b[0;32m    224\u001b[0m     )\n",
      "File \u001b[1;32m~\\AppData\\Local\\Packages\\PythonSoftwareFoundation.Python.3.11_qbz5n2kfra8p0\\LocalCache\\local-packages\\Python311\\site-packages\\sklearn\\metrics\\_classification.py:2903\u001b[0m, in \u001b[0;36mlog_loss\u001b[1;34m(y_true, y_pred, eps, normalize, sample_weight, labels)\u001b[0m\n\u001b[0;32m   2901\u001b[0m \u001b[38;5;28;01mif\u001b[39;00m \u001b[38;5;28mlen\u001b[39m(lb\u001b[38;5;241m.\u001b[39mclasses_) \u001b[38;5;241m!=\u001b[39m y_pred\u001b[38;5;241m.\u001b[39mshape[\u001b[38;5;241m1\u001b[39m]:\n\u001b[0;32m   2902\u001b[0m     \u001b[38;5;28;01mif\u001b[39;00m labels \u001b[38;5;129;01mis\u001b[39;00m \u001b[38;5;28;01mNone\u001b[39;00m:\n\u001b[1;32m-> 2903\u001b[0m         \u001b[38;5;28;01mraise\u001b[39;00m \u001b[38;5;167;01mValueError\u001b[39;00m(\n\u001b[0;32m   2904\u001b[0m             \u001b[38;5;124m\"\u001b[39m\u001b[38;5;124my_true and y_pred contain different number of \u001b[39m\u001b[38;5;124m\"\u001b[39m\n\u001b[0;32m   2905\u001b[0m             \u001b[38;5;124m\"\u001b[39m\u001b[38;5;124mclasses \u001b[39m\u001b[38;5;132;01m{0}\u001b[39;00m\u001b[38;5;124m, \u001b[39m\u001b[38;5;132;01m{1}\u001b[39;00m\u001b[38;5;124m. Please provide the true \u001b[39m\u001b[38;5;124m\"\u001b[39m\n\u001b[0;32m   2906\u001b[0m             \u001b[38;5;124m\"\u001b[39m\u001b[38;5;124mlabels explicitly through the labels argument. \u001b[39m\u001b[38;5;124m\"\u001b[39m\n\u001b[0;32m   2907\u001b[0m             \u001b[38;5;124m\"\u001b[39m\u001b[38;5;124mClasses found in \u001b[39m\u001b[38;5;124m\"\u001b[39m\n\u001b[0;32m   2908\u001b[0m             \u001b[38;5;124m\"\u001b[39m\u001b[38;5;124my_true: \u001b[39m\u001b[38;5;132;01m{2}\u001b[39;00m\u001b[38;5;124m\"\u001b[39m\u001b[38;5;241m.\u001b[39mformat(\n\u001b[0;32m   2909\u001b[0m                 transformed_labels\u001b[38;5;241m.\u001b[39mshape[\u001b[38;5;241m1\u001b[39m], y_pred\u001b[38;5;241m.\u001b[39mshape[\u001b[38;5;241m1\u001b[39m], lb\u001b[38;5;241m.\u001b[39mclasses_\n\u001b[0;32m   2910\u001b[0m             )\n\u001b[0;32m   2911\u001b[0m         )\n\u001b[0;32m   2912\u001b[0m     \u001b[38;5;28;01melse\u001b[39;00m:\n\u001b[0;32m   2913\u001b[0m         \u001b[38;5;28;01mraise\u001b[39;00m \u001b[38;5;167;01mValueError\u001b[39;00m(\n\u001b[0;32m   2914\u001b[0m             \u001b[38;5;124m\"\u001b[39m\u001b[38;5;124mThe number of classes in labels is different \u001b[39m\u001b[38;5;124m\"\u001b[39m\n\u001b[0;32m   2915\u001b[0m             \u001b[38;5;124m\"\u001b[39m\u001b[38;5;124mfrom that in y_pred. Classes found in \u001b[39m\u001b[38;5;124m\"\u001b[39m\n\u001b[0;32m   2916\u001b[0m             \u001b[38;5;124m\"\u001b[39m\u001b[38;5;124mlabels: \u001b[39m\u001b[38;5;132;01m{0}\u001b[39;00m\u001b[38;5;124m\"\u001b[39m\u001b[38;5;241m.\u001b[39mformat(lb\u001b[38;5;241m.\u001b[39mclasses_)\n\u001b[0;32m   2917\u001b[0m         )\n",
      "\u001b[1;31mValueError\u001b[0m: y_true and y_pred contain different number of classes 3, 2. Please provide the true labels explicitly through the labels argument. Classes found in y_true: [1 2 3]"
     ]
    }
   ],
   "source": [
    "step1 = ColumnTransformer(transformers=[\n",
    "    ('col_tnf',OneHotEncoder(sparse=False,drop='first',handle_unknown='ignore'),[1,2,3,4,5,6])\n",
    "],remainder='passthrough')\n",
    "step2 = LogisticRegression(solver='saga')\n",
    "pipe = Pipeline([\n",
    "    ('step1',step1),\n",
    "    ('step2',step2)\n",
    "])\n",
    "pipe.fit(xtrain,ytrain)\n",
    "y_pred = pipe.predict(xtest)\n",
    "print('r2 score',r2_score(ytest,y_pred))\n",
    "print('accuracy scores',accuracy_score(ytest,y_pred))\n",
    "print('log_loss',log_loss(ytest,y_pred))\n",
    "print('MAE',mean_absolute_error(ytest,y_pred))"
   ]
  },
  {
   "cell_type": "code",
   "execution_count": 192,
   "id": "622baad9",
   "metadata": {},
   "outputs": [
    {
     "name": "stderr",
     "output_type": "stream",
     "text": [
      "C:\\Users\\Ghost Codm\\AppData\\Local\\Packages\\PythonSoftwareFoundation.Python.3.11_qbz5n2kfra8p0\\LocalCache\\local-packages\\Python311\\site-packages\\sklearn\\preprocessing\\_encoders.py:975: FutureWarning:\n",
      "\n",
      "`sparse` was renamed to `sparse_output` in version 1.2 and will be removed in 1.4. `sparse_output` is ignored unless you leave `sparse` to its default value.\n",
      "\n"
     ]
    },
    {
     "name": "stdout",
     "output_type": "stream",
     "text": [
      "Learning rate set to 0.086931\n",
      "0:\tlearn: 1.0118348\ttotal: 25.2ms\tremaining: 25.2s\n",
      "1:\tlearn: 0.9412818\ttotal: 46.6ms\tremaining: 23.3s\n",
      "2:\tlearn: 0.8853301\ttotal: 75.7ms\tremaining: 25.2s\n",
      "3:\tlearn: 0.8368335\ttotal: 113ms\tremaining: 28s\n",
      "4:\tlearn: 0.7961109\ttotal: 135ms\tremaining: 26.8s\n",
      "5:\tlearn: 0.7611915\ttotal: 159ms\tremaining: 26.4s\n",
      "6:\tlearn: 0.7310043\ttotal: 181ms\tremaining: 25.7s\n",
      "7:\tlearn: 0.7042034\ttotal: 212ms\tremaining: 26.3s\n",
      "8:\tlearn: 0.6804381\ttotal: 238ms\tremaining: 26.2s\n",
      "9:\tlearn: 0.6590715\ttotal: 263ms\tremaining: 26.1s\n",
      "10:\tlearn: 0.6407947\ttotal: 284ms\tremaining: 25.6s\n",
      "11:\tlearn: 0.6244366\ttotal: 301ms\tremaining: 24.8s\n",
      "12:\tlearn: 0.6098133\ttotal: 317ms\tremaining: 24s\n",
      "13:\tlearn: 0.5963290\ttotal: 332ms\tremaining: 23.4s\n",
      "14:\tlearn: 0.5846257\ttotal: 347ms\tremaining: 22.8s\n",
      "15:\tlearn: 0.5742765\ttotal: 362ms\tremaining: 22.3s\n",
      "16:\tlearn: 0.5648512\ttotal: 377ms\tremaining: 21.8s\n",
      "17:\tlearn: 0.5565135\ttotal: 392ms\tremaining: 21.4s\n",
      "18:\tlearn: 0.5485267\ttotal: 408ms\tremaining: 21.1s\n",
      "19:\tlearn: 0.5413488\ttotal: 426ms\tremaining: 20.9s\n",
      "20:\tlearn: 0.5347600\ttotal: 442ms\tremaining: 20.6s\n",
      "21:\tlearn: 0.5283330\ttotal: 463ms\tremaining: 20.6s\n",
      "22:\tlearn: 0.5228708\ttotal: 495ms\tremaining: 21s\n",
      "23:\tlearn: 0.5180989\ttotal: 518ms\tremaining: 21.1s\n",
      "24:\tlearn: 0.5134299\ttotal: 533ms\tremaining: 20.8s\n",
      "25:\tlearn: 0.5092611\ttotal: 550ms\tremaining: 20.6s\n",
      "26:\tlearn: 0.5051895\ttotal: 568ms\tremaining: 20.5s\n",
      "27:\tlearn: 0.5015906\ttotal: 583ms\tremaining: 20.2s\n",
      "28:\tlearn: 0.4988263\ttotal: 600ms\tremaining: 20.1s\n",
      "29:\tlearn: 0.4952489\ttotal: 619ms\tremaining: 20s\n",
      "30:\tlearn: 0.4928981\ttotal: 638ms\tremaining: 19.9s\n",
      "31:\tlearn: 0.4904946\ttotal: 669ms\tremaining: 20.2s\n",
      "32:\tlearn: 0.4878272\ttotal: 691ms\tremaining: 20.3s\n",
      "33:\tlearn: 0.4849054\ttotal: 709ms\tremaining: 20.2s\n",
      "34:\tlearn: 0.4823826\ttotal: 727ms\tremaining: 20s\n",
      "35:\tlearn: 0.4804168\ttotal: 743ms\tremaining: 19.9s\n",
      "36:\tlearn: 0.4784968\ttotal: 759ms\tremaining: 19.7s\n",
      "37:\tlearn: 0.4766307\ttotal: 775ms\tremaining: 19.6s\n",
      "38:\tlearn: 0.4749026\ttotal: 797ms\tremaining: 19.6s\n",
      "39:\tlearn: 0.4735691\ttotal: 821ms\tremaining: 19.7s\n",
      "40:\tlearn: 0.4718510\ttotal: 839ms\tremaining: 19.6s\n",
      "41:\tlearn: 0.4706092\ttotal: 858ms\tremaining: 19.6s\n",
      "42:\tlearn: 0.4690763\ttotal: 880ms\tremaining: 19.6s\n",
      "43:\tlearn: 0.4675374\ttotal: 903ms\tremaining: 19.6s\n",
      "44:\tlearn: 0.4664817\ttotal: 919ms\tremaining: 19.5s\n",
      "45:\tlearn: 0.4650547\ttotal: 939ms\tremaining: 19.5s\n",
      "46:\tlearn: 0.4636804\ttotal: 1s\tremaining: 20.4s\n",
      "47:\tlearn: 0.4624061\ttotal: 1.04s\tremaining: 20.6s\n",
      "48:\tlearn: 0.4614876\ttotal: 1.05s\tremaining: 20.5s\n",
      "49:\tlearn: 0.4603061\ttotal: 1.12s\tremaining: 21.3s\n",
      "50:\tlearn: 0.4593487\ttotal: 1.19s\tremaining: 22.1s\n",
      "51:\tlearn: 0.4581264\ttotal: 1.21s\tremaining: 22.1s\n",
      "52:\tlearn: 0.4570608\ttotal: 1.24s\tremaining: 22.1s\n",
      "53:\tlearn: 0.4561124\ttotal: 1.27s\tremaining: 22.2s\n",
      "54:\tlearn: 0.4548335\ttotal: 1.3s\tremaining: 22.4s\n",
      "55:\tlearn: 0.4537923\ttotal: 1.33s\tremaining: 22.4s\n",
      "56:\tlearn: 0.4524596\ttotal: 1.35s\tremaining: 22.4s\n",
      "57:\tlearn: 0.4517329\ttotal: 1.38s\tremaining: 22.4s\n",
      "58:\tlearn: 0.4508383\ttotal: 1.41s\tremaining: 22.5s\n",
      "59:\tlearn: 0.4491563\ttotal: 1.44s\tremaining: 22.5s\n",
      "60:\tlearn: 0.4480489\ttotal: 1.47s\tremaining: 22.6s\n",
      "61:\tlearn: 0.4470652\ttotal: 1.5s\tremaining: 22.7s\n",
      "62:\tlearn: 0.4462698\ttotal: 1.52s\tremaining: 22.6s\n",
      "63:\tlearn: 0.4453656\ttotal: 1.53s\tremaining: 22.4s\n",
      "64:\tlearn: 0.4441870\ttotal: 1.56s\tremaining: 22.5s\n",
      "65:\tlearn: 0.4434679\ttotal: 1.58s\tremaining: 22.4s\n",
      "66:\tlearn: 0.4426474\ttotal: 1.62s\tremaining: 22.5s\n",
      "67:\tlearn: 0.4419669\ttotal: 1.68s\tremaining: 23s\n",
      "68:\tlearn: 0.4409847\ttotal: 1.71s\tremaining: 23.1s\n",
      "69:\tlearn: 0.4401051\ttotal: 1.73s\tremaining: 23s\n",
      "70:\tlearn: 0.4393729\ttotal: 1.76s\tremaining: 23.1s\n",
      "71:\tlearn: 0.4383241\ttotal: 1.79s\tremaining: 23.1s\n",
      "72:\tlearn: 0.4376407\ttotal: 1.81s\tremaining: 23s\n",
      "73:\tlearn: 0.4368992\ttotal: 1.83s\tremaining: 22.9s\n",
      "74:\tlearn: 0.4360738\ttotal: 1.85s\tremaining: 22.8s\n",
      "75:\tlearn: 0.4353570\ttotal: 1.87s\tremaining: 22.7s\n",
      "76:\tlearn: 0.4347538\ttotal: 1.88s\tremaining: 22.6s\n",
      "77:\tlearn: 0.4341898\ttotal: 1.9s\tremaining: 22.5s\n",
      "78:\tlearn: 0.4332509\ttotal: 1.92s\tremaining: 22.4s\n",
      "79:\tlearn: 0.4322392\ttotal: 1.95s\tremaining: 22.5s\n",
      "80:\tlearn: 0.4316754\ttotal: 1.98s\tremaining: 22.5s\n",
      "81:\tlearn: 0.4309183\ttotal: 2.01s\tremaining: 22.5s\n",
      "82:\tlearn: 0.4303375\ttotal: 2.04s\tremaining: 22.5s\n",
      "83:\tlearn: 0.4296545\ttotal: 2.07s\tremaining: 22.6s\n",
      "84:\tlearn: 0.4287943\ttotal: 2.09s\tremaining: 22.5s\n",
      "85:\tlearn: 0.4280254\ttotal: 2.12s\tremaining: 22.6s\n",
      "86:\tlearn: 0.4273689\ttotal: 2.15s\tremaining: 22.6s\n",
      "87:\tlearn: 0.4265731\ttotal: 2.17s\tremaining: 22.5s\n",
      "88:\tlearn: 0.4258029\ttotal: 2.19s\tremaining: 22.4s\n",
      "89:\tlearn: 0.4249805\ttotal: 2.21s\tremaining: 22.3s\n",
      "90:\tlearn: 0.4244587\ttotal: 2.23s\tremaining: 22.2s\n",
      "91:\tlearn: 0.4237619\ttotal: 2.25s\tremaining: 22.2s\n",
      "92:\tlearn: 0.4232505\ttotal: 2.27s\tremaining: 22.1s\n",
      "93:\tlearn: 0.4228313\ttotal: 2.3s\tremaining: 22.1s\n",
      "94:\tlearn: 0.4222524\ttotal: 2.33s\tremaining: 22.2s\n",
      "95:\tlearn: 0.4218921\ttotal: 2.35s\tremaining: 22.1s\n",
      "96:\tlearn: 0.4213081\ttotal: 2.38s\tremaining: 22.2s\n",
      "97:\tlearn: 0.4205968\ttotal: 2.4s\tremaining: 22.1s\n",
      "98:\tlearn: 0.4196348\ttotal: 2.43s\tremaining: 22.1s\n",
      "99:\tlearn: 0.4190487\ttotal: 2.45s\tremaining: 22.1s\n",
      "100:\tlearn: 0.4182546\ttotal: 2.48s\tremaining: 22.1s\n",
      "101:\tlearn: 0.4176482\ttotal: 2.5s\tremaining: 22.1s\n",
      "102:\tlearn: 0.4169276\ttotal: 2.53s\tremaining: 22s\n",
      "103:\tlearn: 0.4163186\ttotal: 2.55s\tremaining: 22s\n",
      "104:\tlearn: 0.4159413\ttotal: 2.58s\tremaining: 22s\n",
      "105:\tlearn: 0.4155764\ttotal: 2.6s\tremaining: 21.9s\n",
      "106:\tlearn: 0.4151097\ttotal: 2.61s\tremaining: 21.8s\n",
      "107:\tlearn: 0.4145243\ttotal: 2.64s\tremaining: 21.8s\n",
      "108:\tlearn: 0.4140763\ttotal: 2.66s\tremaining: 21.7s\n",
      "109:\tlearn: 0.4135106\ttotal: 2.68s\tremaining: 21.7s\n",
      "110:\tlearn: 0.4130363\ttotal: 2.71s\tremaining: 21.7s\n",
      "111:\tlearn: 0.4126168\ttotal: 2.73s\tremaining: 21.7s\n",
      "112:\tlearn: 0.4120751\ttotal: 2.76s\tremaining: 21.7s\n",
      "113:\tlearn: 0.4113279\ttotal: 2.78s\tremaining: 21.6s\n",
      "114:\tlearn: 0.4104946\ttotal: 2.81s\tremaining: 21.6s\n",
      "115:\tlearn: 0.4098554\ttotal: 2.83s\tremaining: 21.5s\n",
      "116:\tlearn: 0.4092315\ttotal: 2.85s\tremaining: 21.5s\n",
      "117:\tlearn: 0.4086507\ttotal: 2.86s\tremaining: 21.4s\n",
      "118:\tlearn: 0.4077572\ttotal: 2.88s\tremaining: 21.4s\n",
      "119:\tlearn: 0.4075307\ttotal: 2.9s\tremaining: 21.3s\n",
      "120:\tlearn: 0.4071562\ttotal: 2.93s\tremaining: 21.3s\n",
      "121:\tlearn: 0.4063144\ttotal: 2.95s\tremaining: 21.2s\n",
      "122:\tlearn: 0.4055170\ttotal: 2.97s\tremaining: 21.1s\n",
      "123:\tlearn: 0.4049394\ttotal: 2.98s\tremaining: 21.1s\n",
      "124:\tlearn: 0.4042563\ttotal: 3s\tremaining: 21s\n",
      "125:\tlearn: 0.4038475\ttotal: 3.02s\tremaining: 21s\n",
      "126:\tlearn: 0.4033055\ttotal: 3.04s\tremaining: 20.9s\n",
      "127:\tlearn: 0.4026789\ttotal: 3.07s\tremaining: 20.9s\n",
      "128:\tlearn: 0.4020224\ttotal: 3.1s\tremaining: 20.9s\n",
      "129:\tlearn: 0.4014357\ttotal: 3.13s\tremaining: 20.9s\n",
      "130:\tlearn: 0.4005202\ttotal: 3.16s\tremaining: 21s\n",
      "131:\tlearn: 0.3999184\ttotal: 3.18s\tremaining: 20.9s\n",
      "132:\tlearn: 0.3994421\ttotal: 3.2s\tremaining: 20.9s\n",
      "133:\tlearn: 0.3988061\ttotal: 3.22s\tremaining: 20.8s\n",
      "134:\tlearn: 0.3981510\ttotal: 3.24s\tremaining: 20.8s\n",
      "135:\tlearn: 0.3972482\ttotal: 3.27s\tremaining: 20.7s\n",
      "136:\tlearn: 0.3968544\ttotal: 3.29s\tremaining: 20.7s\n",
      "137:\tlearn: 0.3963515\ttotal: 3.31s\tremaining: 20.7s\n",
      "138:\tlearn: 0.3959097\ttotal: 3.33s\tremaining: 20.6s\n",
      "139:\tlearn: 0.3953214\ttotal: 3.35s\tremaining: 20.6s\n",
      "140:\tlearn: 0.3949218\ttotal: 3.37s\tremaining: 20.6s\n",
      "141:\tlearn: 0.3945592\ttotal: 3.4s\tremaining: 20.6s\n",
      "142:\tlearn: 0.3939071\ttotal: 3.42s\tremaining: 20.5s\n",
      "143:\tlearn: 0.3933132\ttotal: 3.45s\tremaining: 20.5s\n",
      "144:\tlearn: 0.3928738\ttotal: 3.47s\tremaining: 20.5s\n",
      "145:\tlearn: 0.3924520\ttotal: 3.49s\tremaining: 20.4s\n",
      "146:\tlearn: 0.3914810\ttotal: 3.52s\tremaining: 20.4s\n",
      "147:\tlearn: 0.3908252\ttotal: 3.54s\tremaining: 20.4s\n",
      "148:\tlearn: 0.3902036\ttotal: 3.57s\tremaining: 20.4s\n",
      "149:\tlearn: 0.3897323\ttotal: 3.59s\tremaining: 20.4s\n",
      "150:\tlearn: 0.3892396\ttotal: 3.62s\tremaining: 20.4s\n",
      "151:\tlearn: 0.3888146\ttotal: 3.64s\tremaining: 20.3s\n",
      "152:\tlearn: 0.3881315\ttotal: 3.67s\tremaining: 20.3s\n",
      "153:\tlearn: 0.3875064\ttotal: 3.69s\tremaining: 20.3s\n",
      "154:\tlearn: 0.3870275\ttotal: 3.72s\tremaining: 20.3s\n",
      "155:\tlearn: 0.3862286\ttotal: 3.75s\tremaining: 20.3s\n",
      "156:\tlearn: 0.3858995\ttotal: 3.78s\tremaining: 20.3s\n",
      "157:\tlearn: 0.3855790\ttotal: 3.81s\tremaining: 20.3s\n",
      "158:\tlearn: 0.3851914\ttotal: 3.84s\tremaining: 20.3s\n",
      "159:\tlearn: 0.3846976\ttotal: 3.87s\tremaining: 20.3s\n",
      "160:\tlearn: 0.3838928\ttotal: 3.89s\tremaining: 20.3s\n",
      "161:\tlearn: 0.3832337\ttotal: 3.92s\tremaining: 20.3s\n"
     ]
    },
    {
     "name": "stdout",
     "output_type": "stream",
     "text": [
      "162:\tlearn: 0.3827591\ttotal: 3.96s\tremaining: 20.3s\n",
      "163:\tlearn: 0.3820160\ttotal: 3.98s\tremaining: 20.3s\n",
      "164:\tlearn: 0.3815163\ttotal: 4s\tremaining: 20.3s\n",
      "165:\tlearn: 0.3807637\ttotal: 4.03s\tremaining: 20.2s\n",
      "166:\tlearn: 0.3803932\ttotal: 4.05s\tremaining: 20.2s\n",
      "167:\tlearn: 0.3798804\ttotal: 4.07s\tremaining: 20.2s\n",
      "168:\tlearn: 0.3795574\ttotal: 4.1s\tremaining: 20.1s\n",
      "169:\tlearn: 0.3790618\ttotal: 4.13s\tremaining: 20.1s\n",
      "170:\tlearn: 0.3786630\ttotal: 4.15s\tremaining: 20.1s\n",
      "171:\tlearn: 0.3782219\ttotal: 4.17s\tremaining: 20.1s\n",
      "172:\tlearn: 0.3777985\ttotal: 4.19s\tremaining: 20.1s\n",
      "173:\tlearn: 0.3772705\ttotal: 4.22s\tremaining: 20s\n",
      "174:\tlearn: 0.3768043\ttotal: 4.23s\tremaining: 20s\n",
      "175:\tlearn: 0.3759003\ttotal: 4.25s\tremaining: 19.9s\n",
      "176:\tlearn: 0.3754316\ttotal: 4.28s\tremaining: 19.9s\n",
      "177:\tlearn: 0.3748072\ttotal: 4.31s\tremaining: 19.9s\n",
      "178:\tlearn: 0.3744399\ttotal: 4.33s\tremaining: 19.8s\n",
      "179:\tlearn: 0.3740929\ttotal: 4.34s\tremaining: 19.8s\n",
      "180:\tlearn: 0.3732889\ttotal: 4.36s\tremaining: 19.7s\n",
      "181:\tlearn: 0.3728025\ttotal: 4.38s\tremaining: 19.7s\n",
      "182:\tlearn: 0.3720695\ttotal: 4.4s\tremaining: 19.6s\n",
      "183:\tlearn: 0.3717090\ttotal: 4.41s\tremaining: 19.6s\n",
      "184:\tlearn: 0.3713812\ttotal: 4.43s\tremaining: 19.5s\n",
      "185:\tlearn: 0.3707870\ttotal: 4.44s\tremaining: 19.5s\n",
      "186:\tlearn: 0.3704251\ttotal: 4.47s\tremaining: 19.4s\n",
      "187:\tlearn: 0.3698032\ttotal: 4.49s\tremaining: 19.4s\n",
      "188:\tlearn: 0.3694608\ttotal: 4.51s\tremaining: 19.3s\n",
      "189:\tlearn: 0.3689563\ttotal: 4.52s\tremaining: 19.3s\n",
      "190:\tlearn: 0.3684227\ttotal: 4.54s\tremaining: 19.2s\n",
      "191:\tlearn: 0.3680299\ttotal: 4.55s\tremaining: 19.2s\n",
      "192:\tlearn: 0.3676052\ttotal: 4.57s\tremaining: 19.1s\n",
      "193:\tlearn: 0.3672500\ttotal: 4.59s\tremaining: 19.1s\n",
      "194:\tlearn: 0.3669264\ttotal: 4.61s\tremaining: 19s\n",
      "195:\tlearn: 0.3665461\ttotal: 4.63s\tremaining: 19s\n",
      "196:\tlearn: 0.3656027\ttotal: 4.7s\tremaining: 19.1s\n",
      "197:\tlearn: 0.3651663\ttotal: 4.73s\tremaining: 19.2s\n",
      "198:\tlearn: 0.3647886\ttotal: 4.75s\tremaining: 19.1s\n",
      "199:\tlearn: 0.3643468\ttotal: 4.79s\tremaining: 19.1s\n",
      "200:\tlearn: 0.3640999\ttotal: 4.82s\tremaining: 19.2s\n",
      "201:\tlearn: 0.3633266\ttotal: 4.84s\tremaining: 19.1s\n",
      "202:\tlearn: 0.3630951\ttotal: 4.85s\tremaining: 19.1s\n",
      "203:\tlearn: 0.3625435\ttotal: 4.87s\tremaining: 19s\n",
      "204:\tlearn: 0.3620848\ttotal: 4.88s\tremaining: 18.9s\n",
      "205:\tlearn: 0.3614908\ttotal: 4.9s\tremaining: 18.9s\n",
      "206:\tlearn: 0.3609334\ttotal: 4.92s\tremaining: 18.8s\n",
      "207:\tlearn: 0.3607667\ttotal: 4.94s\tremaining: 18.8s\n",
      "208:\tlearn: 0.3600820\ttotal: 4.96s\tremaining: 18.8s\n",
      "209:\tlearn: 0.3595909\ttotal: 4.98s\tremaining: 18.7s\n",
      "210:\tlearn: 0.3587822\ttotal: 4.99s\tremaining: 18.7s\n",
      "211:\tlearn: 0.3583588\ttotal: 5.01s\tremaining: 18.6s\n",
      "212:\tlearn: 0.3580182\ttotal: 5.02s\tremaining: 18.6s\n",
      "213:\tlearn: 0.3577703\ttotal: 5.04s\tremaining: 18.5s\n",
      "214:\tlearn: 0.3573990\ttotal: 5.06s\tremaining: 18.5s\n",
      "215:\tlearn: 0.3568952\ttotal: 5.07s\tremaining: 18.4s\n",
      "216:\tlearn: 0.3566019\ttotal: 5.09s\tremaining: 18.4s\n",
      "217:\tlearn: 0.3562354\ttotal: 5.11s\tremaining: 18.3s\n",
      "218:\tlearn: 0.3557941\ttotal: 5.13s\tremaining: 18.3s\n",
      "219:\tlearn: 0.3554969\ttotal: 5.14s\tremaining: 18.2s\n",
      "220:\tlearn: 0.3548202\ttotal: 5.16s\tremaining: 18.2s\n",
      "221:\tlearn: 0.3545991\ttotal: 5.18s\tremaining: 18.1s\n",
      "222:\tlearn: 0.3541448\ttotal: 5.22s\tremaining: 18.2s\n",
      "223:\tlearn: 0.3534958\ttotal: 5.24s\tremaining: 18.2s\n",
      "224:\tlearn: 0.3531520\ttotal: 5.27s\tremaining: 18.2s\n",
      "225:\tlearn: 0.3527955\ttotal: 5.3s\tremaining: 18.1s\n",
      "226:\tlearn: 0.3523686\ttotal: 5.32s\tremaining: 18.1s\n",
      "227:\tlearn: 0.3516911\ttotal: 5.33s\tremaining: 18.1s\n",
      "228:\tlearn: 0.3511844\ttotal: 5.35s\tremaining: 18s\n",
      "229:\tlearn: 0.3505160\ttotal: 5.36s\tremaining: 18s\n",
      "230:\tlearn: 0.3499513\ttotal: 5.38s\tremaining: 17.9s\n",
      "231:\tlearn: 0.3495990\ttotal: 5.39s\tremaining: 17.9s\n",
      "232:\tlearn: 0.3492079\ttotal: 5.41s\tremaining: 17.8s\n",
      "233:\tlearn: 0.3489127\ttotal: 5.43s\tremaining: 17.8s\n",
      "234:\tlearn: 0.3485704\ttotal: 5.45s\tremaining: 17.7s\n",
      "235:\tlearn: 0.3481603\ttotal: 5.47s\tremaining: 17.7s\n",
      "236:\tlearn: 0.3477912\ttotal: 5.49s\tremaining: 17.7s\n",
      "237:\tlearn: 0.3474849\ttotal: 5.51s\tremaining: 17.7s\n",
      "238:\tlearn: 0.3471638\ttotal: 5.53s\tremaining: 17.6s\n",
      "239:\tlearn: 0.3469956\ttotal: 5.55s\tremaining: 17.6s\n",
      "240:\tlearn: 0.3465084\ttotal: 5.57s\tremaining: 17.5s\n",
      "241:\tlearn: 0.3462798\ttotal: 5.59s\tremaining: 17.5s\n",
      "242:\tlearn: 0.3458085\ttotal: 5.61s\tremaining: 17.5s\n",
      "243:\tlearn: 0.3454143\ttotal: 5.63s\tremaining: 17.5s\n",
      "244:\tlearn: 0.3450887\ttotal: 5.65s\tremaining: 17.4s\n",
      "245:\tlearn: 0.3447919\ttotal: 5.67s\tremaining: 17.4s\n",
      "246:\tlearn: 0.3445067\ttotal: 5.69s\tremaining: 17.3s\n",
      "247:\tlearn: 0.3442793\ttotal: 5.71s\tremaining: 17.3s\n",
      "248:\tlearn: 0.3437211\ttotal: 5.72s\tremaining: 17.3s\n",
      "249:\tlearn: 0.3433573\ttotal: 5.75s\tremaining: 17.2s\n",
      "250:\tlearn: 0.3430768\ttotal: 5.77s\tremaining: 17.2s\n",
      "251:\tlearn: 0.3427116\ttotal: 5.79s\tremaining: 17.2s\n",
      "252:\tlearn: 0.3423337\ttotal: 5.8s\tremaining: 17.1s\n",
      "253:\tlearn: 0.3419825\ttotal: 5.82s\tremaining: 17.1s\n",
      "254:\tlearn: 0.3417160\ttotal: 5.84s\tremaining: 17.1s\n",
      "255:\tlearn: 0.3413090\ttotal: 5.85s\tremaining: 17s\n",
      "256:\tlearn: 0.3411200\ttotal: 5.87s\tremaining: 17s\n",
      "257:\tlearn: 0.3406298\ttotal: 5.89s\tremaining: 17s\n",
      "258:\tlearn: 0.3399412\ttotal: 5.92s\tremaining: 16.9s\n",
      "259:\tlearn: 0.3395517\ttotal: 5.94s\tremaining: 16.9s\n",
      "260:\tlearn: 0.3393020\ttotal: 5.96s\tremaining: 16.9s\n",
      "261:\tlearn: 0.3389715\ttotal: 5.98s\tremaining: 16.8s\n",
      "262:\tlearn: 0.3384886\ttotal: 5.99s\tremaining: 16.8s\n",
      "263:\tlearn: 0.3381409\ttotal: 6.01s\tremaining: 16.8s\n",
      "264:\tlearn: 0.3377048\ttotal: 6.02s\tremaining: 16.7s\n",
      "265:\tlearn: 0.3374722\ttotal: 6.04s\tremaining: 16.7s\n",
      "266:\tlearn: 0.3368215\ttotal: 6.05s\tremaining: 16.6s\n",
      "267:\tlearn: 0.3362474\ttotal: 6.07s\tremaining: 16.6s\n",
      "268:\tlearn: 0.3358982\ttotal: 6.09s\tremaining: 16.6s\n",
      "269:\tlearn: 0.3355304\ttotal: 6.11s\tremaining: 16.5s\n",
      "270:\tlearn: 0.3352382\ttotal: 6.13s\tremaining: 16.5s\n",
      "271:\tlearn: 0.3347066\ttotal: 6.14s\tremaining: 16.4s\n",
      "272:\tlearn: 0.3341474\ttotal: 6.17s\tremaining: 16.4s\n",
      "273:\tlearn: 0.3336612\ttotal: 6.18s\tremaining: 16.4s\n",
      "274:\tlearn: 0.3331789\ttotal: 6.2s\tremaining: 16.3s\n",
      "275:\tlearn: 0.3328773\ttotal: 6.21s\tremaining: 16.3s\n",
      "276:\tlearn: 0.3325800\ttotal: 6.23s\tremaining: 16.3s\n",
      "277:\tlearn: 0.3321107\ttotal: 6.26s\tremaining: 16.3s\n",
      "278:\tlearn: 0.3315838\ttotal: 6.29s\tremaining: 16.3s\n",
      "279:\tlearn: 0.3311925\ttotal: 6.31s\tremaining: 16.2s\n",
      "280:\tlearn: 0.3308786\ttotal: 6.33s\tremaining: 16.2s\n",
      "281:\tlearn: 0.3305266\ttotal: 6.34s\tremaining: 16.2s\n",
      "282:\tlearn: 0.3301865\ttotal: 6.36s\tremaining: 16.1s\n",
      "283:\tlearn: 0.3299271\ttotal: 6.38s\tremaining: 16.1s\n",
      "284:\tlearn: 0.3291600\ttotal: 6.4s\tremaining: 16.1s\n",
      "285:\tlearn: 0.3289014\ttotal: 6.45s\tremaining: 16.1s\n",
      "286:\tlearn: 0.3281534\ttotal: 6.48s\tremaining: 16.1s\n",
      "287:\tlearn: 0.3278963\ttotal: 6.5s\tremaining: 16.1s\n",
      "288:\tlearn: 0.3272219\ttotal: 6.53s\tremaining: 16.1s\n",
      "289:\tlearn: 0.3268506\ttotal: 6.58s\tremaining: 16.1s\n",
      "290:\tlearn: 0.3259374\ttotal: 6.64s\tremaining: 16.2s\n",
      "291:\tlearn: 0.3255142\ttotal: 6.68s\tremaining: 16.2s\n",
      "292:\tlearn: 0.3251064\ttotal: 6.71s\tremaining: 16.2s\n",
      "293:\tlearn: 0.3248828\ttotal: 6.73s\tremaining: 16.2s\n",
      "294:\tlearn: 0.3244880\ttotal: 6.75s\tremaining: 16.1s\n",
      "295:\tlearn: 0.3242229\ttotal: 6.77s\tremaining: 16.1s\n",
      "296:\tlearn: 0.3238559\ttotal: 6.79s\tremaining: 16.1s\n",
      "297:\tlearn: 0.3235970\ttotal: 6.86s\tremaining: 16.2s\n",
      "298:\tlearn: 0.3231322\ttotal: 6.9s\tremaining: 16.2s\n",
      "299:\tlearn: 0.3226440\ttotal: 6.92s\tremaining: 16.2s\n",
      "300:\tlearn: 0.3224337\ttotal: 6.94s\tremaining: 16.1s\n",
      "301:\tlearn: 0.3220344\ttotal: 6.96s\tremaining: 16.1s\n",
      "302:\tlearn: 0.3214883\ttotal: 6.99s\tremaining: 16.1s\n",
      "303:\tlearn: 0.3211373\ttotal: 7.1s\tremaining: 16.2s\n",
      "304:\tlearn: 0.3209620\ttotal: 7.13s\tremaining: 16.3s\n",
      "305:\tlearn: 0.3207430\ttotal: 7.15s\tremaining: 16.2s\n",
      "306:\tlearn: 0.3202998\ttotal: 7.17s\tremaining: 16.2s\n",
      "307:\tlearn: 0.3200595\ttotal: 7.19s\tremaining: 16.2s\n",
      "308:\tlearn: 0.3198539\ttotal: 7.22s\tremaining: 16.1s\n",
      "309:\tlearn: 0.3196246\ttotal: 7.24s\tremaining: 16.1s\n",
      "310:\tlearn: 0.3189703\ttotal: 7.26s\tremaining: 16.1s\n",
      "311:\tlearn: 0.3187152\ttotal: 7.28s\tremaining: 16.1s\n",
      "312:\tlearn: 0.3183029\ttotal: 7.3s\tremaining: 16s\n",
      "313:\tlearn: 0.3179376\ttotal: 7.32s\tremaining: 16s\n",
      "314:\tlearn: 0.3174176\ttotal: 7.33s\tremaining: 15.9s\n",
      "315:\tlearn: 0.3169707\ttotal: 7.35s\tremaining: 15.9s\n",
      "316:\tlearn: 0.3166880\ttotal: 7.36s\tremaining: 15.9s\n",
      "317:\tlearn: 0.3161971\ttotal: 7.38s\tremaining: 15.8s\n",
      "318:\tlearn: 0.3158227\ttotal: 7.39s\tremaining: 15.8s\n",
      "319:\tlearn: 0.3156348\ttotal: 7.41s\tremaining: 15.7s\n",
      "320:\tlearn: 0.3152511\ttotal: 7.43s\tremaining: 15.7s\n",
      "321:\tlearn: 0.3150086\ttotal: 7.45s\tremaining: 15.7s\n",
      "322:\tlearn: 0.3143785\ttotal: 7.47s\tremaining: 15.7s\n",
      "323:\tlearn: 0.3141900\ttotal: 7.49s\tremaining: 15.6s\n",
      "324:\tlearn: 0.3140251\ttotal: 7.51s\tremaining: 15.6s\n",
      "325:\tlearn: 0.3138653\ttotal: 7.53s\tremaining: 15.6s\n",
      "326:\tlearn: 0.3137015\ttotal: 7.54s\tremaining: 15.5s\n",
      "327:\tlearn: 0.3134470\ttotal: 7.58s\tremaining: 15.5s\n"
     ]
    },
    {
     "name": "stdout",
     "output_type": "stream",
     "text": [
      "328:\tlearn: 0.3129804\ttotal: 7.6s\tremaining: 15.5s\n",
      "329:\tlearn: 0.3126998\ttotal: 7.63s\tremaining: 15.5s\n",
      "330:\tlearn: 0.3124002\ttotal: 7.65s\tremaining: 15.5s\n",
      "331:\tlearn: 0.3122087\ttotal: 7.67s\tremaining: 15.4s\n",
      "332:\tlearn: 0.3119921\ttotal: 7.69s\tremaining: 15.4s\n",
      "333:\tlearn: 0.3117676\ttotal: 7.71s\tremaining: 15.4s\n",
      "334:\tlearn: 0.3115305\ttotal: 7.73s\tremaining: 15.3s\n",
      "335:\tlearn: 0.3112146\ttotal: 7.75s\tremaining: 15.3s\n",
      "336:\tlearn: 0.3108256\ttotal: 7.77s\tremaining: 15.3s\n",
      "337:\tlearn: 0.3105412\ttotal: 7.78s\tremaining: 15.2s\n",
      "338:\tlearn: 0.3102069\ttotal: 7.79s\tremaining: 15.2s\n",
      "339:\tlearn: 0.3099169\ttotal: 7.81s\tremaining: 15.2s\n",
      "340:\tlearn: 0.3096751\ttotal: 7.83s\tremaining: 15.1s\n",
      "341:\tlearn: 0.3091498\ttotal: 7.85s\tremaining: 15.1s\n",
      "342:\tlearn: 0.3088470\ttotal: 7.87s\tremaining: 15.1s\n",
      "343:\tlearn: 0.3085421\ttotal: 7.88s\tremaining: 15s\n",
      "344:\tlearn: 0.3081517\ttotal: 7.9s\tremaining: 15s\n",
      "345:\tlearn: 0.3076327\ttotal: 7.91s\tremaining: 15s\n",
      "346:\tlearn: 0.3073497\ttotal: 7.92s\tremaining: 14.9s\n",
      "347:\tlearn: 0.3069975\ttotal: 7.94s\tremaining: 14.9s\n",
      "348:\tlearn: 0.3064548\ttotal: 7.95s\tremaining: 14.8s\n",
      "349:\tlearn: 0.3061174\ttotal: 7.97s\tremaining: 14.8s\n",
      "350:\tlearn: 0.3059166\ttotal: 7.98s\tremaining: 14.8s\n",
      "351:\tlearn: 0.3056117\ttotal: 7.99s\tremaining: 14.7s\n",
      "352:\tlearn: 0.3053628\ttotal: 8.01s\tremaining: 14.7s\n",
      "353:\tlearn: 0.3052019\ttotal: 8.02s\tremaining: 14.6s\n",
      "354:\tlearn: 0.3048887\ttotal: 8.04s\tremaining: 14.6s\n",
      "355:\tlearn: 0.3044525\ttotal: 8.06s\tremaining: 14.6s\n",
      "356:\tlearn: 0.3041777\ttotal: 8.08s\tremaining: 14.6s\n",
      "357:\tlearn: 0.3040466\ttotal: 8.1s\tremaining: 14.5s\n",
      "358:\tlearn: 0.3035621\ttotal: 8.11s\tremaining: 14.5s\n",
      "359:\tlearn: 0.3031968\ttotal: 8.12s\tremaining: 14.4s\n",
      "360:\tlearn: 0.3028279\ttotal: 8.14s\tremaining: 14.4s\n",
      "361:\tlearn: 0.3023893\ttotal: 8.15s\tremaining: 14.4s\n",
      "362:\tlearn: 0.3022486\ttotal: 8.17s\tremaining: 14.3s\n",
      "363:\tlearn: 0.3019567\ttotal: 8.18s\tremaining: 14.3s\n",
      "364:\tlearn: 0.3013994\ttotal: 8.19s\tremaining: 14.3s\n",
      "365:\tlearn: 0.3009807\ttotal: 8.21s\tremaining: 14.2s\n",
      "366:\tlearn: 0.3008580\ttotal: 8.23s\tremaining: 14.2s\n",
      "367:\tlearn: 0.3007296\ttotal: 8.24s\tremaining: 14.2s\n",
      "368:\tlearn: 0.3003259\ttotal: 8.26s\tremaining: 14.1s\n",
      "369:\tlearn: 0.3000518\ttotal: 8.28s\tremaining: 14.1s\n",
      "370:\tlearn: 0.2996752\ttotal: 8.3s\tremaining: 14.1s\n",
      "371:\tlearn: 0.2993250\ttotal: 8.31s\tremaining: 14s\n",
      "372:\tlearn: 0.2990087\ttotal: 8.33s\tremaining: 14s\n",
      "373:\tlearn: 0.2988276\ttotal: 8.35s\tremaining: 14s\n",
      "374:\tlearn: 0.2985249\ttotal: 8.36s\tremaining: 13.9s\n",
      "375:\tlearn: 0.2982087\ttotal: 8.38s\tremaining: 13.9s\n",
      "376:\tlearn: 0.2978771\ttotal: 8.39s\tremaining: 13.9s\n",
      "377:\tlearn: 0.2976537\ttotal: 8.4s\tremaining: 13.8s\n",
      "378:\tlearn: 0.2972369\ttotal: 8.42s\tremaining: 13.8s\n",
      "379:\tlearn: 0.2968988\ttotal: 8.43s\tremaining: 13.8s\n",
      "380:\tlearn: 0.2964615\ttotal: 8.45s\tremaining: 13.7s\n",
      "381:\tlearn: 0.2961539\ttotal: 8.46s\tremaining: 13.7s\n",
      "382:\tlearn: 0.2957659\ttotal: 8.48s\tremaining: 13.7s\n",
      "383:\tlearn: 0.2952946\ttotal: 8.5s\tremaining: 13.6s\n",
      "384:\tlearn: 0.2947835\ttotal: 8.52s\tremaining: 13.6s\n",
      "385:\tlearn: 0.2945019\ttotal: 8.54s\tremaining: 13.6s\n",
      "386:\tlearn: 0.2941386\ttotal: 8.56s\tremaining: 13.6s\n",
      "387:\tlearn: 0.2936872\ttotal: 8.57s\tremaining: 13.5s\n",
      "388:\tlearn: 0.2934938\ttotal: 8.59s\tremaining: 13.5s\n",
      "389:\tlearn: 0.2930797\ttotal: 8.6s\tremaining: 13.4s\n",
      "390:\tlearn: 0.2929440\ttotal: 8.61s\tremaining: 13.4s\n",
      "391:\tlearn: 0.2927515\ttotal: 8.63s\tremaining: 13.4s\n",
      "392:\tlearn: 0.2924391\ttotal: 8.64s\tremaining: 13.3s\n",
      "393:\tlearn: 0.2922079\ttotal: 8.66s\tremaining: 13.3s\n",
      "394:\tlearn: 0.2919452\ttotal: 8.68s\tremaining: 13.3s\n",
      "395:\tlearn: 0.2917512\ttotal: 8.69s\tremaining: 13.3s\n",
      "396:\tlearn: 0.2915240\ttotal: 8.71s\tremaining: 13.2s\n",
      "397:\tlearn: 0.2913228\ttotal: 8.73s\tremaining: 13.2s\n",
      "398:\tlearn: 0.2909945\ttotal: 8.75s\tremaining: 13.2s\n",
      "399:\tlearn: 0.2906930\ttotal: 8.77s\tremaining: 13.1s\n",
      "400:\tlearn: 0.2902842\ttotal: 8.78s\tremaining: 13.1s\n",
      "401:\tlearn: 0.2899352\ttotal: 8.79s\tremaining: 13.1s\n",
      "402:\tlearn: 0.2896262\ttotal: 8.81s\tremaining: 13s\n",
      "403:\tlearn: 0.2894360\ttotal: 8.82s\tremaining: 13s\n",
      "404:\tlearn: 0.2892225\ttotal: 8.84s\tremaining: 13s\n",
      "405:\tlearn: 0.2886308\ttotal: 8.86s\tremaining: 13s\n",
      "406:\tlearn: 0.2882366\ttotal: 8.87s\tremaining: 12.9s\n",
      "407:\tlearn: 0.2879194\ttotal: 8.89s\tremaining: 12.9s\n",
      "408:\tlearn: 0.2877203\ttotal: 8.91s\tremaining: 12.9s\n",
      "409:\tlearn: 0.2874899\ttotal: 8.93s\tremaining: 12.8s\n",
      "410:\tlearn: 0.2872777\ttotal: 8.95s\tremaining: 12.8s\n",
      "411:\tlearn: 0.2869786\ttotal: 8.96s\tremaining: 12.8s\n",
      "412:\tlearn: 0.2867773\ttotal: 8.98s\tremaining: 12.8s\n",
      "413:\tlearn: 0.2864783\ttotal: 8.99s\tremaining: 12.7s\n",
      "414:\tlearn: 0.2862798\ttotal: 9.01s\tremaining: 12.7s\n",
      "415:\tlearn: 0.2859648\ttotal: 9.02s\tremaining: 12.7s\n",
      "416:\tlearn: 0.2857394\ttotal: 9.04s\tremaining: 12.6s\n",
      "417:\tlearn: 0.2853666\ttotal: 9.05s\tremaining: 12.6s\n",
      "418:\tlearn: 0.2848241\ttotal: 9.07s\tremaining: 12.6s\n",
      "419:\tlearn: 0.2844231\ttotal: 9.09s\tremaining: 12.5s\n",
      "420:\tlearn: 0.2842828\ttotal: 9.1s\tremaining: 12.5s\n",
      "421:\tlearn: 0.2841021\ttotal: 9.12s\tremaining: 12.5s\n",
      "422:\tlearn: 0.2839527\ttotal: 9.14s\tremaining: 12.5s\n",
      "423:\tlearn: 0.2835819\ttotal: 9.16s\tremaining: 12.4s\n",
      "424:\tlearn: 0.2833531\ttotal: 9.18s\tremaining: 12.4s\n",
      "425:\tlearn: 0.2831880\ttotal: 9.2s\tremaining: 12.4s\n",
      "426:\tlearn: 0.2829306\ttotal: 9.22s\tremaining: 12.4s\n",
      "427:\tlearn: 0.2825826\ttotal: 9.23s\tremaining: 12.3s\n",
      "428:\tlearn: 0.2823741\ttotal: 9.25s\tremaining: 12.3s\n",
      "429:\tlearn: 0.2820774\ttotal: 9.27s\tremaining: 12.3s\n",
      "430:\tlearn: 0.2815793\ttotal: 9.28s\tremaining: 12.3s\n",
      "431:\tlearn: 0.2813048\ttotal: 9.29s\tremaining: 12.2s\n",
      "432:\tlearn: 0.2811903\ttotal: 9.31s\tremaining: 12.2s\n",
      "433:\tlearn: 0.2808680\ttotal: 9.32s\tremaining: 12.2s\n",
      "434:\tlearn: 0.2806483\ttotal: 9.35s\tremaining: 12.1s\n",
      "435:\tlearn: 0.2802607\ttotal: 9.37s\tremaining: 12.1s\n",
      "436:\tlearn: 0.2799786\ttotal: 9.39s\tremaining: 12.1s\n",
      "437:\tlearn: 0.2797796\ttotal: 9.41s\tremaining: 12.1s\n",
      "438:\tlearn: 0.2796755\ttotal: 9.42s\tremaining: 12s\n",
      "439:\tlearn: 0.2793175\ttotal: 9.44s\tremaining: 12s\n",
      "440:\tlearn: 0.2790855\ttotal: 9.46s\tremaining: 12s\n",
      "441:\tlearn: 0.2788314\ttotal: 9.47s\tremaining: 12s\n",
      "442:\tlearn: 0.2784783\ttotal: 9.49s\tremaining: 11.9s\n",
      "443:\tlearn: 0.2780706\ttotal: 9.51s\tremaining: 11.9s\n",
      "444:\tlearn: 0.2777789\ttotal: 9.52s\tremaining: 11.9s\n",
      "445:\tlearn: 0.2775063\ttotal: 9.54s\tremaining: 11.8s\n",
      "446:\tlearn: 0.2770676\ttotal: 9.55s\tremaining: 11.8s\n",
      "447:\tlearn: 0.2765839\ttotal: 9.57s\tremaining: 11.8s\n",
      "448:\tlearn: 0.2761123\ttotal: 9.59s\tremaining: 11.8s\n",
      "449:\tlearn: 0.2758154\ttotal: 9.61s\tremaining: 11.8s\n",
      "450:\tlearn: 0.2753686\ttotal: 9.63s\tremaining: 11.7s\n",
      "451:\tlearn: 0.2751942\ttotal: 9.65s\tremaining: 11.7s\n",
      "452:\tlearn: 0.2748018\ttotal: 9.66s\tremaining: 11.7s\n",
      "453:\tlearn: 0.2745569\ttotal: 9.68s\tremaining: 11.6s\n",
      "454:\tlearn: 0.2742745\ttotal: 9.69s\tremaining: 11.6s\n",
      "455:\tlearn: 0.2740329\ttotal: 9.71s\tremaining: 11.6s\n",
      "456:\tlearn: 0.2738396\ttotal: 9.72s\tremaining: 11.5s\n",
      "457:\tlearn: 0.2736556\ttotal: 9.73s\tremaining: 11.5s\n",
      "458:\tlearn: 0.2731260\ttotal: 9.75s\tremaining: 11.5s\n",
      "459:\tlearn: 0.2729431\ttotal: 9.77s\tremaining: 11.5s\n",
      "460:\tlearn: 0.2726367\ttotal: 9.79s\tremaining: 11.4s\n",
      "461:\tlearn: 0.2725223\ttotal: 9.8s\tremaining: 11.4s\n",
      "462:\tlearn: 0.2723880\ttotal: 9.83s\tremaining: 11.4s\n",
      "463:\tlearn: 0.2721369\ttotal: 9.85s\tremaining: 11.4s\n",
      "464:\tlearn: 0.2719312\ttotal: 9.87s\tremaining: 11.4s\n",
      "465:\tlearn: 0.2715893\ttotal: 9.88s\tremaining: 11.3s\n",
      "466:\tlearn: 0.2712722\ttotal: 9.89s\tremaining: 11.3s\n",
      "467:\tlearn: 0.2711019\ttotal: 9.91s\tremaining: 11.3s\n",
      "468:\tlearn: 0.2708086\ttotal: 9.92s\tremaining: 11.2s\n",
      "469:\tlearn: 0.2705388\ttotal: 9.94s\tremaining: 11.2s\n",
      "470:\tlearn: 0.2703661\ttotal: 9.95s\tremaining: 11.2s\n",
      "471:\tlearn: 0.2699592\ttotal: 9.97s\tremaining: 11.1s\n",
      "472:\tlearn: 0.2697709\ttotal: 9.99s\tremaining: 11.1s\n",
      "473:\tlearn: 0.2695564\ttotal: 10s\tremaining: 11.1s\n",
      "474:\tlearn: 0.2693201\ttotal: 10s\tremaining: 11.1s\n",
      "475:\tlearn: 0.2691978\ttotal: 10s\tremaining: 11.1s\n",
      "476:\tlearn: 0.2688217\ttotal: 10.1s\tremaining: 11s\n",
      "477:\tlearn: 0.2686521\ttotal: 10.1s\tremaining: 11s\n",
      "478:\tlearn: 0.2683637\ttotal: 10.1s\tremaining: 11s\n",
      "479:\tlearn: 0.2681889\ttotal: 10.1s\tremaining: 11s\n",
      "480:\tlearn: 0.2679038\ttotal: 10.1s\tremaining: 10.9s\n",
      "481:\tlearn: 0.2676729\ttotal: 10.1s\tremaining: 10.9s\n",
      "482:\tlearn: 0.2674366\ttotal: 10.2s\tremaining: 10.9s\n",
      "483:\tlearn: 0.2672133\ttotal: 10.2s\tremaining: 10.9s\n",
      "484:\tlearn: 0.2668730\ttotal: 10.2s\tremaining: 10.8s\n",
      "485:\tlearn: 0.2665876\ttotal: 10.2s\tremaining: 10.8s\n",
      "486:\tlearn: 0.2664486\ttotal: 10.2s\tremaining: 10.8s\n",
      "487:\tlearn: 0.2662320\ttotal: 10.3s\tremaining: 10.8s\n",
      "488:\tlearn: 0.2660124\ttotal: 10.3s\tremaining: 10.7s\n",
      "489:\tlearn: 0.2655905\ttotal: 10.3s\tremaining: 10.7s\n",
      "490:\tlearn: 0.2654030\ttotal: 10.3s\tremaining: 10.7s\n",
      "491:\tlearn: 0.2649458\ttotal: 10.3s\tremaining: 10.7s\n",
      "492:\tlearn: 0.2646773\ttotal: 10.3s\tremaining: 10.6s\n",
      "493:\tlearn: 0.2643562\ttotal: 10.4s\tremaining: 10.6s\n"
     ]
    },
    {
     "name": "stdout",
     "output_type": "stream",
     "text": [
      "494:\tlearn: 0.2641032\ttotal: 10.4s\tremaining: 10.6s\n",
      "495:\tlearn: 0.2637123\ttotal: 10.4s\tremaining: 10.6s\n",
      "496:\tlearn: 0.2635833\ttotal: 10.4s\tremaining: 10.5s\n",
      "497:\tlearn: 0.2633912\ttotal: 10.4s\tremaining: 10.5s\n",
      "498:\tlearn: 0.2631364\ttotal: 10.4s\tremaining: 10.5s\n",
      "499:\tlearn: 0.2628845\ttotal: 10.5s\tremaining: 10.5s\n",
      "500:\tlearn: 0.2626720\ttotal: 10.5s\tremaining: 10.5s\n",
      "501:\tlearn: 0.2624898\ttotal: 10.5s\tremaining: 10.4s\n",
      "502:\tlearn: 0.2623510\ttotal: 10.5s\tremaining: 10.4s\n",
      "503:\tlearn: 0.2621868\ttotal: 10.5s\tremaining: 10.4s\n",
      "504:\tlearn: 0.2620629\ttotal: 10.6s\tremaining: 10.3s\n",
      "505:\tlearn: 0.2619717\ttotal: 10.6s\tremaining: 10.3s\n",
      "506:\tlearn: 0.2618982\ttotal: 10.6s\tremaining: 10.3s\n",
      "507:\tlearn: 0.2618232\ttotal: 10.6s\tremaining: 10.3s\n",
      "508:\tlearn: 0.2615750\ttotal: 10.6s\tremaining: 10.2s\n",
      "509:\tlearn: 0.2613766\ttotal: 10.6s\tremaining: 10.2s\n",
      "510:\tlearn: 0.2611163\ttotal: 10.7s\tremaining: 10.2s\n",
      "511:\tlearn: 0.2610104\ttotal: 10.7s\tremaining: 10.2s\n",
      "512:\tlearn: 0.2608403\ttotal: 10.7s\tremaining: 10.1s\n",
      "513:\tlearn: 0.2606030\ttotal: 10.7s\tremaining: 10.1s\n",
      "514:\tlearn: 0.2601022\ttotal: 10.7s\tremaining: 10.1s\n",
      "515:\tlearn: 0.2597834\ttotal: 10.7s\tremaining: 10.1s\n",
      "516:\tlearn: 0.2595074\ttotal: 10.7s\tremaining: 10s\n",
      "517:\tlearn: 0.2592554\ttotal: 10.8s\tremaining: 10s\n",
      "518:\tlearn: 0.2591083\ttotal: 10.8s\tremaining: 9.98s\n",
      "519:\tlearn: 0.2588945\ttotal: 10.8s\tremaining: 9.95s\n",
      "520:\tlearn: 0.2587153\ttotal: 10.8s\tremaining: 9.93s\n",
      "521:\tlearn: 0.2584441\ttotal: 10.8s\tremaining: 9.92s\n",
      "522:\tlearn: 0.2583107\ttotal: 10.9s\tremaining: 9.9s\n",
      "523:\tlearn: 0.2580828\ttotal: 10.9s\tremaining: 9.88s\n",
      "524:\tlearn: 0.2579375\ttotal: 10.9s\tremaining: 9.85s\n",
      "525:\tlearn: 0.2578069\ttotal: 10.9s\tremaining: 9.82s\n",
      "526:\tlearn: 0.2575981\ttotal: 10.9s\tremaining: 9.79s\n",
      "527:\tlearn: 0.2573899\ttotal: 10.9s\tremaining: 9.77s\n",
      "528:\tlearn: 0.2572319\ttotal: 10.9s\tremaining: 9.75s\n",
      "529:\tlearn: 0.2569530\ttotal: 11s\tremaining: 9.72s\n",
      "530:\tlearn: 0.2568744\ttotal: 11s\tremaining: 9.7s\n",
      "531:\tlearn: 0.2566075\ttotal: 11s\tremaining: 9.67s\n",
      "532:\tlearn: 0.2562485\ttotal: 11s\tremaining: 9.65s\n",
      "533:\tlearn: 0.2559194\ttotal: 11s\tremaining: 9.63s\n",
      "534:\tlearn: 0.2556131\ttotal: 11.1s\tremaining: 9.61s\n",
      "535:\tlearn: 0.2553465\ttotal: 11.1s\tremaining: 9.59s\n",
      "536:\tlearn: 0.2551562\ttotal: 11.1s\tremaining: 9.56s\n",
      "537:\tlearn: 0.2549437\ttotal: 11.1s\tremaining: 9.54s\n",
      "538:\tlearn: 0.2545934\ttotal: 11.1s\tremaining: 9.51s\n",
      "539:\tlearn: 0.2543888\ttotal: 11.1s\tremaining: 9.48s\n",
      "540:\tlearn: 0.2542404\ttotal: 11.1s\tremaining: 9.46s\n",
      "541:\tlearn: 0.2538645\ttotal: 11.2s\tremaining: 9.43s\n",
      "542:\tlearn: 0.2534524\ttotal: 11.2s\tremaining: 9.41s\n",
      "543:\tlearn: 0.2532169\ttotal: 11.2s\tremaining: 9.38s\n",
      "544:\tlearn: 0.2528518\ttotal: 11.2s\tremaining: 9.36s\n",
      "545:\tlearn: 0.2526527\ttotal: 11.2s\tremaining: 9.33s\n",
      "546:\tlearn: 0.2523672\ttotal: 11.2s\tremaining: 9.31s\n",
      "547:\tlearn: 0.2519031\ttotal: 11.3s\tremaining: 9.29s\n",
      "548:\tlearn: 0.2517134\ttotal: 11.3s\tremaining: 9.27s\n",
      "549:\tlearn: 0.2514097\ttotal: 11.3s\tremaining: 9.24s\n",
      "550:\tlearn: 0.2510000\ttotal: 11.3s\tremaining: 9.21s\n",
      "551:\tlearn: 0.2508335\ttotal: 11.3s\tremaining: 9.19s\n",
      "552:\tlearn: 0.2505315\ttotal: 11.3s\tremaining: 9.16s\n",
      "553:\tlearn: 0.2502765\ttotal: 11.4s\tremaining: 9.14s\n",
      "554:\tlearn: 0.2500757\ttotal: 11.4s\tremaining: 9.11s\n",
      "555:\tlearn: 0.2499483\ttotal: 11.4s\tremaining: 9.09s\n",
      "556:\tlearn: 0.2496399\ttotal: 11.4s\tremaining: 9.06s\n",
      "557:\tlearn: 0.2491954\ttotal: 11.4s\tremaining: 9.04s\n",
      "558:\tlearn: 0.2489734\ttotal: 11.4s\tremaining: 9.02s\n",
      "559:\tlearn: 0.2487054\ttotal: 11.4s\tremaining: 8.99s\n",
      "560:\tlearn: 0.2486141\ttotal: 11.5s\tremaining: 8.97s\n",
      "561:\tlearn: 0.2481696\ttotal: 11.5s\tremaining: 8.95s\n",
      "562:\tlearn: 0.2478518\ttotal: 11.5s\tremaining: 8.93s\n",
      "563:\tlearn: 0.2476557\ttotal: 11.5s\tremaining: 8.9s\n",
      "564:\tlearn: 0.2473297\ttotal: 11.5s\tremaining: 8.88s\n",
      "565:\tlearn: 0.2471073\ttotal: 11.6s\tremaining: 8.86s\n",
      "566:\tlearn: 0.2468531\ttotal: 11.6s\tremaining: 8.83s\n",
      "567:\tlearn: 0.2467126\ttotal: 11.6s\tremaining: 8.81s\n",
      "568:\tlearn: 0.2466046\ttotal: 11.6s\tremaining: 8.78s\n",
      "569:\tlearn: 0.2460124\ttotal: 11.6s\tremaining: 8.76s\n",
      "570:\tlearn: 0.2458978\ttotal: 11.6s\tremaining: 8.73s\n",
      "571:\tlearn: 0.2457000\ttotal: 11.6s\tremaining: 8.71s\n",
      "572:\tlearn: 0.2453012\ttotal: 11.7s\tremaining: 8.68s\n",
      "573:\tlearn: 0.2450849\ttotal: 11.7s\tremaining: 8.66s\n",
      "574:\tlearn: 0.2447011\ttotal: 11.7s\tremaining: 8.64s\n",
      "575:\tlearn: 0.2444224\ttotal: 11.7s\tremaining: 8.62s\n",
      "576:\tlearn: 0.2442439\ttotal: 11.7s\tremaining: 8.6s\n",
      "577:\tlearn: 0.2441582\ttotal: 11.7s\tremaining: 8.57s\n",
      "578:\tlearn: 0.2440532\ttotal: 11.8s\tremaining: 8.55s\n",
      "579:\tlearn: 0.2438749\ttotal: 11.8s\tremaining: 8.52s\n",
      "580:\tlearn: 0.2437192\ttotal: 11.8s\tremaining: 8.5s\n",
      "581:\tlearn: 0.2435481\ttotal: 11.8s\tremaining: 8.48s\n",
      "582:\tlearn: 0.2433604\ttotal: 11.8s\tremaining: 8.45s\n",
      "583:\tlearn: 0.2432625\ttotal: 11.8s\tremaining: 8.43s\n",
      "584:\tlearn: 0.2430937\ttotal: 11.8s\tremaining: 8.4s\n",
      "585:\tlearn: 0.2429026\ttotal: 11.9s\tremaining: 8.38s\n",
      "586:\tlearn: 0.2426931\ttotal: 11.9s\tremaining: 8.36s\n",
      "587:\tlearn: 0.2425047\ttotal: 11.9s\tremaining: 8.33s\n",
      "588:\tlearn: 0.2421049\ttotal: 11.9s\tremaining: 8.31s\n",
      "589:\tlearn: 0.2419983\ttotal: 11.9s\tremaining: 8.29s\n",
      "590:\tlearn: 0.2418245\ttotal: 11.9s\tremaining: 8.27s\n",
      "591:\tlearn: 0.2414663\ttotal: 12s\tremaining: 8.24s\n",
      "592:\tlearn: 0.2411565\ttotal: 12s\tremaining: 8.22s\n",
      "593:\tlearn: 0.2409724\ttotal: 12s\tremaining: 8.2s\n",
      "594:\tlearn: 0.2406177\ttotal: 12s\tremaining: 8.17s\n",
      "595:\tlearn: 0.2404355\ttotal: 12s\tremaining: 8.15s\n",
      "596:\tlearn: 0.2400503\ttotal: 12s\tremaining: 8.13s\n",
      "597:\tlearn: 0.2397910\ttotal: 12.1s\tremaining: 8.11s\n",
      "598:\tlearn: 0.2395991\ttotal: 12.1s\tremaining: 8.08s\n",
      "599:\tlearn: 0.2395308\ttotal: 12.1s\tremaining: 8.06s\n",
      "600:\tlearn: 0.2393742\ttotal: 12.1s\tremaining: 8.04s\n",
      "601:\tlearn: 0.2391481\ttotal: 12.1s\tremaining: 8.02s\n",
      "602:\tlearn: 0.2390362\ttotal: 12.1s\tremaining: 7.99s\n",
      "603:\tlearn: 0.2387021\ttotal: 12.2s\tremaining: 7.97s\n",
      "604:\tlearn: 0.2383928\ttotal: 12.2s\tremaining: 7.95s\n",
      "605:\tlearn: 0.2383045\ttotal: 12.2s\tremaining: 7.93s\n",
      "606:\tlearn: 0.2379605\ttotal: 12.2s\tremaining: 7.91s\n",
      "607:\tlearn: 0.2377289\ttotal: 12.2s\tremaining: 7.88s\n",
      "608:\tlearn: 0.2375426\ttotal: 12.2s\tremaining: 7.86s\n",
      "609:\tlearn: 0.2374489\ttotal: 12.3s\tremaining: 7.84s\n",
      "610:\tlearn: 0.2372802\ttotal: 12.3s\tremaining: 7.81s\n",
      "611:\tlearn: 0.2371459\ttotal: 12.3s\tremaining: 7.79s\n",
      "612:\tlearn: 0.2370194\ttotal: 12.3s\tremaining: 7.77s\n",
      "613:\tlearn: 0.2366547\ttotal: 12.3s\tremaining: 7.74s\n",
      "614:\tlearn: 0.2365185\ttotal: 12.3s\tremaining: 7.72s\n",
      "615:\tlearn: 0.2360043\ttotal: 12.4s\tremaining: 7.7s\n",
      "616:\tlearn: 0.2358856\ttotal: 12.4s\tremaining: 7.68s\n",
      "617:\tlearn: 0.2356153\ttotal: 12.4s\tremaining: 7.66s\n",
      "618:\tlearn: 0.2353018\ttotal: 12.4s\tremaining: 7.65s\n",
      "619:\tlearn: 0.2350809\ttotal: 12.4s\tremaining: 7.63s\n",
      "620:\tlearn: 0.2347340\ttotal: 12.5s\tremaining: 7.6s\n",
      "621:\tlearn: 0.2343784\ttotal: 12.5s\tremaining: 7.58s\n",
      "622:\tlearn: 0.2342049\ttotal: 12.5s\tremaining: 7.55s\n",
      "623:\tlearn: 0.2338660\ttotal: 12.5s\tremaining: 7.53s\n",
      "624:\tlearn: 0.2336378\ttotal: 12.5s\tremaining: 7.51s\n",
      "625:\tlearn: 0.2333327\ttotal: 12.5s\tremaining: 7.49s\n",
      "626:\tlearn: 0.2330569\ttotal: 12.6s\tremaining: 7.47s\n",
      "627:\tlearn: 0.2327953\ttotal: 12.6s\tremaining: 7.45s\n",
      "628:\tlearn: 0.2325551\ttotal: 12.6s\tremaining: 7.43s\n",
      "629:\tlearn: 0.2321982\ttotal: 12.6s\tremaining: 7.41s\n",
      "630:\tlearn: 0.2319373\ttotal: 12.6s\tremaining: 7.39s\n",
      "631:\tlearn: 0.2317198\ttotal: 12.6s\tremaining: 7.36s\n",
      "632:\tlearn: 0.2315093\ttotal: 12.7s\tremaining: 7.34s\n",
      "633:\tlearn: 0.2313441\ttotal: 12.7s\tremaining: 7.32s\n",
      "634:\tlearn: 0.2312007\ttotal: 12.7s\tremaining: 7.29s\n",
      "635:\tlearn: 0.2310333\ttotal: 12.7s\tremaining: 7.27s\n",
      "636:\tlearn: 0.2307212\ttotal: 12.7s\tremaining: 7.25s\n",
      "637:\tlearn: 0.2305768\ttotal: 12.7s\tremaining: 7.22s\n",
      "638:\tlearn: 0.2304525\ttotal: 12.7s\tremaining: 7.2s\n",
      "639:\tlearn: 0.2302536\ttotal: 12.8s\tremaining: 7.18s\n",
      "640:\tlearn: 0.2300649\ttotal: 12.8s\tremaining: 7.17s\n",
      "641:\tlearn: 0.2297593\ttotal: 12.8s\tremaining: 7.15s\n",
      "642:\tlearn: 0.2296376\ttotal: 12.8s\tremaining: 7.13s\n",
      "643:\tlearn: 0.2294192\ttotal: 12.9s\tremaining: 7.11s\n",
      "644:\tlearn: 0.2291586\ttotal: 12.9s\tremaining: 7.09s\n",
      "645:\tlearn: 0.2290084\ttotal: 12.9s\tremaining: 7.07s\n",
      "646:\tlearn: 0.2287237\ttotal: 12.9s\tremaining: 7.05s\n",
      "647:\tlearn: 0.2284581\ttotal: 12.9s\tremaining: 7.03s\n",
      "648:\tlearn: 0.2283090\ttotal: 12.9s\tremaining: 7s\n",
      "649:\tlearn: 0.2280947\ttotal: 13s\tremaining: 6.98s\n",
      "650:\tlearn: 0.2278647\ttotal: 13s\tremaining: 6.96s\n",
      "651:\tlearn: 0.2277098\ttotal: 13s\tremaining: 6.94s\n",
      "652:\tlearn: 0.2274949\ttotal: 13s\tremaining: 6.92s\n",
      "653:\tlearn: 0.2272333\ttotal: 13.1s\tremaining: 6.91s\n",
      "654:\tlearn: 0.2269071\ttotal: 13.1s\tremaining: 6.89s\n",
      "655:\tlearn: 0.2266088\ttotal: 13.1s\tremaining: 6.87s\n",
      "656:\tlearn: 0.2263184\ttotal: 13.1s\tremaining: 6.84s\n",
      "657:\tlearn: 0.2260894\ttotal: 13.1s\tremaining: 6.82s\n",
      "658:\tlearn: 0.2258924\ttotal: 13.1s\tremaining: 6.8s\n",
      "659:\tlearn: 0.2256688\ttotal: 13.2s\tremaining: 6.78s\n"
     ]
    },
    {
     "name": "stdout",
     "output_type": "stream",
     "text": [
      "660:\tlearn: 0.2254064\ttotal: 13.2s\tremaining: 6.75s\n",
      "661:\tlearn: 0.2251654\ttotal: 13.2s\tremaining: 6.73s\n",
      "662:\tlearn: 0.2248835\ttotal: 13.2s\tremaining: 6.71s\n",
      "663:\tlearn: 0.2246885\ttotal: 13.2s\tremaining: 6.69s\n",
      "664:\tlearn: 0.2243558\ttotal: 13.2s\tremaining: 6.67s\n",
      "665:\tlearn: 0.2242283\ttotal: 13.3s\tremaining: 6.65s\n",
      "666:\tlearn: 0.2240932\ttotal: 13.3s\tremaining: 6.63s\n",
      "667:\tlearn: 0.2236914\ttotal: 13.3s\tremaining: 6.61s\n",
      "668:\tlearn: 0.2234604\ttotal: 13.3s\tremaining: 6.59s\n",
      "669:\tlearn: 0.2231795\ttotal: 13.3s\tremaining: 6.57s\n",
      "670:\tlearn: 0.2230230\ttotal: 13.3s\tremaining: 6.54s\n",
      "671:\tlearn: 0.2227659\ttotal: 13.4s\tremaining: 6.52s\n",
      "672:\tlearn: 0.2226551\ttotal: 13.4s\tremaining: 6.5s\n",
      "673:\tlearn: 0.2224317\ttotal: 13.4s\tremaining: 6.48s\n",
      "674:\tlearn: 0.2222888\ttotal: 13.4s\tremaining: 6.46s\n",
      "675:\tlearn: 0.2221572\ttotal: 13.4s\tremaining: 6.44s\n",
      "676:\tlearn: 0.2219917\ttotal: 13.4s\tremaining: 6.42s\n",
      "677:\tlearn: 0.2216769\ttotal: 13.5s\tremaining: 6.39s\n",
      "678:\tlearn: 0.2213946\ttotal: 13.5s\tremaining: 6.37s\n",
      "679:\tlearn: 0.2211240\ttotal: 13.5s\tremaining: 6.35s\n",
      "680:\tlearn: 0.2209167\ttotal: 13.5s\tremaining: 6.33s\n",
      "681:\tlearn: 0.2206510\ttotal: 13.5s\tremaining: 6.3s\n",
      "682:\tlearn: 0.2202958\ttotal: 13.5s\tremaining: 6.28s\n",
      "683:\tlearn: 0.2200016\ttotal: 13.6s\tremaining: 6.26s\n",
      "684:\tlearn: 0.2198511\ttotal: 13.6s\tremaining: 6.24s\n",
      "685:\tlearn: 0.2196944\ttotal: 13.6s\tremaining: 6.22s\n",
      "686:\tlearn: 0.2194131\ttotal: 13.6s\tremaining: 6.2s\n",
      "687:\tlearn: 0.2190954\ttotal: 13.6s\tremaining: 6.17s\n",
      "688:\tlearn: 0.2189985\ttotal: 13.6s\tremaining: 6.15s\n",
      "689:\tlearn: 0.2189120\ttotal: 13.6s\tremaining: 6.13s\n",
      "690:\tlearn: 0.2186866\ttotal: 13.7s\tremaining: 6.11s\n",
      "691:\tlearn: 0.2182336\ttotal: 13.7s\tremaining: 6.08s\n",
      "692:\tlearn: 0.2178317\ttotal: 13.7s\tremaining: 6.06s\n",
      "693:\tlearn: 0.2174441\ttotal: 13.7s\tremaining: 6.04s\n",
      "694:\tlearn: 0.2173141\ttotal: 13.7s\tremaining: 6.02s\n",
      "695:\tlearn: 0.2171807\ttotal: 13.7s\tremaining: 6s\n",
      "696:\tlearn: 0.2169826\ttotal: 13.7s\tremaining: 5.97s\n",
      "697:\tlearn: 0.2167054\ttotal: 13.8s\tremaining: 5.95s\n",
      "698:\tlearn: 0.2164677\ttotal: 13.8s\tremaining: 5.93s\n",
      "699:\tlearn: 0.2163672\ttotal: 13.8s\tremaining: 5.91s\n",
      "700:\tlearn: 0.2159803\ttotal: 13.8s\tremaining: 5.89s\n",
      "701:\tlearn: 0.2158759\ttotal: 13.8s\tremaining: 5.87s\n",
      "702:\tlearn: 0.2155389\ttotal: 13.8s\tremaining: 5.85s\n",
      "703:\tlearn: 0.2154237\ttotal: 13.9s\tremaining: 5.83s\n",
      "704:\tlearn: 0.2152197\ttotal: 13.9s\tremaining: 5.8s\n",
      "705:\tlearn: 0.2149908\ttotal: 13.9s\tremaining: 5.78s\n",
      "706:\tlearn: 0.2148397\ttotal: 13.9s\tremaining: 5.76s\n",
      "707:\tlearn: 0.2146751\ttotal: 13.9s\tremaining: 5.74s\n",
      "708:\tlearn: 0.2141907\ttotal: 13.9s\tremaining: 5.72s\n",
      "709:\tlearn: 0.2139568\ttotal: 13.9s\tremaining: 5.7s\n",
      "710:\tlearn: 0.2137979\ttotal: 14s\tremaining: 5.67s\n",
      "711:\tlearn: 0.2136147\ttotal: 14s\tremaining: 5.65s\n",
      "712:\tlearn: 0.2133018\ttotal: 14s\tremaining: 5.63s\n",
      "713:\tlearn: 0.2131806\ttotal: 14s\tremaining: 5.61s\n",
      "714:\tlearn: 0.2129601\ttotal: 14s\tremaining: 5.59s\n",
      "715:\tlearn: 0.2126951\ttotal: 14.1s\tremaining: 5.58s\n",
      "716:\tlearn: 0.2125378\ttotal: 14.1s\tremaining: 5.55s\n",
      "717:\tlearn: 0.2123593\ttotal: 14.1s\tremaining: 5.53s\n",
      "718:\tlearn: 0.2122817\ttotal: 14.1s\tremaining: 5.51s\n",
      "719:\tlearn: 0.2121800\ttotal: 14.1s\tremaining: 5.49s\n",
      "720:\tlearn: 0.2121026\ttotal: 14.1s\tremaining: 5.47s\n",
      "721:\tlearn: 0.2117978\ttotal: 14.1s\tremaining: 5.45s\n",
      "722:\tlearn: 0.2116493\ttotal: 14.2s\tremaining: 5.42s\n",
      "723:\tlearn: 0.2115027\ttotal: 14.2s\tremaining: 5.4s\n",
      "724:\tlearn: 0.2114032\ttotal: 14.2s\tremaining: 5.38s\n",
      "725:\tlearn: 0.2111941\ttotal: 14.2s\tremaining: 5.36s\n",
      "726:\tlearn: 0.2110474\ttotal: 14.2s\tremaining: 5.34s\n",
      "727:\tlearn: 0.2107668\ttotal: 14.2s\tremaining: 5.32s\n",
      "728:\tlearn: 0.2105462\ttotal: 14.3s\tremaining: 5.3s\n",
      "729:\tlearn: 0.2103487\ttotal: 14.3s\tremaining: 5.28s\n",
      "730:\tlearn: 0.2102167\ttotal: 14.3s\tremaining: 5.26s\n",
      "731:\tlearn: 0.2100510\ttotal: 14.3s\tremaining: 5.24s\n",
      "732:\tlearn: 0.2098520\ttotal: 14.3s\tremaining: 5.21s\n",
      "733:\tlearn: 0.2096828\ttotal: 14.3s\tremaining: 5.19s\n",
      "734:\tlearn: 0.2094858\ttotal: 14.3s\tremaining: 5.17s\n",
      "735:\tlearn: 0.2093990\ttotal: 14.4s\tremaining: 5.15s\n",
      "736:\tlearn: 0.2091796\ttotal: 14.4s\tremaining: 5.13s\n",
      "737:\tlearn: 0.2089555\ttotal: 14.4s\tremaining: 5.11s\n",
      "738:\tlearn: 0.2087819\ttotal: 14.4s\tremaining: 5.09s\n",
      "739:\tlearn: 0.2086916\ttotal: 14.4s\tremaining: 5.07s\n",
      "740:\tlearn: 0.2085109\ttotal: 14.4s\tremaining: 5.05s\n",
      "741:\tlearn: 0.2084045\ttotal: 14.5s\tremaining: 5.03s\n",
      "742:\tlearn: 0.2082045\ttotal: 14.5s\tremaining: 5.01s\n",
      "743:\tlearn: 0.2081206\ttotal: 14.5s\tremaining: 4.99s\n",
      "744:\tlearn: 0.2079776\ttotal: 14.5s\tremaining: 4.97s\n",
      "745:\tlearn: 0.2076889\ttotal: 14.5s\tremaining: 4.95s\n",
      "746:\tlearn: 0.2075414\ttotal: 14.6s\tremaining: 4.93s\n",
      "747:\tlearn: 0.2072760\ttotal: 14.6s\tremaining: 4.91s\n",
      "748:\tlearn: 0.2070994\ttotal: 14.6s\tremaining: 4.89s\n",
      "749:\tlearn: 0.2070109\ttotal: 14.6s\tremaining: 4.87s\n",
      "750:\tlearn: 0.2068756\ttotal: 14.6s\tremaining: 4.84s\n",
      "751:\tlearn: 0.2066951\ttotal: 14.6s\tremaining: 4.83s\n",
      "752:\tlearn: 0.2064324\ttotal: 14.7s\tremaining: 4.8s\n",
      "753:\tlearn: 0.2062901\ttotal: 14.7s\tremaining: 4.79s\n",
      "754:\tlearn: 0.2061855\ttotal: 14.7s\tremaining: 4.77s\n",
      "755:\tlearn: 0.2058766\ttotal: 14.7s\tremaining: 4.75s\n",
      "756:\tlearn: 0.2056681\ttotal: 14.7s\tremaining: 4.73s\n",
      "757:\tlearn: 0.2055328\ttotal: 14.7s\tremaining: 4.71s\n",
      "758:\tlearn: 0.2053887\ttotal: 14.8s\tremaining: 4.68s\n",
      "759:\tlearn: 0.2051490\ttotal: 14.8s\tremaining: 4.67s\n",
      "760:\tlearn: 0.2049202\ttotal: 14.8s\tremaining: 4.64s\n",
      "761:\tlearn: 0.2046765\ttotal: 14.8s\tremaining: 4.62s\n",
      "762:\tlearn: 0.2045529\ttotal: 14.8s\tremaining: 4.6s\n",
      "763:\tlearn: 0.2043893\ttotal: 14.8s\tremaining: 4.58s\n",
      "764:\tlearn: 0.2042021\ttotal: 14.9s\tremaining: 4.56s\n",
      "765:\tlearn: 0.2040893\ttotal: 14.9s\tremaining: 4.55s\n",
      "766:\tlearn: 0.2038908\ttotal: 14.9s\tremaining: 4.53s\n",
      "767:\tlearn: 0.2035144\ttotal: 14.9s\tremaining: 4.51s\n",
      "768:\tlearn: 0.2033719\ttotal: 14.9s\tremaining: 4.49s\n",
      "769:\tlearn: 0.2032307\ttotal: 14.9s\tremaining: 4.46s\n",
      "770:\tlearn: 0.2029153\ttotal: 15s\tremaining: 4.44s\n",
      "771:\tlearn: 0.2026475\ttotal: 15s\tremaining: 4.42s\n",
      "772:\tlearn: 0.2025277\ttotal: 15s\tremaining: 4.4s\n",
      "773:\tlearn: 0.2024168\ttotal: 15s\tremaining: 4.38s\n",
      "774:\tlearn: 0.2021923\ttotal: 15s\tremaining: 4.36s\n",
      "775:\tlearn: 0.2020189\ttotal: 15s\tremaining: 4.34s\n",
      "776:\tlearn: 0.2018852\ttotal: 15.1s\tremaining: 4.32s\n",
      "777:\tlearn: 0.2017034\ttotal: 15.1s\tremaining: 4.3s\n",
      "778:\tlearn: 0.2016154\ttotal: 15.1s\tremaining: 4.28s\n",
      "779:\tlearn: 0.2012334\ttotal: 15.1s\tremaining: 4.26s\n",
      "780:\tlearn: 0.2011667\ttotal: 15.1s\tremaining: 4.25s\n",
      "781:\tlearn: 0.2010860\ttotal: 15.2s\tremaining: 4.22s\n",
      "782:\tlearn: 0.2009089\ttotal: 15.2s\tremaining: 4.2s\n",
      "783:\tlearn: 0.2006759\ttotal: 15.2s\tremaining: 4.18s\n",
      "784:\tlearn: 0.2004367\ttotal: 15.2s\tremaining: 4.16s\n",
      "785:\tlearn: 0.2002803\ttotal: 15.2s\tremaining: 4.14s\n",
      "786:\tlearn: 0.2001623\ttotal: 15.2s\tremaining: 4.12s\n",
      "787:\tlearn: 0.1999811\ttotal: 15.2s\tremaining: 4.1s\n",
      "788:\tlearn: 0.1998835\ttotal: 15.3s\tremaining: 4.08s\n",
      "789:\tlearn: 0.1996762\ttotal: 15.3s\tremaining: 4.06s\n",
      "790:\tlearn: 0.1994498\ttotal: 15.3s\tremaining: 4.04s\n",
      "791:\tlearn: 0.1993277\ttotal: 15.3s\tremaining: 4.02s\n",
      "792:\tlearn: 0.1991919\ttotal: 15.3s\tremaining: 4s\n",
      "793:\tlearn: 0.1990968\ttotal: 15.3s\tremaining: 3.98s\n",
      "794:\tlearn: 0.1990047\ttotal: 15.4s\tremaining: 3.96s\n",
      "795:\tlearn: 0.1988641\ttotal: 15.4s\tremaining: 3.94s\n",
      "796:\tlearn: 0.1985932\ttotal: 15.4s\tremaining: 3.92s\n",
      "797:\tlearn: 0.1983640\ttotal: 15.4s\tremaining: 3.9s\n",
      "798:\tlearn: 0.1981199\ttotal: 15.4s\tremaining: 3.88s\n",
      "799:\tlearn: 0.1979220\ttotal: 15.5s\tremaining: 3.86s\n",
      "800:\tlearn: 0.1977424\ttotal: 15.5s\tremaining: 3.84s\n",
      "801:\tlearn: 0.1975073\ttotal: 15.5s\tremaining: 3.82s\n",
      "802:\tlearn: 0.1973006\ttotal: 15.5s\tremaining: 3.8s\n",
      "803:\tlearn: 0.1971613\ttotal: 15.5s\tremaining: 3.78s\n",
      "804:\tlearn: 0.1970553\ttotal: 15.5s\tremaining: 3.77s\n",
      "805:\tlearn: 0.1968369\ttotal: 15.6s\tremaining: 3.75s\n",
      "806:\tlearn: 0.1966212\ttotal: 15.6s\tremaining: 3.73s\n",
      "807:\tlearn: 0.1964951\ttotal: 15.6s\tremaining: 3.71s\n",
      "808:\tlearn: 0.1963811\ttotal: 15.6s\tremaining: 3.69s\n",
      "809:\tlearn: 0.1961435\ttotal: 15.6s\tremaining: 3.67s\n",
      "810:\tlearn: 0.1959165\ttotal: 15.6s\tremaining: 3.65s\n",
      "811:\tlearn: 0.1957147\ttotal: 15.7s\tremaining: 3.63s\n",
      "812:\tlearn: 0.1955015\ttotal: 15.7s\tremaining: 3.6s\n",
      "813:\tlearn: 0.1954005\ttotal: 15.7s\tremaining: 3.58s\n",
      "814:\tlearn: 0.1952846\ttotal: 15.7s\tremaining: 3.57s\n",
      "815:\tlearn: 0.1951762\ttotal: 15.7s\tremaining: 3.55s\n",
      "816:\tlearn: 0.1950022\ttotal: 15.7s\tremaining: 3.53s\n",
      "817:\tlearn: 0.1948931\ttotal: 15.8s\tremaining: 3.51s\n",
      "818:\tlearn: 0.1947541\ttotal: 15.8s\tremaining: 3.49s\n",
      "819:\tlearn: 0.1944670\ttotal: 15.8s\tremaining: 3.47s\n",
      "820:\tlearn: 0.1942831\ttotal: 15.8s\tremaining: 3.45s\n",
      "821:\tlearn: 0.1942283\ttotal: 15.8s\tremaining: 3.43s\n",
      "822:\tlearn: 0.1941374\ttotal: 15.9s\tremaining: 3.41s\n",
      "823:\tlearn: 0.1940725\ttotal: 15.9s\tremaining: 3.39s\n",
      "824:\tlearn: 0.1939105\ttotal: 15.9s\tremaining: 3.37s\n",
      "825:\tlearn: 0.1937683\ttotal: 15.9s\tremaining: 3.35s\n",
      "826:\tlearn: 0.1936045\ttotal: 15.9s\tremaining: 3.33s\n"
     ]
    },
    {
     "name": "stdout",
     "output_type": "stream",
     "text": [
      "827:\tlearn: 0.1934082\ttotal: 15.9s\tremaining: 3.31s\n",
      "828:\tlearn: 0.1931952\ttotal: 15.9s\tremaining: 3.29s\n",
      "829:\tlearn: 0.1929228\ttotal: 16s\tremaining: 3.27s\n",
      "830:\tlearn: 0.1928674\ttotal: 16s\tremaining: 3.25s\n",
      "831:\tlearn: 0.1926048\ttotal: 16s\tremaining: 3.23s\n",
      "832:\tlearn: 0.1923739\ttotal: 16s\tremaining: 3.21s\n",
      "833:\tlearn: 0.1922314\ttotal: 16s\tremaining: 3.19s\n",
      "834:\tlearn: 0.1921567\ttotal: 16.1s\tremaining: 3.17s\n",
      "835:\tlearn: 0.1920148\ttotal: 16.1s\tremaining: 3.15s\n",
      "836:\tlearn: 0.1917125\ttotal: 16.1s\tremaining: 3.13s\n",
      "837:\tlearn: 0.1915984\ttotal: 16.1s\tremaining: 3.12s\n",
      "838:\tlearn: 0.1913461\ttotal: 16.1s\tremaining: 3.1s\n",
      "839:\tlearn: 0.1912198\ttotal: 16.1s\tremaining: 3.08s\n",
      "840:\tlearn: 0.1909729\ttotal: 16.2s\tremaining: 3.06s\n",
      "841:\tlearn: 0.1908380\ttotal: 16.2s\tremaining: 3.04s\n",
      "842:\tlearn: 0.1906938\ttotal: 16.2s\tremaining: 3.02s\n",
      "843:\tlearn: 0.1905793\ttotal: 16.2s\tremaining: 3s\n",
      "844:\tlearn: 0.1904593\ttotal: 16.2s\tremaining: 2.98s\n",
      "845:\tlearn: 0.1902777\ttotal: 16.2s\tremaining: 2.96s\n",
      "846:\tlearn: 0.1899336\ttotal: 16.3s\tremaining: 2.94s\n",
      "847:\tlearn: 0.1898704\ttotal: 16.3s\tremaining: 2.92s\n",
      "848:\tlearn: 0.1897314\ttotal: 16.3s\tremaining: 2.9s\n",
      "849:\tlearn: 0.1896521\ttotal: 16.3s\tremaining: 2.88s\n",
      "850:\tlearn: 0.1895723\ttotal: 16.3s\tremaining: 2.85s\n",
      "851:\tlearn: 0.1894784\ttotal: 16.3s\tremaining: 2.83s\n",
      "852:\tlearn: 0.1894002\ttotal: 16.3s\tremaining: 2.81s\n",
      "853:\tlearn: 0.1892546\ttotal: 16.4s\tremaining: 2.79s\n",
      "854:\tlearn: 0.1891456\ttotal: 16.4s\tremaining: 2.78s\n",
      "855:\tlearn: 0.1890928\ttotal: 16.4s\tremaining: 2.76s\n",
      "856:\tlearn: 0.1889282\ttotal: 16.4s\tremaining: 2.74s\n",
      "857:\tlearn: 0.1886328\ttotal: 16.4s\tremaining: 2.72s\n",
      "858:\tlearn: 0.1885133\ttotal: 16.4s\tremaining: 2.7s\n",
      "859:\tlearn: 0.1882620\ttotal: 16.5s\tremaining: 2.68s\n",
      "860:\tlearn: 0.1879940\ttotal: 16.5s\tremaining: 2.66s\n",
      "861:\tlearn: 0.1878712\ttotal: 16.5s\tremaining: 2.64s\n",
      "862:\tlearn: 0.1877875\ttotal: 16.5s\tremaining: 2.62s\n",
      "863:\tlearn: 0.1876840\ttotal: 16.5s\tremaining: 2.6s\n",
      "864:\tlearn: 0.1875363\ttotal: 16.5s\tremaining: 2.58s\n",
      "865:\tlearn: 0.1873516\ttotal: 16.5s\tremaining: 2.56s\n",
      "866:\tlearn: 0.1872085\ttotal: 16.6s\tremaining: 2.54s\n",
      "867:\tlearn: 0.1870969\ttotal: 16.6s\tremaining: 2.52s\n",
      "868:\tlearn: 0.1869311\ttotal: 16.6s\tremaining: 2.5s\n",
      "869:\tlearn: 0.1866280\ttotal: 16.6s\tremaining: 2.48s\n",
      "870:\tlearn: 0.1863986\ttotal: 16.6s\tremaining: 2.46s\n",
      "871:\tlearn: 0.1863032\ttotal: 16.6s\tremaining: 2.44s\n",
      "872:\tlearn: 0.1860684\ttotal: 16.7s\tremaining: 2.42s\n",
      "873:\tlearn: 0.1860006\ttotal: 16.7s\tremaining: 2.4s\n",
      "874:\tlearn: 0.1858508\ttotal: 16.7s\tremaining: 2.38s\n",
      "875:\tlearn: 0.1857447\ttotal: 16.7s\tremaining: 2.36s\n",
      "876:\tlearn: 0.1855167\ttotal: 16.7s\tremaining: 2.34s\n",
      "877:\tlearn: 0.1853554\ttotal: 16.7s\tremaining: 2.32s\n",
      "878:\tlearn: 0.1852922\ttotal: 16.7s\tremaining: 2.31s\n",
      "879:\tlearn: 0.1851627\ttotal: 16.8s\tremaining: 2.29s\n",
      "880:\tlearn: 0.1850491\ttotal: 16.8s\tremaining: 2.27s\n",
      "881:\tlearn: 0.1848674\ttotal: 16.8s\tremaining: 2.25s\n",
      "882:\tlearn: 0.1847834\ttotal: 16.8s\tremaining: 2.23s\n",
      "883:\tlearn: 0.1846123\ttotal: 16.8s\tremaining: 2.21s\n",
      "884:\tlearn: 0.1845353\ttotal: 16.9s\tremaining: 2.19s\n",
      "885:\tlearn: 0.1844234\ttotal: 16.9s\tremaining: 2.17s\n",
      "886:\tlearn: 0.1843598\ttotal: 16.9s\tremaining: 2.15s\n",
      "887:\tlearn: 0.1840853\ttotal: 16.9s\tremaining: 2.13s\n",
      "888:\tlearn: 0.1838412\ttotal: 16.9s\tremaining: 2.11s\n",
      "889:\tlearn: 0.1836512\ttotal: 16.9s\tremaining: 2.09s\n",
      "890:\tlearn: 0.1835297\ttotal: 16.9s\tremaining: 2.07s\n",
      "891:\tlearn: 0.1834304\ttotal: 17s\tremaining: 2.05s\n",
      "892:\tlearn: 0.1834057\ttotal: 17s\tremaining: 2.03s\n",
      "893:\tlearn: 0.1832663\ttotal: 17s\tremaining: 2.01s\n",
      "894:\tlearn: 0.1831747\ttotal: 17s\tremaining: 2s\n",
      "895:\tlearn: 0.1830538\ttotal: 17s\tremaining: 1.98s\n",
      "896:\tlearn: 0.1826303\ttotal: 17s\tremaining: 1.96s\n",
      "897:\tlearn: 0.1824495\ttotal: 17.1s\tremaining: 1.94s\n",
      "898:\tlearn: 0.1823565\ttotal: 17.1s\tremaining: 1.92s\n",
      "899:\tlearn: 0.1821609\ttotal: 17.1s\tremaining: 1.9s\n",
      "900:\tlearn: 0.1819602\ttotal: 17.1s\tremaining: 1.88s\n",
      "901:\tlearn: 0.1816976\ttotal: 17.1s\tremaining: 1.86s\n",
      "902:\tlearn: 0.1816262\ttotal: 17.1s\tremaining: 1.84s\n",
      "903:\tlearn: 0.1814747\ttotal: 17.2s\tremaining: 1.82s\n",
      "904:\tlearn: 0.1812950\ttotal: 17.2s\tremaining: 1.8s\n",
      "905:\tlearn: 0.1811450\ttotal: 17.2s\tremaining: 1.78s\n",
      "906:\tlearn: 0.1808951\ttotal: 17.2s\tremaining: 1.76s\n",
      "907:\tlearn: 0.1806879\ttotal: 17.2s\tremaining: 1.74s\n",
      "908:\tlearn: 0.1805367\ttotal: 17.2s\tremaining: 1.73s\n",
      "909:\tlearn: 0.1803800\ttotal: 17.3s\tremaining: 1.71s\n",
      "910:\tlearn: 0.1801074\ttotal: 17.3s\tremaining: 1.69s\n",
      "911:\tlearn: 0.1799649\ttotal: 17.3s\tremaining: 1.67s\n",
      "912:\tlearn: 0.1798507\ttotal: 17.3s\tremaining: 1.65s\n",
      "913:\tlearn: 0.1796802\ttotal: 17.3s\tremaining: 1.63s\n",
      "914:\tlearn: 0.1795518\ttotal: 17.3s\tremaining: 1.61s\n",
      "915:\tlearn: 0.1793685\ttotal: 17.4s\tremaining: 1.59s\n",
      "916:\tlearn: 0.1792320\ttotal: 17.4s\tremaining: 1.57s\n",
      "917:\tlearn: 0.1789140\ttotal: 17.4s\tremaining: 1.55s\n",
      "918:\tlearn: 0.1787987\ttotal: 17.4s\tremaining: 1.53s\n",
      "919:\tlearn: 0.1786692\ttotal: 17.4s\tremaining: 1.51s\n",
      "920:\tlearn: 0.1785124\ttotal: 17.4s\tremaining: 1.49s\n",
      "921:\tlearn: 0.1783899\ttotal: 17.4s\tremaining: 1.48s\n",
      "922:\tlearn: 0.1782618\ttotal: 17.5s\tremaining: 1.46s\n",
      "923:\tlearn: 0.1781789\ttotal: 17.5s\tremaining: 1.44s\n",
      "924:\tlearn: 0.1780414\ttotal: 17.5s\tremaining: 1.42s\n",
      "925:\tlearn: 0.1780086\ttotal: 17.5s\tremaining: 1.4s\n",
      "926:\tlearn: 0.1778460\ttotal: 17.5s\tremaining: 1.38s\n",
      "927:\tlearn: 0.1777629\ttotal: 17.5s\tremaining: 1.36s\n",
      "928:\tlearn: 0.1777023\ttotal: 17.6s\tremaining: 1.34s\n",
      "929:\tlearn: 0.1775596\ttotal: 17.6s\tremaining: 1.32s\n",
      "930:\tlearn: 0.1773734\ttotal: 17.6s\tremaining: 1.3s\n",
      "931:\tlearn: 0.1772955\ttotal: 17.6s\tremaining: 1.28s\n",
      "932:\tlearn: 0.1771876\ttotal: 17.6s\tremaining: 1.26s\n",
      "933:\tlearn: 0.1769681\ttotal: 17.6s\tremaining: 1.25s\n",
      "934:\tlearn: 0.1768358\ttotal: 17.6s\tremaining: 1.23s\n",
      "935:\tlearn: 0.1766751\ttotal: 17.7s\tremaining: 1.21s\n",
      "936:\tlearn: 0.1765435\ttotal: 17.7s\tremaining: 1.19s\n",
      "937:\tlearn: 0.1763989\ttotal: 17.7s\tremaining: 1.17s\n",
      "938:\tlearn: 0.1761227\ttotal: 17.7s\tremaining: 1.15s\n",
      "939:\tlearn: 0.1759756\ttotal: 17.7s\tremaining: 1.13s\n",
      "940:\tlearn: 0.1758925\ttotal: 17.8s\tremaining: 1.11s\n",
      "941:\tlearn: 0.1756986\ttotal: 17.8s\tremaining: 1.09s\n",
      "942:\tlearn: 0.1755907\ttotal: 17.8s\tremaining: 1.07s\n",
      "943:\tlearn: 0.1754740\ttotal: 17.8s\tremaining: 1.06s\n",
      "944:\tlearn: 0.1753431\ttotal: 17.8s\tremaining: 1.04s\n",
      "945:\tlearn: 0.1753003\ttotal: 17.8s\tremaining: 1.02s\n",
      "946:\tlearn: 0.1751694\ttotal: 17.8s\tremaining: 999ms\n",
      "947:\tlearn: 0.1749487\ttotal: 17.9s\tremaining: 980ms\n",
      "948:\tlearn: 0.1748550\ttotal: 17.9s\tremaining: 961ms\n",
      "949:\tlearn: 0.1747106\ttotal: 17.9s\tremaining: 942ms\n",
      "950:\tlearn: 0.1745053\ttotal: 17.9s\tremaining: 924ms\n",
      "951:\tlearn: 0.1743597\ttotal: 17.9s\tremaining: 905ms\n",
      "952:\tlearn: 0.1742850\ttotal: 18s\tremaining: 886ms\n",
      "953:\tlearn: 0.1740966\ttotal: 18s\tremaining: 867ms\n",
      "954:\tlearn: 0.1739659\ttotal: 18s\tremaining: 848ms\n",
      "955:\tlearn: 0.1739201\ttotal: 18s\tremaining: 829ms\n",
      "956:\tlearn: 0.1737664\ttotal: 18s\tremaining: 810ms\n",
      "957:\tlearn: 0.1737084\ttotal: 18s\tremaining: 790ms\n",
      "958:\tlearn: 0.1736490\ttotal: 18s\tremaining: 771ms\n",
      "959:\tlearn: 0.1735730\ttotal: 18.1s\tremaining: 753ms\n",
      "960:\tlearn: 0.1734503\ttotal: 18.1s\tremaining: 734ms\n",
      "961:\tlearn: 0.1733611\ttotal: 18.1s\tremaining: 715ms\n",
      "962:\tlearn: 0.1731349\ttotal: 18.1s\tremaining: 696ms\n",
      "963:\tlearn: 0.1730378\ttotal: 18.1s\tremaining: 678ms\n",
      "964:\tlearn: 0.1728635\ttotal: 18.2s\tremaining: 659ms\n",
      "965:\tlearn: 0.1727198\ttotal: 18.2s\tremaining: 640ms\n",
      "966:\tlearn: 0.1725858\ttotal: 18.2s\tremaining: 621ms\n",
      "967:\tlearn: 0.1723547\ttotal: 18.2s\tremaining: 602ms\n",
      "968:\tlearn: 0.1722179\ttotal: 18.2s\tremaining: 583ms\n",
      "969:\tlearn: 0.1720719\ttotal: 18.2s\tremaining: 564ms\n",
      "970:\tlearn: 0.1719113\ttotal: 18.3s\tremaining: 545ms\n",
      "971:\tlearn: 0.1716576\ttotal: 18.3s\tremaining: 526ms\n",
      "972:\tlearn: 0.1714949\ttotal: 18.3s\tremaining: 507ms\n",
      "973:\tlearn: 0.1713644\ttotal: 18.3s\tremaining: 489ms\n",
      "974:\tlearn: 0.1711449\ttotal: 18.3s\tremaining: 470ms\n",
      "975:\tlearn: 0.1710553\ttotal: 18.4s\tremaining: 451ms\n",
      "976:\tlearn: 0.1709016\ttotal: 18.4s\tremaining: 433ms\n",
      "977:\tlearn: 0.1707622\ttotal: 18.4s\tremaining: 414ms\n",
      "978:\tlearn: 0.1706501\ttotal: 18.4s\tremaining: 395ms\n",
      "979:\tlearn: 0.1705296\ttotal: 18.4s\tremaining: 376ms\n",
      "980:\tlearn: 0.1704747\ttotal: 18.4s\tremaining: 357ms\n",
      "981:\tlearn: 0.1703350\ttotal: 18.5s\tremaining: 338ms\n",
      "982:\tlearn: 0.1700772\ttotal: 18.5s\tremaining: 319ms\n",
      "983:\tlearn: 0.1700091\ttotal: 18.5s\tremaining: 301ms\n",
      "984:\tlearn: 0.1698616\ttotal: 18.5s\tremaining: 282ms\n",
      "985:\tlearn: 0.1697428\ttotal: 18.5s\tremaining: 263ms\n",
      "986:\tlearn: 0.1696433\ttotal: 18.5s\tremaining: 244ms\n",
      "987:\tlearn: 0.1695314\ttotal: 18.6s\tremaining: 225ms\n",
      "988:\tlearn: 0.1694541\ttotal: 18.6s\tremaining: 207ms\n",
      "989:\tlearn: 0.1693720\ttotal: 18.6s\tremaining: 188ms\n",
      "990:\tlearn: 0.1690661\ttotal: 18.6s\tremaining: 169ms\n",
      "991:\tlearn: 0.1689563\ttotal: 18.7s\tremaining: 150ms\n",
      "992:\tlearn: 0.1688469\ttotal: 18.7s\tremaining: 132ms\n",
      "993:\tlearn: 0.1687676\ttotal: 18.7s\tremaining: 113ms\n",
      "994:\tlearn: 0.1686763\ttotal: 18.7s\tremaining: 94ms\n"
     ]
    },
    {
     "name": "stdout",
     "output_type": "stream",
     "text": [
      "995:\tlearn: 0.1685252\ttotal: 18.7s\tremaining: 75.2ms\n",
      "996:\tlearn: 0.1683539\ttotal: 18.7s\tremaining: 56.4ms\n",
      "997:\tlearn: 0.1682747\ttotal: 18.8s\tremaining: 37.6ms\n",
      "998:\tlearn: 0.1680635\ttotal: 18.8s\tremaining: 18.8ms\n",
      "999:\tlearn: 0.1678816\ttotal: 18.8s\tremaining: 0us\n",
      "r2 score 0.37679591751756936\n",
      "accuracy scores 0.8444022770398482\n",
      "MAE 0.28336495888678054\n"
     ]
    }
   ],
   "source": [
    "step1 = ColumnTransformer(transformers=[\n",
    "    ('col_tnf',OneHotEncoder(sparse=False,drop='first',handle_unknown='ignore'),[1,2,3,4,5,6])\n",
    "],remainder='passthrough')\n",
    "step2 = CatBoostClassifier()\n",
    "pipe1 = Pipeline([\n",
    "    ('step1',step1),\n",
    "    ('step2',step2)\n",
    "])\n",
    "pipe1.fit(xtrain,ytrain)\n",
    "y_pred = pipe1.predict(xtest)\n",
    "print('r2 score',r2_score(ytest,y_pred))\n",
    "print('accuracy scores',accuracy_score(ytest,y_pred))\n",
    "# print('precision score',precision_score(ytest,y_pred))\n",
    "print('MAE',mean_absolute_error(ytest,y_pred))"
   ]
  },
  {
   "cell_type": "code",
   "execution_count": 193,
   "id": "7e7833c6",
   "metadata": {},
   "outputs": [
    {
     "name": "stderr",
     "output_type": "stream",
     "text": [
      "C:\\Users\\Ghost Codm\\AppData\\Local\\Packages\\PythonSoftwareFoundation.Python.3.11_qbz5n2kfra8p0\\LocalCache\\local-packages\\Python311\\site-packages\\sklearn\\preprocessing\\_encoders.py:975: FutureWarning:\n",
      "\n",
      "`sparse` was renamed to `sparse_output` in version 1.2 and will be removed in 1.4. `sparse_output` is ignored unless you leave `sparse` to its default value.\n",
      "\n"
     ]
    },
    {
     "name": "stdout",
     "output_type": "stream",
     "text": [
      "r2 score 0.37679591751756936\n",
      "accuracy scores 0.8425047438330171\n",
      "MAE 0.2846299810246679\n"
     ]
    }
   ],
   "source": [
    "step1 = ColumnTransformer(transformers=[\n",
    "    ('col_tnf',OneHotEncoder(sparse=False,drop='first',handle_unknown='ignore'),[1,2,3,4,5,6])\n",
    "],remainder='passthrough')\n",
    "step2 = RandomForestClassifier()\n",
    "pipe2 = Pipeline([\n",
    "    ('step1',step1),\n",
    "    ('step2',step2)\n",
    "])\n",
    "pipe2.fit(xtrain,ytrain)\n",
    "y_pred = pipe2.predict(xtest)\n",
    "print('r2 score',r2_score(ytest,y_pred))\n",
    "print('accuracy scores',accuracy_score(ytest,y_pred))\n",
    "# print('precision score',precision_score(ytest,y_pred))\n",
    "print('MAE',mean_absolute_error(ytest,y_pred))"
   ]
  },
  {
   "cell_type": "code",
   "execution_count": 194,
   "id": "fbba72bd",
   "metadata": {},
   "outputs": [
    {
     "name": "stdout",
     "output_type": "stream",
     "text": [
      "r2 score -0.07012625900445557\n",
      "accuracy scores 0.6325110689437066\n",
      "MAE 0.5534471853257432\n"
     ]
    },
    {
     "name": "stderr",
     "output_type": "stream",
     "text": [
      "C:\\Users\\Ghost Codm\\AppData\\Local\\Packages\\PythonSoftwareFoundation.Python.3.11_qbz5n2kfra8p0\\LocalCache\\local-packages\\Python311\\site-packages\\sklearn\\preprocessing\\_encoders.py:975: FutureWarning:\n",
      "\n",
      "`sparse` was renamed to `sparse_output` in version 1.2 and will be removed in 1.4. `sparse_output` is ignored unless you leave `sparse` to its default value.\n",
      "\n"
     ]
    }
   ],
   "source": [
    "step1 = ColumnTransformer(transformers=[\n",
    "    ('col_tnf',OneHotEncoder(sparse=False,drop='first',handle_unknown='ignore'),[1,2,3,4,5,6])\n",
    "],remainder='passthrough')\n",
    "step2 = MultinomialNB()\n",
    "pipe3 = Pipeline([\n",
    "    ('step1',step1),\n",
    "    ('step2',step2)\n",
    "])\n",
    "pipe3.fit(xtrain,ytrain)\n",
    "y_pred = pipe3.predict(xtest)\n",
    "print('r2 score',r2_score(ytest,y_pred))\n",
    "print('accuracy scores',accuracy_score(ytest,y_pred))\n",
    "# print('precision score',precision_score(ytest,y_pred))\n",
    "print('MAE',mean_absolute_error(ytest,y_pred))"
   ]
  },
  {
   "cell_type": "code",
   "execution_count": 143,
   "id": "fd5ecfdb",
   "metadata": {},
   "outputs": [
    {
     "name": "stdout",
     "output_type": "stream",
     "text": [
      "r2 score 0.1553988256587614\n",
      "accuracy scores 0.8202247191011236\n",
      "MAE 0.20154494382022473\n"
     ]
    },
    {
     "name": "stderr",
     "output_type": "stream",
     "text": [
      "C:\\Users\\Ghost Codm\\AppData\\Local\\Packages\\PythonSoftwareFoundation.Python.3.11_qbz5n2kfra8p0\\LocalCache\\local-packages\\Python311\\site-packages\\sklearn\\preprocessing\\_encoders.py:975: FutureWarning:\n",
      "\n",
      "`sparse` was renamed to `sparse_output` in version 1.2 and will be removed in 1.4. `sparse_output` is ignored unless you leave `sparse` to its default value.\n",
      "\n"
     ]
    }
   ],
   "source": [
    "step1 = ColumnTransformer(transformers=[\n",
    "    ('col_tnf',OneHotEncoder(sparse=False,drop='first',handle_unknown='ignore'),[1,2,3,4,5,6])\n",
    "],remainder='passthrough')\n",
    "step2 = RidgeClassifier()\n",
    "pipe4 = Pipeline([\n",
    "    ('step1',step1),\n",
    "    ('step2',step2)\n",
    "])\n",
    "pipe4.fit(xtrain,ytrain)\n",
    "y_pred = pipe4.predict(xtest)\n",
    "print('r2 score',r2_score(ytest,y_pred))\n",
    "print('accuracy scores',accuracy_score(ytest,y_pred))\n",
    "# print('precision score',precision_score(ytest,y_pred))\n",
    "print('MAE',mean_absolute_error(ytest,y_pred))"
   ]
  },
  {
   "cell_type": "code",
   "execution_count": 145,
   "id": "18e9ea2b",
   "metadata": {},
   "outputs": [
    {
     "name": "stderr",
     "output_type": "stream",
     "text": [
      "C:\\Users\\Ghost Codm\\AppData\\Local\\Packages\\PythonSoftwareFoundation.Python.3.11_qbz5n2kfra8p0\\LocalCache\\local-packages\\Python311\\site-packages\\sklearn\\preprocessing\\_encoders.py:975: FutureWarning:\n",
      "\n",
      "`sparse` was renamed to `sparse_output` in version 1.2 and will be removed in 1.4. `sparse_output` is ignored unless you leave `sparse` to its default value.\n",
      "\n"
     ]
    },
    {
     "name": "stdout",
     "output_type": "stream",
     "text": [
      "None\n"
     ]
    },
    {
     "name": "stderr",
     "output_type": "stream",
     "text": [
      "C:\\Users\\Ghost Codm\\AppData\\Local\\Packages\\PythonSoftwareFoundation.Python.3.11_qbz5n2kfra8p0\\LocalCache\\local-packages\\Python311\\site-packages\\sklearn\\preprocessing\\_encoders.py:975: FutureWarning:\n",
      "\n",
      "`sparse` was renamed to `sparse_output` in version 1.2 and will be removed in 1.4. `sparse_output` is ignored unless you leave `sparse` to its default value.\n",
      "\n"
     ]
    },
    {
     "name": "stdout",
     "output_type": "stream",
     "text": [
      "None\n"
     ]
    },
    {
     "name": "stderr",
     "output_type": "stream",
     "text": [
      "C:\\Users\\Ghost Codm\\AppData\\Local\\Packages\\PythonSoftwareFoundation.Python.3.11_qbz5n2kfra8p0\\LocalCache\\local-packages\\Python311\\site-packages\\sklearn\\preprocessing\\_encoders.py:975: FutureWarning:\n",
      "\n",
      "`sparse` was renamed to `sparse_output` in version 1.2 and will be removed in 1.4. `sparse_output` is ignored unless you leave `sparse` to its default value.\n",
      "\n"
     ]
    },
    {
     "name": "stdout",
     "output_type": "stream",
     "text": [
      "None\n"
     ]
    },
    {
     "name": "stderr",
     "output_type": "stream",
     "text": [
      "C:\\Users\\Ghost Codm\\AppData\\Local\\Packages\\PythonSoftwareFoundation.Python.3.11_qbz5n2kfra8p0\\LocalCache\\local-packages\\Python311\\site-packages\\sklearn\\preprocessing\\_encoders.py:975: FutureWarning:\n",
      "\n",
      "`sparse` was renamed to `sparse_output` in version 1.2 and will be removed in 1.4. `sparse_output` is ignored unless you leave `sparse` to its default value.\n",
      "\n"
     ]
    },
    {
     "name": "stdout",
     "output_type": "stream",
     "text": [
      "None\n"
     ]
    },
    {
     "name": "stderr",
     "output_type": "stream",
     "text": [
      "C:\\Users\\Ghost Codm\\AppData\\Local\\Packages\\PythonSoftwareFoundation.Python.3.11_qbz5n2kfra8p0\\LocalCache\\local-packages\\Python311\\site-packages\\sklearn\\preprocessing\\_encoders.py:975: FutureWarning:\n",
      "\n",
      "`sparse` was renamed to `sparse_output` in version 1.2 and will be removed in 1.4. `sparse_output` is ignored unless you leave `sparse` to its default value.\n",
      "\n"
     ]
    },
    {
     "name": "stdout",
     "output_type": "stream",
     "text": [
      "None\n"
     ]
    },
    {
     "name": "stderr",
     "output_type": "stream",
     "text": [
      "C:\\Users\\Ghost Codm\\AppData\\Local\\Packages\\PythonSoftwareFoundation.Python.3.11_qbz5n2kfra8p0\\LocalCache\\local-packages\\Python311\\site-packages\\sklearn\\preprocessing\\_encoders.py:975: FutureWarning:\n",
      "\n",
      "`sparse` was renamed to `sparse_output` in version 1.2 and will be removed in 1.4. `sparse_output` is ignored unless you leave `sparse` to its default value.\n",
      "\n"
     ]
    },
    {
     "name": "stdout",
     "output_type": "stream",
     "text": [
      "None\n"
     ]
    },
    {
     "name": "stderr",
     "output_type": "stream",
     "text": [
      "C:\\Users\\Ghost Codm\\AppData\\Local\\Packages\\PythonSoftwareFoundation.Python.3.11_qbz5n2kfra8p0\\LocalCache\\local-packages\\Python311\\site-packages\\sklearn\\preprocessing\\_encoders.py:975: FutureWarning:\n",
      "\n",
      "`sparse` was renamed to `sparse_output` in version 1.2 and will be removed in 1.4. `sparse_output` is ignored unless you leave `sparse` to its default value.\n",
      "\n"
     ]
    },
    {
     "name": "stdout",
     "output_type": "stream",
     "text": [
      "None\n"
     ]
    },
    {
     "name": "stderr",
     "output_type": "stream",
     "text": [
      "C:\\Users\\Ghost Codm\\AppData\\Local\\Packages\\PythonSoftwareFoundation.Python.3.11_qbz5n2kfra8p0\\LocalCache\\local-packages\\Python311\\site-packages\\sklearn\\preprocessing\\_encoders.py:975: FutureWarning:\n",
      "\n",
      "`sparse` was renamed to `sparse_output` in version 1.2 and will be removed in 1.4. `sparse_output` is ignored unless you leave `sparse` to its default value.\n",
      "\n"
     ]
    },
    {
     "name": "stdout",
     "output_type": "stream",
     "text": [
      "None\n"
     ]
    },
    {
     "name": "stderr",
     "output_type": "stream",
     "text": [
      "C:\\Users\\Ghost Codm\\AppData\\Local\\Packages\\PythonSoftwareFoundation.Python.3.11_qbz5n2kfra8p0\\LocalCache\\local-packages\\Python311\\site-packages\\sklearn\\preprocessing\\_encoders.py:975: FutureWarning:\n",
      "\n",
      "`sparse` was renamed to `sparse_output` in version 1.2 and will be removed in 1.4. `sparse_output` is ignored unless you leave `sparse` to its default value.\n",
      "\n"
     ]
    },
    {
     "name": "stdout",
     "output_type": "stream",
     "text": [
      "None\n"
     ]
    },
    {
     "name": "stderr",
     "output_type": "stream",
     "text": [
      "C:\\Users\\Ghost Codm\\AppData\\Local\\Packages\\PythonSoftwareFoundation.Python.3.11_qbz5n2kfra8p0\\LocalCache\\local-packages\\Python311\\site-packages\\sklearn\\preprocessing\\_encoders.py:975: FutureWarning:\n",
      "\n",
      "`sparse` was renamed to `sparse_output` in version 1.2 and will be removed in 1.4. `sparse_output` is ignored unless you leave `sparse` to its default value.\n",
      "\n"
     ]
    },
    {
     "name": "stdout",
     "output_type": "stream",
     "text": [
      "None\n"
     ]
    },
    {
     "name": "stderr",
     "output_type": "stream",
     "text": [
      "C:\\Users\\Ghost Codm\\AppData\\Local\\Packages\\PythonSoftwareFoundation.Python.3.11_qbz5n2kfra8p0\\LocalCache\\local-packages\\Python311\\site-packages\\sklearn\\preprocessing\\_encoders.py:975: FutureWarning:\n",
      "\n",
      "`sparse` was renamed to `sparse_output` in version 1.2 and will be removed in 1.4. `sparse_output` is ignored unless you leave `sparse` to its default value.\n",
      "\n"
     ]
    },
    {
     "name": "stdout",
     "output_type": "stream",
     "text": [
      "None\n"
     ]
    },
    {
     "name": "stderr",
     "output_type": "stream",
     "text": [
      "C:\\Users\\Ghost Codm\\AppData\\Local\\Packages\\PythonSoftwareFoundation.Python.3.11_qbz5n2kfra8p0\\LocalCache\\local-packages\\Python311\\site-packages\\sklearn\\preprocessing\\_encoders.py:975: FutureWarning:\n",
      "\n",
      "`sparse` was renamed to `sparse_output` in version 1.2 and will be removed in 1.4. `sparse_output` is ignored unless you leave `sparse` to its default value.\n",
      "\n"
     ]
    },
    {
     "name": "stdout",
     "output_type": "stream",
     "text": [
      "None\n"
     ]
    },
    {
     "name": "stderr",
     "output_type": "stream",
     "text": [
      "C:\\Users\\Ghost Codm\\AppData\\Local\\Packages\\PythonSoftwareFoundation.Python.3.11_qbz5n2kfra8p0\\LocalCache\\local-packages\\Python311\\site-packages\\sklearn\\preprocessing\\_encoders.py:975: FutureWarning:\n",
      "\n",
      "`sparse` was renamed to `sparse_output` in version 1.2 and will be removed in 1.4. `sparse_output` is ignored unless you leave `sparse` to its default value.\n",
      "\n"
     ]
    },
    {
     "name": "stdout",
     "output_type": "stream",
     "text": [
      "None\n"
     ]
    },
    {
     "name": "stderr",
     "output_type": "stream",
     "text": [
      "C:\\Users\\Ghost Codm\\AppData\\Local\\Packages\\PythonSoftwareFoundation.Python.3.11_qbz5n2kfra8p0\\LocalCache\\local-packages\\Python311\\site-packages\\sklearn\\preprocessing\\_encoders.py:975: FutureWarning:\n",
      "\n",
      "`sparse` was renamed to `sparse_output` in version 1.2 and will be removed in 1.4. `sparse_output` is ignored unless you leave `sparse` to its default value.\n",
      "\n"
     ]
    },
    {
     "name": "stdout",
     "output_type": "stream",
     "text": [
      "None\n"
     ]
    },
    {
     "name": "stderr",
     "output_type": "stream",
     "text": [
      "C:\\Users\\Ghost Codm\\AppData\\Local\\Packages\\PythonSoftwareFoundation.Python.3.11_qbz5n2kfra8p0\\LocalCache\\local-packages\\Python311\\site-packages\\sklearn\\preprocessing\\_encoders.py:975: FutureWarning:\n",
      "\n",
      "`sparse` was renamed to `sparse_output` in version 1.2 and will be removed in 1.4. `sparse_output` is ignored unless you leave `sparse` to its default value.\n",
      "\n"
     ]
    },
    {
     "name": "stdout",
     "output_type": "stream",
     "text": [
      "None\n"
     ]
    },
    {
     "name": "stderr",
     "output_type": "stream",
     "text": [
      "C:\\Users\\Ghost Codm\\AppData\\Local\\Packages\\PythonSoftwareFoundation.Python.3.11_qbz5n2kfra8p0\\LocalCache\\local-packages\\Python311\\site-packages\\sklearn\\preprocessing\\_encoders.py:975: FutureWarning:\n",
      "\n",
      "`sparse` was renamed to `sparse_output` in version 1.2 and will be removed in 1.4. `sparse_output` is ignored unless you leave `sparse` to its default value.\n",
      "\n"
     ]
    },
    {
     "name": "stdout",
     "output_type": "stream",
     "text": [
      "None\n"
     ]
    },
    {
     "name": "stderr",
     "output_type": "stream",
     "text": [
      "C:\\Users\\Ghost Codm\\AppData\\Local\\Packages\\PythonSoftwareFoundation.Python.3.11_qbz5n2kfra8p0\\LocalCache\\local-packages\\Python311\\site-packages\\sklearn\\preprocessing\\_encoders.py:975: FutureWarning:\n",
      "\n",
      "`sparse` was renamed to `sparse_output` in version 1.2 and will be removed in 1.4. `sparse_output` is ignored unless you leave `sparse` to its default value.\n",
      "\n"
     ]
    },
    {
     "name": "stdout",
     "output_type": "stream",
     "text": [
      "None\n"
     ]
    },
    {
     "name": "stderr",
     "output_type": "stream",
     "text": [
      "C:\\Users\\Ghost Codm\\AppData\\Local\\Packages\\PythonSoftwareFoundation.Python.3.11_qbz5n2kfra8p0\\LocalCache\\local-packages\\Python311\\site-packages\\sklearn\\preprocessing\\_encoders.py:975: FutureWarning:\n",
      "\n",
      "`sparse` was renamed to `sparse_output` in version 1.2 and will be removed in 1.4. `sparse_output` is ignored unless you leave `sparse` to its default value.\n",
      "\n"
     ]
    },
    {
     "name": "stdout",
     "output_type": "stream",
     "text": [
      "None\n"
     ]
    },
    {
     "name": "stderr",
     "output_type": "stream",
     "text": [
      "C:\\Users\\Ghost Codm\\AppData\\Local\\Packages\\PythonSoftwareFoundation.Python.3.11_qbz5n2kfra8p0\\LocalCache\\local-packages\\Python311\\site-packages\\sklearn\\preprocessing\\_encoders.py:975: FutureWarning:\n",
      "\n",
      "`sparse` was renamed to `sparse_output` in version 1.2 and will be removed in 1.4. `sparse_output` is ignored unless you leave `sparse` to its default value.\n",
      "\n"
     ]
    },
    {
     "name": "stdout",
     "output_type": "stream",
     "text": [
      "None\n"
     ]
    },
    {
     "name": "stderr",
     "output_type": "stream",
     "text": [
      "C:\\Users\\Ghost Codm\\AppData\\Local\\Packages\\PythonSoftwareFoundation.Python.3.11_qbz5n2kfra8p0\\LocalCache\\local-packages\\Python311\\site-packages\\sklearn\\preprocessing\\_encoders.py:975: FutureWarning:\n",
      "\n",
      "`sparse` was renamed to `sparse_output` in version 1.2 and will be removed in 1.4. `sparse_output` is ignored unless you leave `sparse` to its default value.\n",
      "\n"
     ]
    },
    {
     "name": "stdout",
     "output_type": "stream",
     "text": [
      "None\n"
     ]
    },
    {
     "name": "stderr",
     "output_type": "stream",
     "text": [
      "C:\\Users\\Ghost Codm\\AppData\\Local\\Packages\\PythonSoftwareFoundation.Python.3.11_qbz5n2kfra8p0\\LocalCache\\local-packages\\Python311\\site-packages\\sklearn\\preprocessing\\_encoders.py:975: FutureWarning:\n",
      "\n",
      "`sparse` was renamed to `sparse_output` in version 1.2 and will be removed in 1.4. `sparse_output` is ignored unless you leave `sparse` to its default value.\n",
      "\n"
     ]
    },
    {
     "name": "stdout",
     "output_type": "stream",
     "text": [
      "None\n"
     ]
    },
    {
     "name": "stderr",
     "output_type": "stream",
     "text": [
      "C:\\Users\\Ghost Codm\\AppData\\Local\\Packages\\PythonSoftwareFoundation.Python.3.11_qbz5n2kfra8p0\\LocalCache\\local-packages\\Python311\\site-packages\\sklearn\\preprocessing\\_encoders.py:975: FutureWarning:\n",
      "\n",
      "`sparse` was renamed to `sparse_output` in version 1.2 and will be removed in 1.4. `sparse_output` is ignored unless you leave `sparse` to its default value.\n",
      "\n"
     ]
    },
    {
     "name": "stdout",
     "output_type": "stream",
     "text": [
      "None\n"
     ]
    },
    {
     "name": "stderr",
     "output_type": "stream",
     "text": [
      "C:\\Users\\Ghost Codm\\AppData\\Local\\Packages\\PythonSoftwareFoundation.Python.3.11_qbz5n2kfra8p0\\LocalCache\\local-packages\\Python311\\site-packages\\sklearn\\preprocessing\\_encoders.py:975: FutureWarning:\n",
      "\n",
      "`sparse` was renamed to `sparse_output` in version 1.2 and will be removed in 1.4. `sparse_output` is ignored unless you leave `sparse` to its default value.\n",
      "\n"
     ]
    },
    {
     "name": "stdout",
     "output_type": "stream",
     "text": [
      "None\n"
     ]
    },
    {
     "name": "stderr",
     "output_type": "stream",
     "text": [
      "C:\\Users\\Ghost Codm\\AppData\\Local\\Packages\\PythonSoftwareFoundation.Python.3.11_qbz5n2kfra8p0\\LocalCache\\local-packages\\Python311\\site-packages\\sklearn\\preprocessing\\_encoders.py:975: FutureWarning:\n",
      "\n",
      "`sparse` was renamed to `sparse_output` in version 1.2 and will be removed in 1.4. `sparse_output` is ignored unless you leave `sparse` to its default value.\n",
      "\n"
     ]
    },
    {
     "name": "stdout",
     "output_type": "stream",
     "text": [
      "None\n"
     ]
    },
    {
     "name": "stderr",
     "output_type": "stream",
     "text": [
      "C:\\Users\\Ghost Codm\\AppData\\Local\\Packages\\PythonSoftwareFoundation.Python.3.11_qbz5n2kfra8p0\\LocalCache\\local-packages\\Python311\\site-packages\\sklearn\\preprocessing\\_encoders.py:975: FutureWarning:\n",
      "\n",
      "`sparse` was renamed to `sparse_output` in version 1.2 and will be removed in 1.4. `sparse_output` is ignored unless you leave `sparse` to its default value.\n",
      "\n"
     ]
    },
    {
     "name": "stdout",
     "output_type": "stream",
     "text": [
      "None\n"
     ]
    },
    {
     "name": "stderr",
     "output_type": "stream",
     "text": [
      "C:\\Users\\Ghost Codm\\AppData\\Local\\Packages\\PythonSoftwareFoundation.Python.3.11_qbz5n2kfra8p0\\LocalCache\\local-packages\\Python311\\site-packages\\sklearn\\preprocessing\\_encoders.py:975: FutureWarning:\n",
      "\n",
      "`sparse` was renamed to `sparse_output` in version 1.2 and will be removed in 1.4. `sparse_output` is ignored unless you leave `sparse` to its default value.\n",
      "\n"
     ]
    },
    {
     "name": "stdout",
     "output_type": "stream",
     "text": [
      "None\n"
     ]
    },
    {
     "name": "stderr",
     "output_type": "stream",
     "text": [
      "C:\\Users\\Ghost Codm\\AppData\\Local\\Packages\\PythonSoftwareFoundation.Python.3.11_qbz5n2kfra8p0\\LocalCache\\local-packages\\Python311\\site-packages\\sklearn\\preprocessing\\_encoders.py:975: FutureWarning:\n",
      "\n",
      "`sparse` was renamed to `sparse_output` in version 1.2 and will be removed in 1.4. `sparse_output` is ignored unless you leave `sparse` to its default value.\n",
      "\n"
     ]
    },
    {
     "name": "stdout",
     "output_type": "stream",
     "text": [
      "None\n"
     ]
    },
    {
     "name": "stderr",
     "output_type": "stream",
     "text": [
      "C:\\Users\\Ghost Codm\\AppData\\Local\\Packages\\PythonSoftwareFoundation.Python.3.11_qbz5n2kfra8p0\\LocalCache\\local-packages\\Python311\\site-packages\\sklearn\\preprocessing\\_encoders.py:975: FutureWarning:\n",
      "\n",
      "`sparse` was renamed to `sparse_output` in version 1.2 and will be removed in 1.4. `sparse_output` is ignored unless you leave `sparse` to its default value.\n",
      "\n"
     ]
    },
    {
     "name": "stdout",
     "output_type": "stream",
     "text": [
      "None\n"
     ]
    },
    {
     "name": "stderr",
     "output_type": "stream",
     "text": [
      "C:\\Users\\Ghost Codm\\AppData\\Local\\Packages\\PythonSoftwareFoundation.Python.3.11_qbz5n2kfra8p0\\LocalCache\\local-packages\\Python311\\site-packages\\sklearn\\preprocessing\\_encoders.py:975: FutureWarning:\n",
      "\n",
      "`sparse` was renamed to `sparse_output` in version 1.2 and will be removed in 1.4. `sparse_output` is ignored unless you leave `sparse` to its default value.\n",
      "\n"
     ]
    },
    {
     "name": "stdout",
     "output_type": "stream",
     "text": [
      "None\n"
     ]
    },
    {
     "name": "stderr",
     "output_type": "stream",
     "text": [
      "C:\\Users\\Ghost Codm\\AppData\\Local\\Packages\\PythonSoftwareFoundation.Python.3.11_qbz5n2kfra8p0\\LocalCache\\local-packages\\Python311\\site-packages\\sklearn\\preprocessing\\_encoders.py:975: FutureWarning:\n",
      "\n",
      "`sparse` was renamed to `sparse_output` in version 1.2 and will be removed in 1.4. `sparse_output` is ignored unless you leave `sparse` to its default value.\n",
      "\n"
     ]
    },
    {
     "name": "stdout",
     "output_type": "stream",
     "text": [
      "None\n"
     ]
    },
    {
     "name": "stderr",
     "output_type": "stream",
     "text": [
      "C:\\Users\\Ghost Codm\\AppData\\Local\\Packages\\PythonSoftwareFoundation.Python.3.11_qbz5n2kfra8p0\\LocalCache\\local-packages\\Python311\\site-packages\\sklearn\\preprocessing\\_encoders.py:975: FutureWarning:\n",
      "\n",
      "`sparse` was renamed to `sparse_output` in version 1.2 and will be removed in 1.4. `sparse_output` is ignored unless you leave `sparse` to its default value.\n",
      "\n"
     ]
    },
    {
     "name": "stdout",
     "output_type": "stream",
     "text": [
      "None\n"
     ]
    },
    {
     "name": "stderr",
     "output_type": "stream",
     "text": [
      "C:\\Users\\Ghost Codm\\AppData\\Local\\Packages\\PythonSoftwareFoundation.Python.3.11_qbz5n2kfra8p0\\LocalCache\\local-packages\\Python311\\site-packages\\sklearn\\preprocessing\\_encoders.py:975: FutureWarning:\n",
      "\n",
      "`sparse` was renamed to `sparse_output` in version 1.2 and will be removed in 1.4. `sparse_output` is ignored unless you leave `sparse` to its default value.\n",
      "\n"
     ]
    },
    {
     "name": "stdout",
     "output_type": "stream",
     "text": [
      "None\n"
     ]
    },
    {
     "name": "stderr",
     "output_type": "stream",
     "text": [
      "C:\\Users\\Ghost Codm\\AppData\\Local\\Packages\\PythonSoftwareFoundation.Python.3.11_qbz5n2kfra8p0\\LocalCache\\local-packages\\Python311\\site-packages\\sklearn\\preprocessing\\_encoders.py:975: FutureWarning:\n",
      "\n",
      "`sparse` was renamed to `sparse_output` in version 1.2 and will be removed in 1.4. `sparse_output` is ignored unless you leave `sparse` to its default value.\n",
      "\n"
     ]
    },
    {
     "name": "stdout",
     "output_type": "stream",
     "text": [
      "None\n"
     ]
    },
    {
     "name": "stderr",
     "output_type": "stream",
     "text": [
      "C:\\Users\\Ghost Codm\\AppData\\Local\\Packages\\PythonSoftwareFoundation.Python.3.11_qbz5n2kfra8p0\\LocalCache\\local-packages\\Python311\\site-packages\\sklearn\\preprocessing\\_encoders.py:975: FutureWarning:\n",
      "\n",
      "`sparse` was renamed to `sparse_output` in version 1.2 and will be removed in 1.4. `sparse_output` is ignored unless you leave `sparse` to its default value.\n",
      "\n"
     ]
    },
    {
     "name": "stdout",
     "output_type": "stream",
     "text": [
      "None\n"
     ]
    },
    {
     "name": "stderr",
     "output_type": "stream",
     "text": [
      "C:\\Users\\Ghost Codm\\AppData\\Local\\Packages\\PythonSoftwareFoundation.Python.3.11_qbz5n2kfra8p0\\LocalCache\\local-packages\\Python311\\site-packages\\sklearn\\preprocessing\\_encoders.py:975: FutureWarning:\n",
      "\n",
      "`sparse` was renamed to `sparse_output` in version 1.2 and will be removed in 1.4. `sparse_output` is ignored unless you leave `sparse` to its default value.\n",
      "\n"
     ]
    },
    {
     "name": "stdout",
     "output_type": "stream",
     "text": [
      "None\n"
     ]
    },
    {
     "name": "stderr",
     "output_type": "stream",
     "text": [
      "C:\\Users\\Ghost Codm\\AppData\\Local\\Packages\\PythonSoftwareFoundation.Python.3.11_qbz5n2kfra8p0\\LocalCache\\local-packages\\Python311\\site-packages\\sklearn\\preprocessing\\_encoders.py:975: FutureWarning:\n",
      "\n",
      "`sparse` was renamed to `sparse_output` in version 1.2 and will be removed in 1.4. `sparse_output` is ignored unless you leave `sparse` to its default value.\n",
      "\n"
     ]
    },
    {
     "name": "stdout",
     "output_type": "stream",
     "text": [
      "None\n"
     ]
    },
    {
     "name": "stderr",
     "output_type": "stream",
     "text": [
      "C:\\Users\\Ghost Codm\\AppData\\Local\\Packages\\PythonSoftwareFoundation.Python.3.11_qbz5n2kfra8p0\\LocalCache\\local-packages\\Python311\\site-packages\\sklearn\\preprocessing\\_encoders.py:975: FutureWarning:\n",
      "\n",
      "`sparse` was renamed to `sparse_output` in version 1.2 and will be removed in 1.4. `sparse_output` is ignored unless you leave `sparse` to its default value.\n",
      "\n"
     ]
    },
    {
     "name": "stdout",
     "output_type": "stream",
     "text": [
      "None\n"
     ]
    },
    {
     "name": "stderr",
     "output_type": "stream",
     "text": [
      "C:\\Users\\Ghost Codm\\AppData\\Local\\Packages\\PythonSoftwareFoundation.Python.3.11_qbz5n2kfra8p0\\LocalCache\\local-packages\\Python311\\site-packages\\sklearn\\preprocessing\\_encoders.py:975: FutureWarning:\n",
      "\n",
      "`sparse` was renamed to `sparse_output` in version 1.2 and will be removed in 1.4. `sparse_output` is ignored unless you leave `sparse` to its default value.\n",
      "\n"
     ]
    },
    {
     "name": "stdout",
     "output_type": "stream",
     "text": [
      "None\n"
     ]
    },
    {
     "name": "stderr",
     "output_type": "stream",
     "text": [
      "C:\\Users\\Ghost Codm\\AppData\\Local\\Packages\\PythonSoftwareFoundation.Python.3.11_qbz5n2kfra8p0\\LocalCache\\local-packages\\Python311\\site-packages\\sklearn\\preprocessing\\_encoders.py:975: FutureWarning:\n",
      "\n",
      "`sparse` was renamed to `sparse_output` in version 1.2 and will be removed in 1.4. `sparse_output` is ignored unless you leave `sparse` to its default value.\n",
      "\n"
     ]
    },
    {
     "name": "stdout",
     "output_type": "stream",
     "text": [
      "None\n"
     ]
    },
    {
     "name": "stderr",
     "output_type": "stream",
     "text": [
      "C:\\Users\\Ghost Codm\\AppData\\Local\\Packages\\PythonSoftwareFoundation.Python.3.11_qbz5n2kfra8p0\\LocalCache\\local-packages\\Python311\\site-packages\\sklearn\\preprocessing\\_encoders.py:975: FutureWarning:\n",
      "\n",
      "`sparse` was renamed to `sparse_output` in version 1.2 and will be removed in 1.4. `sparse_output` is ignored unless you leave `sparse` to its default value.\n",
      "\n"
     ]
    },
    {
     "name": "stdout",
     "output_type": "stream",
     "text": [
      "None\n"
     ]
    },
    {
     "name": "stderr",
     "output_type": "stream",
     "text": [
      "C:\\Users\\Ghost Codm\\AppData\\Local\\Packages\\PythonSoftwareFoundation.Python.3.11_qbz5n2kfra8p0\\LocalCache\\local-packages\\Python311\\site-packages\\sklearn\\preprocessing\\_encoders.py:975: FutureWarning:\n",
      "\n",
      "`sparse` was renamed to `sparse_output` in version 1.2 and will be removed in 1.4. `sparse_output` is ignored unless you leave `sparse` to its default value.\n",
      "\n"
     ]
    },
    {
     "name": "stdout",
     "output_type": "stream",
     "text": [
      "None\n"
     ]
    },
    {
     "name": "stderr",
     "output_type": "stream",
     "text": [
      "C:\\Users\\Ghost Codm\\AppData\\Local\\Packages\\PythonSoftwareFoundation.Python.3.11_qbz5n2kfra8p0\\LocalCache\\local-packages\\Python311\\site-packages\\sklearn\\preprocessing\\_encoders.py:975: FutureWarning:\n",
      "\n",
      "`sparse` was renamed to `sparse_output` in version 1.2 and will be removed in 1.4. `sparse_output` is ignored unless you leave `sparse` to its default value.\n",
      "\n"
     ]
    },
    {
     "name": "stdout",
     "output_type": "stream",
     "text": [
      "None\n"
     ]
    },
    {
     "name": "stderr",
     "output_type": "stream",
     "text": [
      "C:\\Users\\Ghost Codm\\AppData\\Local\\Packages\\PythonSoftwareFoundation.Python.3.11_qbz5n2kfra8p0\\LocalCache\\local-packages\\Python311\\site-packages\\sklearn\\preprocessing\\_encoders.py:975: FutureWarning:\n",
      "\n",
      "`sparse` was renamed to `sparse_output` in version 1.2 and will be removed in 1.4. `sparse_output` is ignored unless you leave `sparse` to its default value.\n",
      "\n"
     ]
    },
    {
     "name": "stdout",
     "output_type": "stream",
     "text": [
      "None\n"
     ]
    },
    {
     "name": "stderr",
     "output_type": "stream",
     "text": [
      "C:\\Users\\Ghost Codm\\AppData\\Local\\Packages\\PythonSoftwareFoundation.Python.3.11_qbz5n2kfra8p0\\LocalCache\\local-packages\\Python311\\site-packages\\sklearn\\preprocessing\\_encoders.py:975: FutureWarning:\n",
      "\n",
      "`sparse` was renamed to `sparse_output` in version 1.2 and will be removed in 1.4. `sparse_output` is ignored unless you leave `sparse` to its default value.\n",
      "\n"
     ]
    },
    {
     "name": "stdout",
     "output_type": "stream",
     "text": [
      "None\n"
     ]
    },
    {
     "name": "stderr",
     "output_type": "stream",
     "text": [
      "C:\\Users\\Ghost Codm\\AppData\\Local\\Packages\\PythonSoftwareFoundation.Python.3.11_qbz5n2kfra8p0\\LocalCache\\local-packages\\Python311\\site-packages\\sklearn\\preprocessing\\_encoders.py:975: FutureWarning:\n",
      "\n",
      "`sparse` was renamed to `sparse_output` in version 1.2 and will be removed in 1.4. `sparse_output` is ignored unless you leave `sparse` to its default value.\n",
      "\n"
     ]
    },
    {
     "name": "stdout",
     "output_type": "stream",
     "text": [
      "None\n"
     ]
    },
    {
     "name": "stderr",
     "output_type": "stream",
     "text": [
      "C:\\Users\\Ghost Codm\\AppData\\Local\\Packages\\PythonSoftwareFoundation.Python.3.11_qbz5n2kfra8p0\\LocalCache\\local-packages\\Python311\\site-packages\\sklearn\\preprocessing\\_encoders.py:975: FutureWarning:\n",
      "\n",
      "`sparse` was renamed to `sparse_output` in version 1.2 and will be removed in 1.4. `sparse_output` is ignored unless you leave `sparse` to its default value.\n",
      "\n"
     ]
    },
    {
     "name": "stdout",
     "output_type": "stream",
     "text": [
      "None\n"
     ]
    },
    {
     "name": "stderr",
     "output_type": "stream",
     "text": [
      "C:\\Users\\Ghost Codm\\AppData\\Local\\Packages\\PythonSoftwareFoundation.Python.3.11_qbz5n2kfra8p0\\LocalCache\\local-packages\\Python311\\site-packages\\sklearn\\preprocessing\\_encoders.py:975: FutureWarning:\n",
      "\n",
      "`sparse` was renamed to `sparse_output` in version 1.2 and will be removed in 1.4. `sparse_output` is ignored unless you leave `sparse` to its default value.\n",
      "\n"
     ]
    },
    {
     "name": "stdout",
     "output_type": "stream",
     "text": [
      "None\n"
     ]
    },
    {
     "name": "stderr",
     "output_type": "stream",
     "text": [
      "C:\\Users\\Ghost Codm\\AppData\\Local\\Packages\\PythonSoftwareFoundation.Python.3.11_qbz5n2kfra8p0\\LocalCache\\local-packages\\Python311\\site-packages\\sklearn\\preprocessing\\_encoders.py:975: FutureWarning:\n",
      "\n",
      "`sparse` was renamed to `sparse_output` in version 1.2 and will be removed in 1.4. `sparse_output` is ignored unless you leave `sparse` to its default value.\n",
      "\n"
     ]
    },
    {
     "name": "stdout",
     "output_type": "stream",
     "text": [
      "None\n"
     ]
    },
    {
     "name": "stderr",
     "output_type": "stream",
     "text": [
      "C:\\Users\\Ghost Codm\\AppData\\Local\\Packages\\PythonSoftwareFoundation.Python.3.11_qbz5n2kfra8p0\\LocalCache\\local-packages\\Python311\\site-packages\\sklearn\\preprocessing\\_encoders.py:975: FutureWarning:\n",
      "\n",
      "`sparse` was renamed to `sparse_output` in version 1.2 and will be removed in 1.4. `sparse_output` is ignored unless you leave `sparse` to its default value.\n",
      "\n"
     ]
    },
    {
     "name": "stdout",
     "output_type": "stream",
     "text": [
      "None\n"
     ]
    },
    {
     "name": "stderr",
     "output_type": "stream",
     "text": [
      "C:\\Users\\Ghost Codm\\AppData\\Local\\Packages\\PythonSoftwareFoundation.Python.3.11_qbz5n2kfra8p0\\LocalCache\\local-packages\\Python311\\site-packages\\sklearn\\preprocessing\\_encoders.py:975: FutureWarning:\n",
      "\n",
      "`sparse` was renamed to `sparse_output` in version 1.2 and will be removed in 1.4. `sparse_output` is ignored unless you leave `sparse` to its default value.\n",
      "\n"
     ]
    },
    {
     "name": "stdout",
     "output_type": "stream",
     "text": [
      "None\n"
     ]
    },
    {
     "name": "stderr",
     "output_type": "stream",
     "text": [
      "C:\\Users\\Ghost Codm\\AppData\\Local\\Packages\\PythonSoftwareFoundation.Python.3.11_qbz5n2kfra8p0\\LocalCache\\local-packages\\Python311\\site-packages\\sklearn\\preprocessing\\_encoders.py:975: FutureWarning:\n",
      "\n",
      "`sparse` was renamed to `sparse_output` in version 1.2 and will be removed in 1.4. `sparse_output` is ignored unless you leave `sparse` to its default value.\n",
      "\n"
     ]
    },
    {
     "name": "stdout",
     "output_type": "stream",
     "text": [
      "None\n"
     ]
    },
    {
     "name": "stderr",
     "output_type": "stream",
     "text": [
      "C:\\Users\\Ghost Codm\\AppData\\Local\\Packages\\PythonSoftwareFoundation.Python.3.11_qbz5n2kfra8p0\\LocalCache\\local-packages\\Python311\\site-packages\\sklearn\\preprocessing\\_encoders.py:975: FutureWarning:\n",
      "\n",
      "`sparse` was renamed to `sparse_output` in version 1.2 and will be removed in 1.4. `sparse_output` is ignored unless you leave `sparse` to its default value.\n",
      "\n"
     ]
    },
    {
     "name": "stdout",
     "output_type": "stream",
     "text": [
      "None\n"
     ]
    },
    {
     "name": "stderr",
     "output_type": "stream",
     "text": [
      "C:\\Users\\Ghost Codm\\AppData\\Local\\Packages\\PythonSoftwareFoundation.Python.3.11_qbz5n2kfra8p0\\LocalCache\\local-packages\\Python311\\site-packages\\sklearn\\preprocessing\\_encoders.py:975: FutureWarning:\n",
      "\n",
      "`sparse` was renamed to `sparse_output` in version 1.2 and will be removed in 1.4. `sparse_output` is ignored unless you leave `sparse` to its default value.\n",
      "\n"
     ]
    },
    {
     "name": "stdout",
     "output_type": "stream",
     "text": [
      "None\n"
     ]
    },
    {
     "name": "stderr",
     "output_type": "stream",
     "text": [
      "C:\\Users\\Ghost Codm\\AppData\\Local\\Packages\\PythonSoftwareFoundation.Python.3.11_qbz5n2kfra8p0\\LocalCache\\local-packages\\Python311\\site-packages\\sklearn\\preprocessing\\_encoders.py:975: FutureWarning:\n",
      "\n",
      "`sparse` was renamed to `sparse_output` in version 1.2 and will be removed in 1.4. `sparse_output` is ignored unless you leave `sparse` to its default value.\n",
      "\n"
     ]
    },
    {
     "name": "stdout",
     "output_type": "stream",
     "text": [
      "None\n"
     ]
    },
    {
     "name": "stderr",
     "output_type": "stream",
     "text": [
      "C:\\Users\\Ghost Codm\\AppData\\Local\\Packages\\PythonSoftwareFoundation.Python.3.11_qbz5n2kfra8p0\\LocalCache\\local-packages\\Python311\\site-packages\\sklearn\\preprocessing\\_encoders.py:975: FutureWarning:\n",
      "\n",
      "`sparse` was renamed to `sparse_output` in version 1.2 and will be removed in 1.4. `sparse_output` is ignored unless you leave `sparse` to its default value.\n",
      "\n"
     ]
    },
    {
     "name": "stdout",
     "output_type": "stream",
     "text": [
      "None\n"
     ]
    },
    {
     "name": "stderr",
     "output_type": "stream",
     "text": [
      "C:\\Users\\Ghost Codm\\AppData\\Local\\Packages\\PythonSoftwareFoundation.Python.3.11_qbz5n2kfra8p0\\LocalCache\\local-packages\\Python311\\site-packages\\sklearn\\preprocessing\\_encoders.py:975: FutureWarning:\n",
      "\n",
      "`sparse` was renamed to `sparse_output` in version 1.2 and will be removed in 1.4. `sparse_output` is ignored unless you leave `sparse` to its default value.\n",
      "\n"
     ]
    },
    {
     "name": "stdout",
     "output_type": "stream",
     "text": [
      "None\n"
     ]
    },
    {
     "name": "stderr",
     "output_type": "stream",
     "text": [
      "C:\\Users\\Ghost Codm\\AppData\\Local\\Packages\\PythonSoftwareFoundation.Python.3.11_qbz5n2kfra8p0\\LocalCache\\local-packages\\Python311\\site-packages\\sklearn\\preprocessing\\_encoders.py:975: FutureWarning:\n",
      "\n",
      "`sparse` was renamed to `sparse_output` in version 1.2 and will be removed in 1.4. `sparse_output` is ignored unless you leave `sparse` to its default value.\n",
      "\n"
     ]
    },
    {
     "name": "stdout",
     "output_type": "stream",
     "text": [
      "None\n"
     ]
    },
    {
     "name": "stderr",
     "output_type": "stream",
     "text": [
      "C:\\Users\\Ghost Codm\\AppData\\Local\\Packages\\PythonSoftwareFoundation.Python.3.11_qbz5n2kfra8p0\\LocalCache\\local-packages\\Python311\\site-packages\\sklearn\\preprocessing\\_encoders.py:975: FutureWarning:\n",
      "\n",
      "`sparse` was renamed to `sparse_output` in version 1.2 and will be removed in 1.4. `sparse_output` is ignored unless you leave `sparse` to its default value.\n",
      "\n"
     ]
    },
    {
     "name": "stdout",
     "output_type": "stream",
     "text": [
      "None\n"
     ]
    },
    {
     "name": "stderr",
     "output_type": "stream",
     "text": [
      "C:\\Users\\Ghost Codm\\AppData\\Local\\Packages\\PythonSoftwareFoundation.Python.3.11_qbz5n2kfra8p0\\LocalCache\\local-packages\\Python311\\site-packages\\sklearn\\preprocessing\\_encoders.py:975: FutureWarning:\n",
      "\n",
      "`sparse` was renamed to `sparse_output` in version 1.2 and will be removed in 1.4. `sparse_output` is ignored unless you leave `sparse` to its default value.\n",
      "\n"
     ]
    },
    {
     "name": "stdout",
     "output_type": "stream",
     "text": [
      "None\n"
     ]
    },
    {
     "name": "stderr",
     "output_type": "stream",
     "text": [
      "C:\\Users\\Ghost Codm\\AppData\\Local\\Packages\\PythonSoftwareFoundation.Python.3.11_qbz5n2kfra8p0\\LocalCache\\local-packages\\Python311\\site-packages\\sklearn\\preprocessing\\_encoders.py:975: FutureWarning:\n",
      "\n",
      "`sparse` was renamed to `sparse_output` in version 1.2 and will be removed in 1.4. `sparse_output` is ignored unless you leave `sparse` to its default value.\n",
      "\n"
     ]
    },
    {
     "name": "stdout",
     "output_type": "stream",
     "text": [
      "None\n"
     ]
    },
    {
     "name": "stderr",
     "output_type": "stream",
     "text": [
      "C:\\Users\\Ghost Codm\\AppData\\Local\\Packages\\PythonSoftwareFoundation.Python.3.11_qbz5n2kfra8p0\\LocalCache\\local-packages\\Python311\\site-packages\\sklearn\\preprocessing\\_encoders.py:975: FutureWarning:\n",
      "\n",
      "`sparse` was renamed to `sparse_output` in version 1.2 and will be removed in 1.4. `sparse_output` is ignored unless you leave `sparse` to its default value.\n",
      "\n"
     ]
    },
    {
     "name": "stdout",
     "output_type": "stream",
     "text": [
      "None\n"
     ]
    },
    {
     "name": "stderr",
     "output_type": "stream",
     "text": [
      "C:\\Users\\Ghost Codm\\AppData\\Local\\Packages\\PythonSoftwareFoundation.Python.3.11_qbz5n2kfra8p0\\LocalCache\\local-packages\\Python311\\site-packages\\sklearn\\preprocessing\\_encoders.py:975: FutureWarning:\n",
      "\n",
      "`sparse` was renamed to `sparse_output` in version 1.2 and will be removed in 1.4. `sparse_output` is ignored unless you leave `sparse` to its default value.\n",
      "\n"
     ]
    },
    {
     "name": "stdout",
     "output_type": "stream",
     "text": [
      "None\n"
     ]
    },
    {
     "name": "stderr",
     "output_type": "stream",
     "text": [
      "C:\\Users\\Ghost Codm\\AppData\\Local\\Packages\\PythonSoftwareFoundation.Python.3.11_qbz5n2kfra8p0\\LocalCache\\local-packages\\Python311\\site-packages\\sklearn\\preprocessing\\_encoders.py:975: FutureWarning:\n",
      "\n",
      "`sparse` was renamed to `sparse_output` in version 1.2 and will be removed in 1.4. `sparse_output` is ignored unless you leave `sparse` to its default value.\n",
      "\n"
     ]
    },
    {
     "name": "stdout",
     "output_type": "stream",
     "text": [
      "None\n"
     ]
    },
    {
     "name": "stderr",
     "output_type": "stream",
     "text": [
      "C:\\Users\\Ghost Codm\\AppData\\Local\\Packages\\PythonSoftwareFoundation.Python.3.11_qbz5n2kfra8p0\\LocalCache\\local-packages\\Python311\\site-packages\\sklearn\\preprocessing\\_encoders.py:975: FutureWarning:\n",
      "\n",
      "`sparse` was renamed to `sparse_output` in version 1.2 and will be removed in 1.4. `sparse_output` is ignored unless you leave `sparse` to its default value.\n",
      "\n"
     ]
    },
    {
     "name": "stdout",
     "output_type": "stream",
     "text": [
      "None\n"
     ]
    },
    {
     "name": "stderr",
     "output_type": "stream",
     "text": [
      "C:\\Users\\Ghost Codm\\AppData\\Local\\Packages\\PythonSoftwareFoundation.Python.3.11_qbz5n2kfra8p0\\LocalCache\\local-packages\\Python311\\site-packages\\sklearn\\preprocessing\\_encoders.py:975: FutureWarning:\n",
      "\n",
      "`sparse` was renamed to `sparse_output` in version 1.2 and will be removed in 1.4. `sparse_output` is ignored unless you leave `sparse` to its default value.\n",
      "\n"
     ]
    },
    {
     "name": "stdout",
     "output_type": "stream",
     "text": [
      "None\n"
     ]
    },
    {
     "name": "stderr",
     "output_type": "stream",
     "text": [
      "C:\\Users\\Ghost Codm\\AppData\\Local\\Packages\\PythonSoftwareFoundation.Python.3.11_qbz5n2kfra8p0\\LocalCache\\local-packages\\Python311\\site-packages\\sklearn\\preprocessing\\_encoders.py:975: FutureWarning:\n",
      "\n",
      "`sparse` was renamed to `sparse_output` in version 1.2 and will be removed in 1.4. `sparse_output` is ignored unless you leave `sparse` to its default value.\n",
      "\n"
     ]
    },
    {
     "name": "stdout",
     "output_type": "stream",
     "text": [
      "None\n"
     ]
    },
    {
     "name": "stderr",
     "output_type": "stream",
     "text": [
      "C:\\Users\\Ghost Codm\\AppData\\Local\\Packages\\PythonSoftwareFoundation.Python.3.11_qbz5n2kfra8p0\\LocalCache\\local-packages\\Python311\\site-packages\\sklearn\\preprocessing\\_encoders.py:975: FutureWarning:\n",
      "\n",
      "`sparse` was renamed to `sparse_output` in version 1.2 and will be removed in 1.4. `sparse_output` is ignored unless you leave `sparse` to its default value.\n",
      "\n"
     ]
    },
    {
     "name": "stdout",
     "output_type": "stream",
     "text": [
      "None\n"
     ]
    },
    {
     "name": "stderr",
     "output_type": "stream",
     "text": [
      "C:\\Users\\Ghost Codm\\AppData\\Local\\Packages\\PythonSoftwareFoundation.Python.3.11_qbz5n2kfra8p0\\LocalCache\\local-packages\\Python311\\site-packages\\sklearn\\preprocessing\\_encoders.py:975: FutureWarning:\n",
      "\n",
      "`sparse` was renamed to `sparse_output` in version 1.2 and will be removed in 1.4. `sparse_output` is ignored unless you leave `sparse` to its default value.\n",
      "\n"
     ]
    },
    {
     "name": "stdout",
     "output_type": "stream",
     "text": [
      "None\n"
     ]
    },
    {
     "name": "stderr",
     "output_type": "stream",
     "text": [
      "C:\\Users\\Ghost Codm\\AppData\\Local\\Packages\\PythonSoftwareFoundation.Python.3.11_qbz5n2kfra8p0\\LocalCache\\local-packages\\Python311\\site-packages\\sklearn\\preprocessing\\_encoders.py:975: FutureWarning:\n",
      "\n",
      "`sparse` was renamed to `sparse_output` in version 1.2 and will be removed in 1.4. `sparse_output` is ignored unless you leave `sparse` to its default value.\n",
      "\n"
     ]
    },
    {
     "name": "stdout",
     "output_type": "stream",
     "text": [
      "None\n"
     ]
    },
    {
     "name": "stderr",
     "output_type": "stream",
     "text": [
      "C:\\Users\\Ghost Codm\\AppData\\Local\\Packages\\PythonSoftwareFoundation.Python.3.11_qbz5n2kfra8p0\\LocalCache\\local-packages\\Python311\\site-packages\\sklearn\\preprocessing\\_encoders.py:975: FutureWarning:\n",
      "\n",
      "`sparse` was renamed to `sparse_output` in version 1.2 and will be removed in 1.4. `sparse_output` is ignored unless you leave `sparse` to its default value.\n",
      "\n"
     ]
    },
    {
     "name": "stdout",
     "output_type": "stream",
     "text": [
      "None\n"
     ]
    },
    {
     "name": "stderr",
     "output_type": "stream",
     "text": [
      "C:\\Users\\Ghost Codm\\AppData\\Local\\Packages\\PythonSoftwareFoundation.Python.3.11_qbz5n2kfra8p0\\LocalCache\\local-packages\\Python311\\site-packages\\sklearn\\preprocessing\\_encoders.py:975: FutureWarning:\n",
      "\n",
      "`sparse` was renamed to `sparse_output` in version 1.2 and will be removed in 1.4. `sparse_output` is ignored unless you leave `sparse` to its default value.\n",
      "\n"
     ]
    },
    {
     "name": "stdout",
     "output_type": "stream",
     "text": [
      "None\n"
     ]
    },
    {
     "name": "stderr",
     "output_type": "stream",
     "text": [
      "C:\\Users\\Ghost Codm\\AppData\\Local\\Packages\\PythonSoftwareFoundation.Python.3.11_qbz5n2kfra8p0\\LocalCache\\local-packages\\Python311\\site-packages\\sklearn\\preprocessing\\_encoders.py:975: FutureWarning:\n",
      "\n",
      "`sparse` was renamed to `sparse_output` in version 1.2 and will be removed in 1.4. `sparse_output` is ignored unless you leave `sparse` to its default value.\n",
      "\n"
     ]
    },
    {
     "name": "stdout",
     "output_type": "stream",
     "text": [
      "None\n"
     ]
    },
    {
     "name": "stderr",
     "output_type": "stream",
     "text": [
      "C:\\Users\\Ghost Codm\\AppData\\Local\\Packages\\PythonSoftwareFoundation.Python.3.11_qbz5n2kfra8p0\\LocalCache\\local-packages\\Python311\\site-packages\\sklearn\\preprocessing\\_encoders.py:975: FutureWarning:\n",
      "\n",
      "`sparse` was renamed to `sparse_output` in version 1.2 and will be removed in 1.4. `sparse_output` is ignored unless you leave `sparse` to its default value.\n",
      "\n"
     ]
    },
    {
     "name": "stdout",
     "output_type": "stream",
     "text": [
      "None\n"
     ]
    },
    {
     "name": "stderr",
     "output_type": "stream",
     "text": [
      "C:\\Users\\Ghost Codm\\AppData\\Local\\Packages\\PythonSoftwareFoundation.Python.3.11_qbz5n2kfra8p0\\LocalCache\\local-packages\\Python311\\site-packages\\sklearn\\preprocessing\\_encoders.py:975: FutureWarning:\n",
      "\n",
      "`sparse` was renamed to `sparse_output` in version 1.2 and will be removed in 1.4. `sparse_output` is ignored unless you leave `sparse` to its default value.\n",
      "\n"
     ]
    },
    {
     "name": "stdout",
     "output_type": "stream",
     "text": [
      "None\n"
     ]
    },
    {
     "name": "stderr",
     "output_type": "stream",
     "text": [
      "C:\\Users\\Ghost Codm\\AppData\\Local\\Packages\\PythonSoftwareFoundation.Python.3.11_qbz5n2kfra8p0\\LocalCache\\local-packages\\Python311\\site-packages\\sklearn\\preprocessing\\_encoders.py:975: FutureWarning:\n",
      "\n",
      "`sparse` was renamed to `sparse_output` in version 1.2 and will be removed in 1.4. `sparse_output` is ignored unless you leave `sparse` to its default value.\n",
      "\n"
     ]
    },
    {
     "name": "stdout",
     "output_type": "stream",
     "text": [
      "None\n"
     ]
    },
    {
     "name": "stderr",
     "output_type": "stream",
     "text": [
      "C:\\Users\\Ghost Codm\\AppData\\Local\\Packages\\PythonSoftwareFoundation.Python.3.11_qbz5n2kfra8p0\\LocalCache\\local-packages\\Python311\\site-packages\\sklearn\\preprocessing\\_encoders.py:975: FutureWarning:\n",
      "\n",
      "`sparse` was renamed to `sparse_output` in version 1.2 and will be removed in 1.4. `sparse_output` is ignored unless you leave `sparse` to its default value.\n",
      "\n"
     ]
    },
    {
     "name": "stdout",
     "output_type": "stream",
     "text": [
      "None\n"
     ]
    },
    {
     "name": "stderr",
     "output_type": "stream",
     "text": [
      "C:\\Users\\Ghost Codm\\AppData\\Local\\Packages\\PythonSoftwareFoundation.Python.3.11_qbz5n2kfra8p0\\LocalCache\\local-packages\\Python311\\site-packages\\sklearn\\preprocessing\\_encoders.py:975: FutureWarning:\n",
      "\n",
      "`sparse` was renamed to `sparse_output` in version 1.2 and will be removed in 1.4. `sparse_output` is ignored unless you leave `sparse` to its default value.\n",
      "\n"
     ]
    },
    {
     "name": "stdout",
     "output_type": "stream",
     "text": [
      "None\n"
     ]
    },
    {
     "name": "stderr",
     "output_type": "stream",
     "text": [
      "C:\\Users\\Ghost Codm\\AppData\\Local\\Packages\\PythonSoftwareFoundation.Python.3.11_qbz5n2kfra8p0\\LocalCache\\local-packages\\Python311\\site-packages\\sklearn\\preprocessing\\_encoders.py:975: FutureWarning:\n",
      "\n",
      "`sparse` was renamed to `sparse_output` in version 1.2 and will be removed in 1.4. `sparse_output` is ignored unless you leave `sparse` to its default value.\n",
      "\n"
     ]
    },
    {
     "name": "stdout",
     "output_type": "stream",
     "text": [
      "None\n"
     ]
    },
    {
     "name": "stderr",
     "output_type": "stream",
     "text": [
      "C:\\Users\\Ghost Codm\\AppData\\Local\\Packages\\PythonSoftwareFoundation.Python.3.11_qbz5n2kfra8p0\\LocalCache\\local-packages\\Python311\\site-packages\\sklearn\\preprocessing\\_encoders.py:975: FutureWarning:\n",
      "\n",
      "`sparse` was renamed to `sparse_output` in version 1.2 and will be removed in 1.4. `sparse_output` is ignored unless you leave `sparse` to its default value.\n",
      "\n"
     ]
    },
    {
     "name": "stdout",
     "output_type": "stream",
     "text": [
      "None\n"
     ]
    },
    {
     "name": "stderr",
     "output_type": "stream",
     "text": [
      "C:\\Users\\Ghost Codm\\AppData\\Local\\Packages\\PythonSoftwareFoundation.Python.3.11_qbz5n2kfra8p0\\LocalCache\\local-packages\\Python311\\site-packages\\sklearn\\preprocessing\\_encoders.py:975: FutureWarning:\n",
      "\n",
      "`sparse` was renamed to `sparse_output` in version 1.2 and will be removed in 1.4. `sparse_output` is ignored unless you leave `sparse` to its default value.\n",
      "\n"
     ]
    },
    {
     "name": "stdout",
     "output_type": "stream",
     "text": [
      "None\n"
     ]
    },
    {
     "name": "stderr",
     "output_type": "stream",
     "text": [
      "C:\\Users\\Ghost Codm\\AppData\\Local\\Packages\\PythonSoftwareFoundation.Python.3.11_qbz5n2kfra8p0\\LocalCache\\local-packages\\Python311\\site-packages\\sklearn\\preprocessing\\_encoders.py:975: FutureWarning:\n",
      "\n",
      "`sparse` was renamed to `sparse_output` in version 1.2 and will be removed in 1.4. `sparse_output` is ignored unless you leave `sparse` to its default value.\n",
      "\n"
     ]
    },
    {
     "name": "stdout",
     "output_type": "stream",
     "text": [
      "None\n"
     ]
    },
    {
     "name": "stderr",
     "output_type": "stream",
     "text": [
      "C:\\Users\\Ghost Codm\\AppData\\Local\\Packages\\PythonSoftwareFoundation.Python.3.11_qbz5n2kfra8p0\\LocalCache\\local-packages\\Python311\\site-packages\\sklearn\\preprocessing\\_encoders.py:975: FutureWarning:\n",
      "\n",
      "`sparse` was renamed to `sparse_output` in version 1.2 and will be removed in 1.4. `sparse_output` is ignored unless you leave `sparse` to its default value.\n",
      "\n"
     ]
    },
    {
     "name": "stdout",
     "output_type": "stream",
     "text": [
      "None\n"
     ]
    },
    {
     "name": "stderr",
     "output_type": "stream",
     "text": [
      "C:\\Users\\Ghost Codm\\AppData\\Local\\Packages\\PythonSoftwareFoundation.Python.3.11_qbz5n2kfra8p0\\LocalCache\\local-packages\\Python311\\site-packages\\sklearn\\preprocessing\\_encoders.py:975: FutureWarning:\n",
      "\n",
      "`sparse` was renamed to `sparse_output` in version 1.2 and will be removed in 1.4. `sparse_output` is ignored unless you leave `sparse` to its default value.\n",
      "\n"
     ]
    },
    {
     "name": "stdout",
     "output_type": "stream",
     "text": [
      "None\n"
     ]
    },
    {
     "name": "stderr",
     "output_type": "stream",
     "text": [
      "C:\\Users\\Ghost Codm\\AppData\\Local\\Packages\\PythonSoftwareFoundation.Python.3.11_qbz5n2kfra8p0\\LocalCache\\local-packages\\Python311\\site-packages\\sklearn\\preprocessing\\_encoders.py:975: FutureWarning:\n",
      "\n",
      "`sparse` was renamed to `sparse_output` in version 1.2 and will be removed in 1.4. `sparse_output` is ignored unless you leave `sparse` to its default value.\n",
      "\n"
     ]
    },
    {
     "name": "stdout",
     "output_type": "stream",
     "text": [
      "None\n"
     ]
    },
    {
     "name": "stderr",
     "output_type": "stream",
     "text": [
      "C:\\Users\\Ghost Codm\\AppData\\Local\\Packages\\PythonSoftwareFoundation.Python.3.11_qbz5n2kfra8p0\\LocalCache\\local-packages\\Python311\\site-packages\\sklearn\\preprocessing\\_encoders.py:975: FutureWarning:\n",
      "\n",
      "`sparse` was renamed to `sparse_output` in version 1.2 and will be removed in 1.4. `sparse_output` is ignored unless you leave `sparse` to its default value.\n",
      "\n"
     ]
    },
    {
     "name": "stdout",
     "output_type": "stream",
     "text": [
      "None\n"
     ]
    },
    {
     "name": "stderr",
     "output_type": "stream",
     "text": [
      "C:\\Users\\Ghost Codm\\AppData\\Local\\Packages\\PythonSoftwareFoundation.Python.3.11_qbz5n2kfra8p0\\LocalCache\\local-packages\\Python311\\site-packages\\sklearn\\preprocessing\\_encoders.py:975: FutureWarning:\n",
      "\n",
      "`sparse` was renamed to `sparse_output` in version 1.2 and will be removed in 1.4. `sparse_output` is ignored unless you leave `sparse` to its default value.\n",
      "\n"
     ]
    },
    {
     "name": "stdout",
     "output_type": "stream",
     "text": [
      "None\n"
     ]
    },
    {
     "name": "stderr",
     "output_type": "stream",
     "text": [
      "C:\\Users\\Ghost Codm\\AppData\\Local\\Packages\\PythonSoftwareFoundation.Python.3.11_qbz5n2kfra8p0\\LocalCache\\local-packages\\Python311\\site-packages\\sklearn\\preprocessing\\_encoders.py:975: FutureWarning:\n",
      "\n",
      "`sparse` was renamed to `sparse_output` in version 1.2 and will be removed in 1.4. `sparse_output` is ignored unless you leave `sparse` to its default value.\n",
      "\n"
     ]
    },
    {
     "name": "stdout",
     "output_type": "stream",
     "text": [
      "None\n"
     ]
    },
    {
     "name": "stderr",
     "output_type": "stream",
     "text": [
      "C:\\Users\\Ghost Codm\\AppData\\Local\\Packages\\PythonSoftwareFoundation.Python.3.11_qbz5n2kfra8p0\\LocalCache\\local-packages\\Python311\\site-packages\\sklearn\\preprocessing\\_encoders.py:975: FutureWarning:\n",
      "\n",
      "`sparse` was renamed to `sparse_output` in version 1.2 and will be removed in 1.4. `sparse_output` is ignored unless you leave `sparse` to its default value.\n",
      "\n"
     ]
    },
    {
     "name": "stdout",
     "output_type": "stream",
     "text": [
      "None\n"
     ]
    },
    {
     "name": "stderr",
     "output_type": "stream",
     "text": [
      "C:\\Users\\Ghost Codm\\AppData\\Local\\Packages\\PythonSoftwareFoundation.Python.3.11_qbz5n2kfra8p0\\LocalCache\\local-packages\\Python311\\site-packages\\sklearn\\preprocessing\\_encoders.py:975: FutureWarning:\n",
      "\n",
      "`sparse` was renamed to `sparse_output` in version 1.2 and will be removed in 1.4. `sparse_output` is ignored unless you leave `sparse` to its default value.\n",
      "\n"
     ]
    },
    {
     "name": "stdout",
     "output_type": "stream",
     "text": [
      "None\n"
     ]
    },
    {
     "name": "stderr",
     "output_type": "stream",
     "text": [
      "C:\\Users\\Ghost Codm\\AppData\\Local\\Packages\\PythonSoftwareFoundation.Python.3.11_qbz5n2kfra8p0\\LocalCache\\local-packages\\Python311\\site-packages\\sklearn\\preprocessing\\_encoders.py:975: FutureWarning:\n",
      "\n",
      "`sparse` was renamed to `sparse_output` in version 1.2 and will be removed in 1.4. `sparse_output` is ignored unless you leave `sparse` to its default value.\n",
      "\n"
     ]
    },
    {
     "name": "stdout",
     "output_type": "stream",
     "text": [
      "None\n"
     ]
    },
    {
     "name": "stderr",
     "output_type": "stream",
     "text": [
      "C:\\Users\\Ghost Codm\\AppData\\Local\\Packages\\PythonSoftwareFoundation.Python.3.11_qbz5n2kfra8p0\\LocalCache\\local-packages\\Python311\\site-packages\\sklearn\\preprocessing\\_encoders.py:975: FutureWarning:\n",
      "\n",
      "`sparse` was renamed to `sparse_output` in version 1.2 and will be removed in 1.4. `sparse_output` is ignored unless you leave `sparse` to its default value.\n",
      "\n"
     ]
    },
    {
     "name": "stdout",
     "output_type": "stream",
     "text": [
      "None\n"
     ]
    },
    {
     "name": "stderr",
     "output_type": "stream",
     "text": [
      "C:\\Users\\Ghost Codm\\AppData\\Local\\Packages\\PythonSoftwareFoundation.Python.3.11_qbz5n2kfra8p0\\LocalCache\\local-packages\\Python311\\site-packages\\sklearn\\preprocessing\\_encoders.py:975: FutureWarning:\n",
      "\n",
      "`sparse` was renamed to `sparse_output` in version 1.2 and will be removed in 1.4. `sparse_output` is ignored unless you leave `sparse` to its default value.\n",
      "\n"
     ]
    },
    {
     "name": "stdout",
     "output_type": "stream",
     "text": [
      "None\n"
     ]
    },
    {
     "name": "stderr",
     "output_type": "stream",
     "text": [
      "C:\\Users\\Ghost Codm\\AppData\\Local\\Packages\\PythonSoftwareFoundation.Python.3.11_qbz5n2kfra8p0\\LocalCache\\local-packages\\Python311\\site-packages\\sklearn\\preprocessing\\_encoders.py:975: FutureWarning:\n",
      "\n",
      "`sparse` was renamed to `sparse_output` in version 1.2 and will be removed in 1.4. `sparse_output` is ignored unless you leave `sparse` to its default value.\n",
      "\n"
     ]
    },
    {
     "name": "stdout",
     "output_type": "stream",
     "text": [
      "None\n"
     ]
    },
    {
     "name": "stderr",
     "output_type": "stream",
     "text": [
      "C:\\Users\\Ghost Codm\\AppData\\Local\\Packages\\PythonSoftwareFoundation.Python.3.11_qbz5n2kfra8p0\\LocalCache\\local-packages\\Python311\\site-packages\\sklearn\\preprocessing\\_encoders.py:975: FutureWarning:\n",
      "\n",
      "`sparse` was renamed to `sparse_output` in version 1.2 and will be removed in 1.4. `sparse_output` is ignored unless you leave `sparse` to its default value.\n",
      "\n"
     ]
    },
    {
     "name": "stdout",
     "output_type": "stream",
     "text": [
      "None\n"
     ]
    },
    {
     "name": "stderr",
     "output_type": "stream",
     "text": [
      "C:\\Users\\Ghost Codm\\AppData\\Local\\Packages\\PythonSoftwareFoundation.Python.3.11_qbz5n2kfra8p0\\LocalCache\\local-packages\\Python311\\site-packages\\sklearn\\preprocessing\\_encoders.py:975: FutureWarning:\n",
      "\n",
      "`sparse` was renamed to `sparse_output` in version 1.2 and will be removed in 1.4. `sparse_output` is ignored unless you leave `sparse` to its default value.\n",
      "\n"
     ]
    },
    {
     "name": "stdout",
     "output_type": "stream",
     "text": [
      "None\n"
     ]
    },
    {
     "name": "stderr",
     "output_type": "stream",
     "text": [
      "C:\\Users\\Ghost Codm\\AppData\\Local\\Packages\\PythonSoftwareFoundation.Python.3.11_qbz5n2kfra8p0\\LocalCache\\local-packages\\Python311\\site-packages\\sklearn\\preprocessing\\_encoders.py:975: FutureWarning:\n",
      "\n",
      "`sparse` was renamed to `sparse_output` in version 1.2 and will be removed in 1.4. `sparse_output` is ignored unless you leave `sparse` to its default value.\n",
      "\n"
     ]
    },
    {
     "name": "stdout",
     "output_type": "stream",
     "text": [
      "None\n"
     ]
    },
    {
     "name": "stderr",
     "output_type": "stream",
     "text": [
      "C:\\Users\\Ghost Codm\\AppData\\Local\\Packages\\PythonSoftwareFoundation.Python.3.11_qbz5n2kfra8p0\\LocalCache\\local-packages\\Python311\\site-packages\\sklearn\\preprocessing\\_encoders.py:975: FutureWarning:\n",
      "\n",
      "`sparse` was renamed to `sparse_output` in version 1.2 and will be removed in 1.4. `sparse_output` is ignored unless you leave `sparse` to its default value.\n",
      "\n"
     ]
    },
    {
     "name": "stdout",
     "output_type": "stream",
     "text": [
      "None\n"
     ]
    },
    {
     "name": "stderr",
     "output_type": "stream",
     "text": [
      "C:\\Users\\Ghost Codm\\AppData\\Local\\Packages\\PythonSoftwareFoundation.Python.3.11_qbz5n2kfra8p0\\LocalCache\\local-packages\\Python311\\site-packages\\sklearn\\preprocessing\\_encoders.py:975: FutureWarning:\n",
      "\n",
      "`sparse` was renamed to `sparse_output` in version 1.2 and will be removed in 1.4. `sparse_output` is ignored unless you leave `sparse` to its default value.\n",
      "\n"
     ]
    },
    {
     "name": "stdout",
     "output_type": "stream",
     "text": [
      "None\n"
     ]
    },
    {
     "name": "stderr",
     "output_type": "stream",
     "text": [
      "C:\\Users\\Ghost Codm\\AppData\\Local\\Packages\\PythonSoftwareFoundation.Python.3.11_qbz5n2kfra8p0\\LocalCache\\local-packages\\Python311\\site-packages\\sklearn\\preprocessing\\_encoders.py:975: FutureWarning:\n",
      "\n",
      "`sparse` was renamed to `sparse_output` in version 1.2 and will be removed in 1.4. `sparse_output` is ignored unless you leave `sparse` to its default value.\n",
      "\n"
     ]
    },
    {
     "name": "stdout",
     "output_type": "stream",
     "text": [
      "None\n"
     ]
    },
    {
     "name": "stderr",
     "output_type": "stream",
     "text": [
      "C:\\Users\\Ghost Codm\\AppData\\Local\\Packages\\PythonSoftwareFoundation.Python.3.11_qbz5n2kfra8p0\\LocalCache\\local-packages\\Python311\\site-packages\\sklearn\\preprocessing\\_encoders.py:975: FutureWarning:\n",
      "\n",
      "`sparse` was renamed to `sparse_output` in version 1.2 and will be removed in 1.4. `sparse_output` is ignored unless you leave `sparse` to its default value.\n",
      "\n"
     ]
    },
    {
     "name": "stdout",
     "output_type": "stream",
     "text": [
      "None\n"
     ]
    }
   ],
   "source": [
    "scores = []\n",
    "for i in range(100):\n",
    "    Xtrain,Xtest,Ytrain,Ytest = train_test_split(x,y,test_size=.2,random_state=i)\n",
    "    pipe2.fit(Xtrain,Ytrain)\n",
    "    y_pred1 = pipe2.predict(Xtest)\n",
    "    print(scores.append(accuracy_score(Ytest,y_pred1)))"
   ]
  },
  {
   "cell_type": "code",
   "execution_count": 146,
   "id": "4b3f91e4",
   "metadata": {},
   "outputs": [
    {
     "data": {
      "text/plain": [
       "12"
      ]
     },
     "execution_count": 146,
     "metadata": {},
     "output_type": "execute_result"
    }
   ],
   "source": [
    "np.argmax(scores)"
   ]
  },
  {
   "cell_type": "code",
   "execution_count": 195,
   "id": "0a006447",
   "metadata": {},
   "outputs": [],
   "source": [
    "predictions = pipe.predict_proba(xtest)"
   ]
  },
  {
   "cell_type": "code",
   "execution_count": 202,
   "id": "1ba74276",
   "metadata": {},
   "outputs": [],
   "source": [
    "predictions1 = pipe1.predict_log_proba(xtest)"
   ]
  },
  {
   "cell_type": "code",
   "execution_count": 203,
   "id": "07f87973",
   "metadata": {},
   "outputs": [
    {
     "data": {
      "text/plain": [
       "array([[0.89781861, 0.03663763, 0.06554376],\n",
       "       [0.55341365, 0.05582499, 0.39076135],\n",
       "       [0.90603077, 0.01131743, 0.0826518 ],\n",
       "       ...,\n",
       "       [0.0054261 , 0.00237053, 0.99220337],\n",
       "       [0.89768877, 0.02061937, 0.08169187],\n",
       "       [0.80944097, 0.02563961, 0.16491941]])"
      ]
     },
     "execution_count": 203,
     "metadata": {},
     "output_type": "execute_result"
    }
   ],
   "source": [
    "predictions"
   ]
  },
  {
   "cell_type": "code",
   "execution_count": 204,
   "id": "d4675cfd",
   "metadata": {},
   "outputs": [
    {
     "data": {
      "text/plain": [
       "array([[-0.08749646, -5.71264075, -2.51982178],\n",
       "       [-0.08985119, -5.47651532, -2.50410267],\n",
       "       [-0.03219264, -6.89324276, -3.48462188],\n",
       "       ...,\n",
       "       [-3.85046664, -5.44938795, -0.02590131],\n",
       "       [-0.0164332 , -8.503414  , -4.12917623],\n",
       "       [-0.08042747, -3.0255623 , -3.54919924]])"
      ]
     },
     "execution_count": 204,
     "metadata": {},
     "output_type": "execute_result"
    }
   ],
   "source": [
    "predictions1"
   ]
  },
  {
   "cell_type": "code",
   "execution_count": 199,
   "id": "84815eb2",
   "metadata": {},
   "outputs": [],
   "source": [
    "predictions2 = pipe2.predict_proba(xtest)"
   ]
  },
  {
   "cell_type": "code",
   "execution_count": 200,
   "id": "3979044e",
   "metadata": {},
   "outputs": [
    {
     "data": {
      "text/plain": [
       "array([[0.69, 0.05, 0.26],\n",
       "       [0.85, 0.02, 0.13],\n",
       "       [0.94, 0.02, 0.04],\n",
       "       ...,\n",
       "       [0.11, 0.06, 0.83],\n",
       "       [1.  , 0.  , 0.  ],\n",
       "       [0.89, 0.02, 0.09]])"
      ]
     },
     "execution_count": 200,
     "metadata": {},
     "output_type": "execute_result"
    }
   ],
   "source": [
    "predictions2"
   ]
  },
  {
   "cell_type": "code",
   "execution_count": 224,
   "id": "5b74fb8a",
   "metadata": {},
   "outputs": [
    {
     "ename": "ValueError",
     "evalue": "Per-column arrays must each be 1-dimensional",
     "output_type": "error",
     "traceback": [
      "\u001b[1;31m---------------------------------------------------------------------------\u001b[0m",
      "\u001b[1;31mValueError\u001b[0m                                Traceback (most recent call last)",
      "Cell \u001b[1;32mIn[224], line 1\u001b[0m\n\u001b[1;32m----> 1\u001b[0m submission \u001b[38;5;241m=\u001b[39m \u001b[43mpd\u001b[49m\u001b[38;5;241;43m.\u001b[39;49m\u001b[43mDataFrame\u001b[49m\u001b[43m(\u001b[49m\u001b[43m{\u001b[49m\n\u001b[0;32m      2\u001b[0m \u001b[43m    \u001b[49m\u001b[38;5;124;43m'\u001b[39;49m\u001b[38;5;124;43mC\u001b[39;49m\u001b[38;5;124;43m'\u001b[39;49m\u001b[43m \u001b[49m\u001b[43m:\u001b[49m\u001b[43m \u001b[49m\u001b[43mpredictions\u001b[49m\n\u001b[0;32m      3\u001b[0m \u001b[43m}\u001b[49m\u001b[43m)\u001b[49m\n",
      "File \u001b[1;32m~\\AppData\\Local\\Packages\\PythonSoftwareFoundation.Python.3.11_qbz5n2kfra8p0\\LocalCache\\local-packages\\Python311\\site-packages\\pandas\\core\\frame.py:733\u001b[0m, in \u001b[0;36mDataFrame.__init__\u001b[1;34m(self, data, index, columns, dtype, copy)\u001b[0m\n\u001b[0;32m    727\u001b[0m     mgr \u001b[38;5;241m=\u001b[39m \u001b[38;5;28mself\u001b[39m\u001b[38;5;241m.\u001b[39m_init_mgr(\n\u001b[0;32m    728\u001b[0m         data, axes\u001b[38;5;241m=\u001b[39m{\u001b[38;5;124m\"\u001b[39m\u001b[38;5;124mindex\u001b[39m\u001b[38;5;124m\"\u001b[39m: index, \u001b[38;5;124m\"\u001b[39m\u001b[38;5;124mcolumns\u001b[39m\u001b[38;5;124m\"\u001b[39m: columns}, dtype\u001b[38;5;241m=\u001b[39mdtype, copy\u001b[38;5;241m=\u001b[39mcopy\n\u001b[0;32m    729\u001b[0m     )\n\u001b[0;32m    731\u001b[0m \u001b[38;5;28;01melif\u001b[39;00m \u001b[38;5;28misinstance\u001b[39m(data, \u001b[38;5;28mdict\u001b[39m):\n\u001b[0;32m    732\u001b[0m     \u001b[38;5;66;03m# GH#38939 de facto copy defaults to False only in non-dict cases\u001b[39;00m\n\u001b[1;32m--> 733\u001b[0m     mgr \u001b[38;5;241m=\u001b[39m \u001b[43mdict_to_mgr\u001b[49m\u001b[43m(\u001b[49m\u001b[43mdata\u001b[49m\u001b[43m,\u001b[49m\u001b[43m \u001b[49m\u001b[43mindex\u001b[49m\u001b[43m,\u001b[49m\u001b[43m \u001b[49m\u001b[43mcolumns\u001b[49m\u001b[43m,\u001b[49m\u001b[43m \u001b[49m\u001b[43mdtype\u001b[49m\u001b[38;5;241;43m=\u001b[39;49m\u001b[43mdtype\u001b[49m\u001b[43m,\u001b[49m\u001b[43m \u001b[49m\u001b[43mcopy\u001b[49m\u001b[38;5;241;43m=\u001b[39;49m\u001b[43mcopy\u001b[49m\u001b[43m,\u001b[49m\u001b[43m \u001b[49m\u001b[43mtyp\u001b[49m\u001b[38;5;241;43m=\u001b[39;49m\u001b[43mmanager\u001b[49m\u001b[43m)\u001b[49m\n\u001b[0;32m    734\u001b[0m \u001b[38;5;28;01melif\u001b[39;00m \u001b[38;5;28misinstance\u001b[39m(data, ma\u001b[38;5;241m.\u001b[39mMaskedArray):\n\u001b[0;32m    735\u001b[0m     \u001b[38;5;28;01mfrom\u001b[39;00m \u001b[38;5;21;01mnumpy\u001b[39;00m\u001b[38;5;21;01m.\u001b[39;00m\u001b[38;5;21;01mma\u001b[39;00m \u001b[38;5;28;01mimport\u001b[39;00m mrecords\n",
      "File \u001b[1;32m~\\AppData\\Local\\Packages\\PythonSoftwareFoundation.Python.3.11_qbz5n2kfra8p0\\LocalCache\\local-packages\\Python311\\site-packages\\pandas\\core\\internals\\construction.py:503\u001b[0m, in \u001b[0;36mdict_to_mgr\u001b[1;34m(data, index, columns, dtype, typ, copy)\u001b[0m\n\u001b[0;32m    499\u001b[0m     \u001b[38;5;28;01melse\u001b[39;00m:\n\u001b[0;32m    500\u001b[0m         \u001b[38;5;66;03m# dtype check to exclude e.g. range objects, scalars\u001b[39;00m\n\u001b[0;32m    501\u001b[0m         arrays \u001b[38;5;241m=\u001b[39m [x\u001b[38;5;241m.\u001b[39mcopy() \u001b[38;5;28;01mif\u001b[39;00m \u001b[38;5;28mhasattr\u001b[39m(x, \u001b[38;5;124m\"\u001b[39m\u001b[38;5;124mdtype\u001b[39m\u001b[38;5;124m\"\u001b[39m) \u001b[38;5;28;01melse\u001b[39;00m x \u001b[38;5;28;01mfor\u001b[39;00m x \u001b[38;5;129;01min\u001b[39;00m arrays]\n\u001b[1;32m--> 503\u001b[0m \u001b[38;5;28;01mreturn\u001b[39;00m \u001b[43marrays_to_mgr\u001b[49m\u001b[43m(\u001b[49m\u001b[43marrays\u001b[49m\u001b[43m,\u001b[49m\u001b[43m \u001b[49m\u001b[43mcolumns\u001b[49m\u001b[43m,\u001b[49m\u001b[43m \u001b[49m\u001b[43mindex\u001b[49m\u001b[43m,\u001b[49m\u001b[43m \u001b[49m\u001b[43mdtype\u001b[49m\u001b[38;5;241;43m=\u001b[39;49m\u001b[43mdtype\u001b[49m\u001b[43m,\u001b[49m\u001b[43m \u001b[49m\u001b[43mtyp\u001b[49m\u001b[38;5;241;43m=\u001b[39;49m\u001b[43mtyp\u001b[49m\u001b[43m,\u001b[49m\u001b[43m \u001b[49m\u001b[43mconsolidate\u001b[49m\u001b[38;5;241;43m=\u001b[39;49m\u001b[43mcopy\u001b[49m\u001b[43m)\u001b[49m\n",
      "File \u001b[1;32m~\\AppData\\Local\\Packages\\PythonSoftwareFoundation.Python.3.11_qbz5n2kfra8p0\\LocalCache\\local-packages\\Python311\\site-packages\\pandas\\core\\internals\\construction.py:114\u001b[0m, in \u001b[0;36marrays_to_mgr\u001b[1;34m(arrays, columns, index, dtype, verify_integrity, typ, consolidate)\u001b[0m\n\u001b[0;32m    111\u001b[0m \u001b[38;5;28;01mif\u001b[39;00m verify_integrity:\n\u001b[0;32m    112\u001b[0m     \u001b[38;5;66;03m# figure out the index, if necessary\u001b[39;00m\n\u001b[0;32m    113\u001b[0m     \u001b[38;5;28;01mif\u001b[39;00m index \u001b[38;5;129;01mis\u001b[39;00m \u001b[38;5;28;01mNone\u001b[39;00m:\n\u001b[1;32m--> 114\u001b[0m         index \u001b[38;5;241m=\u001b[39m \u001b[43m_extract_index\u001b[49m\u001b[43m(\u001b[49m\u001b[43marrays\u001b[49m\u001b[43m)\u001b[49m\n\u001b[0;32m    115\u001b[0m     \u001b[38;5;28;01melse\u001b[39;00m:\n\u001b[0;32m    116\u001b[0m         index \u001b[38;5;241m=\u001b[39m ensure_index(index)\n",
      "File \u001b[1;32m~\\AppData\\Local\\Packages\\PythonSoftwareFoundation.Python.3.11_qbz5n2kfra8p0\\LocalCache\\local-packages\\Python311\\site-packages\\pandas\\core\\internals\\construction.py:664\u001b[0m, in \u001b[0;36m_extract_index\u001b[1;34m(data)\u001b[0m\n\u001b[0;32m    662\u001b[0m         raw_lengths\u001b[38;5;241m.\u001b[39mappend(\u001b[38;5;28mlen\u001b[39m(val))\n\u001b[0;32m    663\u001b[0m     \u001b[38;5;28;01melif\u001b[39;00m \u001b[38;5;28misinstance\u001b[39m(val, np\u001b[38;5;241m.\u001b[39mndarray) \u001b[38;5;129;01mand\u001b[39;00m val\u001b[38;5;241m.\u001b[39mndim \u001b[38;5;241m>\u001b[39m \u001b[38;5;241m1\u001b[39m:\n\u001b[1;32m--> 664\u001b[0m         \u001b[38;5;28;01mraise\u001b[39;00m \u001b[38;5;167;01mValueError\u001b[39;00m(\u001b[38;5;124m\"\u001b[39m\u001b[38;5;124mPer-column arrays must each be 1-dimensional\u001b[39m\u001b[38;5;124m\"\u001b[39m)\n\u001b[0;32m    666\u001b[0m \u001b[38;5;28;01mif\u001b[39;00m \u001b[38;5;129;01mnot\u001b[39;00m indexes \u001b[38;5;129;01mand\u001b[39;00m \u001b[38;5;129;01mnot\u001b[39;00m raw_lengths:\n\u001b[0;32m    667\u001b[0m     \u001b[38;5;28;01mraise\u001b[39;00m \u001b[38;5;167;01mValueError\u001b[39;00m(\u001b[38;5;124m\"\u001b[39m\u001b[38;5;124mIf using all scalar values, you must pass an index\u001b[39m\u001b[38;5;124m\"\u001b[39m)\n",
      "\u001b[1;31mValueError\u001b[0m: Per-column arrays must each be 1-dimensional"
     ]
    }
   ],
   "source": [
    "submission = pd.DataFrame({\n",
    "    'C' : predictions\n",
    "})"
   ]
  },
  {
   "cell_type": "code",
   "execution_count": 220,
   "id": "a984baee",
   "metadata": {},
   "outputs": [],
   "source": [
    "submission.to_csv('test_check.csv',index=False)"
   ]
  },
  {
   "cell_type": "code",
   "execution_count": 231,
   "id": "677b108e",
   "metadata": {},
   "outputs": [],
   "source": [
    "test_prediction = pipe.predict_proba(test_df)"
   ]
  },
  {
   "cell_type": "code",
   "execution_count": 232,
   "id": "3efaf4e9",
   "metadata": {},
   "outputs": [
    {
     "data": {
      "text/plain": [
       "array([[0.92343978, 0.00582859, 0.07073163],\n",
       "       [0.58153575, 0.03071653, 0.38774772],\n",
       "       [0.42720208, 0.15439924, 0.41839869],\n",
       "       ...,\n",
       "       [0.94296176, 0.00540703, 0.05163121],\n",
       "       [0.71651146, 0.06655509, 0.21693345],\n",
       "       [0.68578654, 0.03022333, 0.28399013]])"
      ]
     },
     "execution_count": 232,
     "metadata": {},
     "output_type": "execute_result"
    }
   ],
   "source": [
    "test_prediction"
   ]
  },
  {
   "cell_type": "code",
   "execution_count": 241,
   "id": "eb0e97e3",
   "metadata": {},
   "outputs": [],
   "source": [
    "import pandas as pd\n",
    "\n",
    "# Assuming you have a DataFrame with predictions and want to create a submission file\n",
    "predictions3 = pipe.predict_proba(test_df)\n",
    "\n",
    "# Generate a range of IDs based on the number of predictions\n",
    "test_ids = test['id'] \n",
    "\n",
    "# Convert predictions to DataFrame\n",
    "predictions_df = pd.DataFrame(predictions3, columns=['Status_C', 'Status_CL', 'Status_D'])\n",
    "\n",
    "# Concatenate test IDs and predictions\n",
    "submission_df = pd.concat([pd.Series(test_ids, name='id'), predictions_df], axis=1)\n",
    "\n",
    "# Save the DataFrame to a CSV file\n",
    "submission_df.to_csv('submission.csv', index=False)\n"
   ]
  },
  {
   "cell_type": "code",
   "execution_count": 235,
   "id": "2321b687",
   "metadata": {},
   "outputs": [],
   "source": [
    "submission1.to_csv('test1.csv',index=False)"
   ]
  },
  {
   "cell_type": "code",
   "execution_count": 236,
   "id": "fdd49376",
   "metadata": {},
   "outputs": [],
   "source": [
    "import pickle \n",
    "with open('Logistic_model.pkl','wb') as model_file:\n",
    "    pickle.dump(pipe, model_file)"
   ]
  },
  {
   "cell_type": "code",
   "execution_count": 237,
   "id": "69163b7a",
   "metadata": {},
   "outputs": [],
   "source": [
    "test_df.to_csv('test_trian.csv',index=False)"
   ]
  },
  {
   "cell_type": "code",
   "execution_count": null,
   "id": "52f8ad5e",
   "metadata": {},
   "outputs": [],
   "source": []
  }
 ],
 "metadata": {
  "kernelspec": {
   "display_name": "Python 3 (ipykernel)",
   "language": "python",
   "name": "python3"
  },
  "language_info": {
   "codemirror_mode": {
    "name": "ipython",
    "version": 3
   },
   "file_extension": ".py",
   "mimetype": "text/x-python",
   "name": "python",
   "nbconvert_exporter": "python",
   "pygments_lexer": "ipython3",
   "version": "3.11.6"
  }
 },
 "nbformat": 4,
 "nbformat_minor": 5
}
